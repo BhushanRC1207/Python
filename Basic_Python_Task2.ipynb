{
 "cells": [
  {
   "cell_type": "code",
   "execution_count": 5,
   "id": "0a2e7808",
   "metadata": {},
   "outputs": [
    {
     "name": "stdout",
     "output_type": "stream",
     "text": [
      "Enter your anual CTC:10000000\n",
      "monthly salary will be- 433333.33\n"
     ]
    }
   ],
   "source": [
    "# Problem 1: Write a program that will give you in hand monthly salary after deduction on CTC - HRA(10%), DA(5%), PF(3%) and taxes deduction as below:\n",
    "'''\n",
    "Salary(Lakhs) : Tax(%)\n",
    "\n",
    "Below 5 : 0%\n",
    "5-10 : 10%\n",
    "10-20 : 20%\n",
    "aboove 20 : 30%\n",
    "'''\n",
    "\n",
    "ctc = int(input('Enter your anual CTC:'))\n",
    "\n",
    "if ctc < 5000000:\n",
    "    salary=ctc*.82\n",
    "elif ctc<1000000:\n",
    "    salary=ctc*.72\n",
    "elif ctc<2000000:\n",
    "    salary=ctc*.62\n",
    "else:\n",
    "    salary=ctc*.52\n",
    "\n",
    "print(\"monthly salary will be-\", round(salary/12,2))\n"
   ]
  },
  {
   "cell_type": "code",
   "execution_count": 4,
   "id": "4bc5818f",
   "metadata": {},
   "outputs": [
    {
     "name": "stdout",
     "output_type": "stream",
     "text": [
      "Enter Angle1: 120\n",
      "Enter Angle2: 30\n",
      "Enter Angle3: 30\n",
      "\n",
      "This Angle's form Triangle\n"
     ]
    }
   ],
   "source": [
    "### `Problem 2`: Write a program that take a user input of three angles and will find out whether it can form a triangle or not.\n",
    "x=int(input(\"Enter Angle1: \"))\n",
    "y=int(input(\"Enter Angle2: \"))\n",
    "z=int(input(\"Enter Angle3: \"))\n",
    "\n",
    "if (x+y+z)==180 and x>0 and y>0 and z>0:\n",
    "    print(\"\\nThis Angle's form Triangle\")\n",
    "else:\n",
    "    \n",
    "    print(\"\\nThis Angle's Not form Triangle\")"
   ]
  },
  {
   "cell_type": "code",
   "execution_count": 20,
   "id": "1882a0f0",
   "metadata": {},
   "outputs": [
    {
     "name": "stdout",
     "output_type": "stream",
     "text": [
      "Enter Cost Price: 12\n",
      "Enter Selling Price: 12\n",
      "No Loss No Profit\n"
     ]
    }
   ],
   "source": [
    "## Problem 3: Write a program that will take user input of cost price and selling price and determines whether its a loss or a profit.\n",
    "cp=int(input(\"Enter Cost Price: \"))\n",
    "sp=int(input(\"Enter Selling Price: \"))\n",
    "\n",
    "if sp>cp:\n",
    "    print(\"\\nits profit\")\n",
    "    profit=sp-cp\n",
    "    print(\"Total profit: \",profit)\n",
    "    print(\"Profit Percentage: \",((profit/cp)*100))\n",
    "elif cp>sp:\n",
    "    print(\"\\nits loss\")\n",
    "    loss=cp-sp\n",
    "    print(\"Total Loss: \",loss)\n",
    "    print(\"Loss Percentage: \",((loss/cp)*100))\n",
    "else:\n",
    "    print(\"No Loss No Profit\")"
   ]
  },
  {
   "cell_type": "code",
   "execution_count": 9,
   "id": "b3f26944",
   "metadata": {},
   "outputs": [
    {
     "name": "stdout",
     "output_type": "stream",
     "text": [
      "\n",
      "# Menu Driven\n",
      "1. cms to ft\n",
      "2. km to miles\n",
      "3. USD to INR\n",
      "4. Exit\n",
      "4\n"
     ]
    }
   ],
   "source": [
    "\"\"\"\n",
    "Problem 4: Write a menu-driven program -\n",
    "cm to ft\n",
    "km to miles\n",
    "USD to INR\n",
    "exit\n",
    "\"\"\"\n",
    "ch=input(\"\"\"\n",
    "# Menu Driven\n",
    "1. cms to ft\n",
    "2. km to miles\n",
    "3. USD to INR\n",
    "4. Exit\n",
    "\"\"\")\n",
    "\n",
    "if ch=='1':\n",
    "    cm=float(input(\"Enter cm: \"))\n",
    "    ft=cm*0.0328084\n",
    "    print(cm,\"cm =\",ft,\"ft\")\n",
    "elif ch=='2':\n",
    "    km=float(input(\"Enter km: \"))\n",
    "    mile=km*0.621371\n",
    "    print(km,\"km =\",mile,\"mile\")\n",
    "elif ch=='3':\n",
    "    inr=float(input(\"Enter INR: \"))\n",
    "    usd=(inr/82)\n",
    "    print(inr,\"INR =\",usd,\"USD\")\n",
    "elif ch=='4':\n",
    "    exit(0)    "
   ]
  },
  {
   "cell_type": "code",
   "execution_count": 2,
   "id": "7b427cc3",
   "metadata": {},
   "outputs": [
    {
     "name": "stdout",
     "output_type": "stream",
     "text": [
      "0\n",
      "1\n",
      "1\n",
      "2\n",
      "3\n",
      "5\n",
      "8\n",
      "13\n",
      "21\n",
      "34\n"
     ]
    }
   ],
   "source": [
    "'''\n",
    "Problem 5 - Exercise 12: Display Fibonacci series up to 10 terms.\n",
    "Note: The Fibonacci Sequence is a series of numbers. The next number is found by adding up the two numbers before it.\n",
    "The first two numbers are 0 and 1. For example, 0, 1, 1, 2, 3, 5, 8, 13, 21. The next number in this series above is 13+21 = 34\n",
    "'''\n",
    "num1,num2 = 0,1\n",
    "\n",
    "for i in range(10):\n",
    "  print(num1)\n",
    "\n",
    "  next = num1 + num2\n",
    "\n",
    "  num1 = num2\n",
    "  num2 = next"
   ]
  },
  {
   "cell_type": "code",
   "execution_count": 3,
   "id": "6249efac",
   "metadata": {},
   "outputs": [
    {
     "name": "stdout",
     "output_type": "stream",
     "text": [
      "enter the number5\n",
      "120\n"
     ]
    }
   ],
   "source": [
    "'''\n",
    "Problem 6 - Find the factorial of a given number.\n",
    "Write a program to use the loop to find the factorial of a given number.\n",
    "\n",
    "The factorial (symbol: !) means to multiply all whole numbers from the chosen number down to 1.\n",
    "\n",
    "For example: calculate the factorial of 5\n",
    "'''\n",
    "\n",
    "num = int(input('enter the number'))\n",
    "\n",
    "fact = 1\n",
    "for i in range(1,num+1):\n",
    "  fact = fact*i\n",
    "\n",
    "print(fact)"
   ]
  },
  {
   "cell_type": "code",
   "execution_count": 5,
   "id": "88d9d50a",
   "metadata": {},
   "outputs": [
    {
     "name": "stdout",
     "output_type": "stream",
     "text": [
      "enter the number12345\n",
      "54321\n"
     ]
    }
   ],
   "source": [
    "# Problem 7 - Reverse a given integer number.\n",
    "number = int(input('enter the number'))\n",
    "\n",
    "rev = 0\n",
    "\n",
    "while number>0:\n",
    "  last = number%10\n",
    "  rev = rev*10 + last\n",
    "  number = number//10\n",
    "\n",
    "print(rev)"
   ]
  },
  {
   "cell_type": "code",
   "execution_count": 9,
   "id": "886da3a5",
   "metadata": {},
   "outputs": [
    {
     "name": "stdout",
     "output_type": "stream",
     "text": [
      "enter the number123\n",
      "321\n",
      "<class 'int'>\n"
     ]
    }
   ],
   "source": [
    "number = int(input('enter the number'))\n",
    "num=str(number)\n",
    "print(num[::-1])\n",
    "number=int(num)\n",
    "print(type(number))"
   ]
  },
  {
   "cell_type": "code",
   "execution_count": 10,
   "id": "7a931aba",
   "metadata": {},
   "outputs": [
    {
     "name": "stdout",
     "output_type": "stream",
     "text": [
      "enter the number50\n",
      "276\n"
     ]
    }
   ],
   "source": [
    "# Problem 8: Take a user input as integer N. Find out the sum from 1 to N. If any number if divisible by 5,\n",
    "#then skip that number. And if the sum is greater than 300, don't need to calculate the sum further more.\n",
    "#Print the final result. And don't use for loop to solve this problem.\n",
    "\n",
    "N = int(input('enter the number'))\n",
    "sum = 0\n",
    "i = 1\n",
    "\n",
    "while i < N+1:\n",
    "  if i % 5 == 0:\n",
    "    i+=1\n",
    "    continue\n",
    "\n",
    "  sum += i\n",
    "\n",
    "  if sum > 300:\n",
    "    sum = sum - i\n",
    "    break\n",
    "\n",
    "  i+=1\n",
    "\n",
    "print(sum)\n"
   ]
  },
  {
   "cell_type": "code",
   "execution_count": 6,
   "id": "9043da63",
   "metadata": {},
   "outputs": [
    {
     "name": "stdout",
     "output_type": "stream",
     "text": [
      "enter the number50\n",
      "276\n"
     ]
    }
   ],
   "source": [
    "N = int(input('enter the number'))\n",
    "sum = 0\n",
    "\n",
    "for i in range(1,N+1):\n",
    "  if i % 5 == 0:\n",
    "    continue\n",
    "\n",
    "  sum += i\n",
    "\n",
    "  if sum > 300:\n",
    "    sum -= i\n",
    "    break\n",
    "\n",
    "\n",
    "print(sum)"
   ]
  },
  {
   "cell_type": "code",
   "execution_count": 11,
   "id": "2df1c6aa",
   "metadata": {},
   "outputs": [
    {
     "name": "stdout",
     "output_type": "stream",
     "text": [
      "enter number1\n",
      "enter number2\n",
      "enter number3\n",
      "enter number0\n",
      "sum 6\n",
      "avg 2.0\n"
     ]
    }
   ],
   "source": [
    "# Problem 9: Write a program that keeps on accepting a number from the user until the user enters Zero. \n",
    "# Display the sum and average of all the numbers.\n",
    "sum = 0\n",
    "count = 0\n",
    "\n",
    "while True:\n",
    "  num = int(input('enter number'))\n",
    "  if num == 0:\n",
    "    break\n",
    "  sum = sum + num\n",
    "  count = count + 1\n",
    "\n",
    "print('sum',sum)\n",
    "print('avg',sum/count)"
   ]
  },
  {
   "cell_type": "code",
   "execution_count": 7,
   "id": "fef4232f",
   "metadata": {},
   "outputs": [
    {
     "name": "stdout",
     "output_type": "stream",
     "text": [
      "2002,2009,2016,2023,2037,2044,2051,2058,2072,2079,2086,2093,2107,2114,2121,2128,2142,2149,2156,2163,2177,2184,2191,2198,2212,2219,2226,2233,2247,2254,2261,2268,2282,2289,2296,2303,2317,2324,2331,2338,2352,2359,2366,2373,2387,2394,2401,2408,2422,2429,2436,2443,2457,2464,2471,2478,2492,2499,2506,2513,2527,2534,2541,2548,2562,2569,2576,2583,2597,2604,2611,2618,2632,2639,2646,2653,2667,2674,2681,2688,2702,2709,2716,2723,2737,2744,2751,2758,2772,2779,2786,2793,2807,2814,2821,2828,2842,2849,2856,2863,2877,2884,2891,2898,2912,2919,2926,2933,2947,2954,2961,2968,2982,2989,2996,3003,3017,3024,3031,3038,3052,3059,3066,3073,3087,3094,3101,3108,3122,3129,3136,3143,3157,3164,3171,3178,3192,3199\n"
     ]
    }
   ],
   "source": [
    "# Problem 9: Write a program which will find all such numbers which are divisible by 7 but are not a multiple of 5,\n",
    "# between 2000 and 3200 (both included). The numbers obtained should be printed in a comma-separated sequence on a single line.\n",
    "L = []\n",
    "for i in range(2000,3201):\n",
    "  if i % 7 == 0 and i % 5 != 0:\n",
    "    L.append(str(i))\n",
    "\n",
    "print(\",\".join(L))\n"
   ]
  },
  {
   "cell_type": "code",
   "execution_count": 19,
   "id": "5e74b16f",
   "metadata": {},
   "outputs": [
    {
     "name": "stdout",
     "output_type": "stream",
     "text": [
      "2000,2002,2004,2006,2008,2020,2022,2024,2026,2028,2040,2042,2044,2046,2048,2060,2062,2064,2066,2068,2080,2082,2084,2086,2088,2200,2202,2204,2206,2208,2220,2222,2224,2226,2228,2240,2242,2244,2246,2248,2260,2262,2264,2266,2268,2280,2282,2284,2286,2288,2400,2402,2404,2406,2408,2420,2422,2424,2426,2428,2440,2442,2444,2446,2448,2460,2462,2464,2466,2468,2480,2482,2484,2486,2488,2600,2602,2604,2606,2608,2620,2622,2624,2626,2628,2640,2642,2644,2646,2648,2660,2662,2664,2666,2668,2680,2682,2684,2686,2688,2800,2802,2804,2806,2808,2820,2822,2824,2826,2828,2840,2842,2844,2846,2848,2860,2862,2864,2866,2868,2880,2882,2884,2886,2888\n"
     ]
    }
   ],
   "source": [
    "\n",
    "# Problem 10: Write a program, which will find all such numbers between 1000 and 3000 (both included) such that each digit of the number is an even number. The numbers obtained should be printed in a space-separated sequence on a single line.\n",
    "L = []\n",
    "for i in range(1000,3001):\n",
    "  flag = True\n",
    "\n",
    "  curr = i\n",
    "\n",
    "  while curr > 0:\n",
    "    last = curr%10\n",
    "    if last % 2 != 0:\n",
    "      flag = False\n",
    "      break\n",
    "    curr = curr//10\n",
    "\n",
    "  if flag == True:\n",
    "    L.append(str(i))\n",
    "\n",
    "print(\",\".join(L))"
   ]
  },
  {
   "cell_type": "code",
   "execution_count": 4,
   "id": "1a06929d",
   "metadata": {},
   "outputs": [
    {
     "name": "stdout",
     "output_type": "stream",
     "text": [
      "Enter the robot path: UP 5\n",
      "Enter the robot path: DOWN 5\n",
      "Enter the robot path: RIGHT 5\n",
      "Enter the robot path: LEFT 5\n",
      "Enter the robot path: !\n",
      "new pos:  [0, 0]\n",
      "Distance of new point from origin:  0.0\n"
     ]
    }
   ],
   "source": [
    "# Problem 11: A robot moves in a plane starting from the original point (0,0). The robot can move toward UP, DOWN, LEFT and RIGHT with a given steps.\n",
    "pos = [0,0] #(x,y)\n",
    "while True:\n",
    "  s = input('Enter the robot path: ')\n",
    "  if s == '!':\n",
    "    break\n",
    "  direction = s.split()[0]\n",
    "  steps = int(s.split()[1])\n",
    "\n",
    "  if direction == 'UP':\n",
    "    pos[1] = pos[1] + steps\n",
    "  elif direction == 'DOWN':\n",
    "    pos[1] = pos[1] - steps\n",
    "  elif direction == 'LEFT':\n",
    "    pos[0] = pos[0] - steps\n",
    "  elif direction == 'RIGHT':\n",
    "    pos[0] = pos[0] + steps\n",
    "  else:\n",
    "    pass\n",
    "\n",
    "print('new pos: ',pos)\n",
    "print(\"Distance of new point from origin: \",(pos[0]**2 + pos[1]**2)**0.5)\n"
   ]
  },
  {
   "cell_type": "code",
   "execution_count": 23,
   "id": "0edf9670",
   "metadata": {},
   "outputs": [
    {
     "name": "stdout",
     "output_type": "stream",
     "text": [
      "enter the num11\n",
      "Prime\n"
     ]
    }
   ],
   "source": [
    "# Problem 12:Write a program to print whether a given number is a prime number or not\n",
    "num = int(input('enter the num: '))\n",
    "\n",
    "flag = True\n",
    "for i in range(2,num):\n",
    "  if num%i == 0:\n",
    "    flag = False\n",
    "    break\n",
    "\n",
    "if flag == True:\n",
    "  print('Prime')\n",
    "else:\n",
    "  print('Not Prime')\n"
   ]
  },
  {
   "cell_type": "code",
   "execution_count": 25,
   "id": "f938f864",
   "metadata": {},
   "outputs": [
    {
     "name": "stdout",
     "output_type": "stream",
     "text": [
      "Enter the start of the range: 0\n",
      "Enter the end of the range: 200\n",
      "0\n",
      "1\n",
      "2\n",
      "3\n",
      "4\n",
      "5\n",
      "6\n",
      "7\n",
      "8\n",
      "9\n",
      "153\n"
     ]
    }
   ],
   "source": [
    "# Print all the Armstrong numbers in a given range.\n",
    "start = int(input(\"Enter the start of the range: \"))\n",
    "end = int(input(\"Enter the end of the range: \"))\n",
    "\n",
    "for num in range(start, end+1):\n",
    "    temp = num\n",
    "    sum = 0\n",
    "    order = len(str(num))\n",
    "    while temp > 0:\n",
    "        digit = temp % 10\n",
    "        sum += digit ** order\n",
    "        temp //= 10\n",
    "    if num == sum:\n",
    "        print(num)\n"
   ]
  },
  {
   "cell_type": "code",
   "execution_count": 27,
   "id": "85ca33aa",
   "metadata": {},
   "outputs": [
    {
     "name": "stdout",
     "output_type": "stream",
     "text": [
      "Enter hours hand-12\n",
      "Enter minute hand-00\n",
      "0.0\n"
     ]
    }
   ],
   "source": [
    "# Problem 14:Calculate the angle between the hour hand and minute hand.\n",
    "h = int(input('Enter hours hand-'))\n",
    "m = int(input('Enter minute hand-'))\n",
    "\n",
    "# validate the input\n",
    "if (h < 0 or m < 0 or h > 12 or m > 60):\n",
    "    print('Wrong input')\n",
    "\n",
    "# Idea is to minute angle - hour agnle from clockwise from 12 hour point\n",
    "\n",
    "# 1 minute in minute angle manke 6 degree. (60 minute -> 360 degree)\n",
    "m_angle = m*6\n",
    "\n",
    "# every hour point yeilds to 30degree-- 12 hours-360degree plus if minute hand moves hour hands move too\n",
    "# Every minute after hour hand take 0.5 degree movement. clockwise\n",
    "h_angle = h*30 + m*0.5\n",
    "\n",
    "# Take abs difference b/w them\n",
    "angle = abs(h_angle - m_angle)\n",
    "\n",
    "\n",
    "if angle>180:\n",
    "    print(360-angle)\n",
    "else:\n",
    "    print(angle)"
   ]
  },
  {
   "cell_type": "code",
   "execution_count": 8,
   "id": "952a3061",
   "metadata": {},
   "outputs": [
    {
     "name": "stdout",
     "output_type": "stream",
     "text": [
      "Enter both Rectangel points coordinates <x y>\n",
      "Enter L1 coordinate value  (Two value space seperated):1 2 \n",
      "Enter r1 coordinate value,(Two value space seperated):3 4\n",
      "Enter L2 coordinate value,(Two value space seperated):1 2\n",
      "Enter r2 coordinate value,(Two value space seperated):3 4\n",
      "Don't Overlap\n"
     ]
    }
   ],
   "source": [
    "# Problem 15:Given two rectangles, find if the given two rectangles overlap or not. A rectangle is denoted by providing the x and y coordinates of two points: the left top corner and the right bottom corner of the rectangle. Two rectangles sharing a side are considered overlapping. (L1 and R1 are the extreme points of the first rectangle and L2 and R2 are the extreme points of the second rectangle).\n",
    "print(\"Enter both Rectangel points coordinates <x y>\")\n",
    "\n",
    "l1_x, l1_y = list(map(int, input('Enter L1 coordinate value  (Two value space seperated):').split()))\n",
    "r1_x, r1_y = list(map(int, input('Enter r1 coordinate value,(Two value space seperated):').split()))\n",
    "\n",
    "l2_x, l2_y = list(map(int, input('Enter L2 coordinate value,(Two value space seperated):').split()))\n",
    "r2_x, r2_y = list(map(int, input('Enter r2 coordinate value,(Two value space seperated):').split()))\n",
    "\n",
    "# if rectangle has area 0, no overlap\n",
    "if l1_x == r1_x or l1_y == r1_y or r2_x == l2_x or l2_y == r2_y:\n",
    "  print(\"Don't Overlap\")\n",
    "  \n",
    "# If one rectangle is on left side of other\n",
    "elif l1_x > r2_x or l2_x > r1_x:\n",
    "  print(\"Don't Overlap\")\n",
    "\n",
    "# If one rectangle is above other\n",
    "elif r1_y > l2_y or r2_y > l1_y:\n",
    "  print(\"Don't Overlap\")\n",
    "else:\n",
    "  print(\"Overlap\")"
   ]
  },
  {
   "cell_type": "code",
   "execution_count": null,
   "id": "ed8fb371",
   "metadata": {},
   "outputs": [],
   "source": []
  }
 ],
 "metadata": {
  "kernelspec": {
   "display_name": "Python 3 (ipykernel)",
   "language": "python",
   "name": "python3"
  },
  "language_info": {
   "codemirror_mode": {
    "name": "ipython",
    "version": 3
   },
   "file_extension": ".py",
   "mimetype": "text/x-python",
   "name": "python",
   "nbconvert_exporter": "python",
   "pygments_lexer": "ipython3",
   "version": "3.10.9"
  }
 },
 "nbformat": 4,
 "nbformat_minor": 5
}
