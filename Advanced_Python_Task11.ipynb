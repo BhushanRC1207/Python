{
 "cells": [
  {
   "cell_type": "markdown",
   "id": "b88ef239",
   "metadata": {},
   "source": [
    "## Exception Handling"
   ]
  },
  {
   "cell_type": "markdown",
   "id": "6b38d87e",
   "metadata": {},
   "source": [
    "### `Q-1`: You are given a function definition. There might be several issues on execution of this function. You are asked to do exception handling for diffrent errors that this function goes in to `without altering this function`. And print error text.\n",
    "\n",
    "Function parameters `l -> list, s -> could be anything`\n",
    "\n",
    "```\n",
    "def function(l: list, s, **args):\n",
    "    last_element = l[-1]\n",
    "    \n",
    "    l[int(s)]=10\n",
    "    any_element = l[int(s)+10]\n",
    "    l[s]=10\n",
    "    \n",
    "    res = sum(l)\n",
    "    \n",
    "    p = args['p']\n",
    "    # print(p)\n",
    "    return res/last_element * p + any_element\n",
    "\n",
    "```\n",
    "Check for different function calls:-\n",
    "\n",
    "```\n",
    "function([1,2,1], 12)\n",
    "function([1,2,1]*9, '1-2')\n",
    "function([1,'2',1]*9, 12)\n",
    "function([1,'2',1]*9, 12)\n",
    "function([1,2,0]*9, 12  )\n",
    "function([1,2,1]*9, 12, p=None)\n",
    "function([1,2,0]*9, 12, p=10)\n",
    "```"
   ]
  },
  {
   "cell_type": "code",
   "execution_count": 2,
   "id": "b85ecd67",
   "metadata": {},
   "outputs": [
    {
     "name": "stdout",
     "output_type": "stream",
     "text": [
      "<class 'ZeroDivisionError'>\n",
      "division by zero\n",
      "Thank You\n"
     ]
    }
   ],
   "source": [
    "def function(l: list, s, **args):\n",
    "    last_element = l[-1]\n",
    "    \n",
    "    l[int(s)]=10\n",
    "    any_element = l[int(s)+10]\n",
    "    l[s]=10\n",
    "    \n",
    "    res = sum(l)\n",
    "    \n",
    "    p = args['p']\n",
    "    # print(p)\n",
    "    return res/last_element * p + any_element\n",
    "\n",
    "try:\n",
    "    res=function([1,2,0]*9, 12, p=10)\n",
    "except IndexError as i:\n",
    "    print(type(i))\n",
    "    print(i)\n",
    "except ValueError as v:\n",
    "    print(type(v))\n",
    "    print(v)\n",
    "except TypeError as t:\n",
    "    print(type(t))\n",
    "    print(t)\n",
    "except KeyError as k:\n",
    "    print(type(k))\n",
    "    print(k)\n",
    "except ZeroDivisionError as z:\n",
    "    print(type(z))\n",
    "    print(z)\n",
    "else:\n",
    "    print(\"Result: \",res)\n",
    "finally:\n",
    "    print('Thank You')"
   ]
  },
  {
   "cell_type": "markdown",
   "id": "e7d332c3",
   "metadata": {},
   "source": [
    "### `Q-2:` You are given a code snippet. There might be several issues on execution of this code. You are asked to do exception handling for diffrent errors, condition is what ever happens we need to execute last line printing correct result of `sum of elements`.\n",
    "\n",
    "List have elemnts as any no of  `key-pair dict with key as list index and value as any integer`, `integers` and `numeric-strings`. There is always only one element in the dict.\n",
    "\n",
    "\n",
    "```\n",
    "l = [{0:2},2,3,4,'5', {5:10}]\n",
    "# For calculating sum of above list\n",
    "s=0\n",
    "for i in range(len(l)):\n",
    "    #You can Edit code from here\n",
    "    s += l[i].get(i)\n",
    "    s += l[i]\n",
    "    s += int(l[i])\n",
    "\n",
    "\n",
    "print(s)\n",
    "```"
   ]
  },
  {
   "cell_type": "code",
   "execution_count": 3,
   "id": "6ccfc9dc",
   "metadata": {},
   "outputs": [
    {
     "name": "stdout",
     "output_type": "stream",
     "text": [
      "26\n"
     ]
    }
   ],
   "source": [
    "l = [{0:2},2,3,4,'5', {5:10}]\n",
    "# For calculating sum of above list\n",
    "s=0\n",
    "for i in range(len(l)):\n",
    "    try:\n",
    "        s+=l[i]\n",
    "    except TypeError:\n",
    "        try:\n",
    "            s+=l[i].get(i)\n",
    "        except AttributeError:\n",
    "            s+=int(l[i])\n",
    "            \n",
    "print(s)"
   ]
  },
  {
   "cell_type": "markdown",
   "id": "d2fcee44",
   "metadata": {},
   "source": [
    "### `Q-3:`: File Handling with Exception handling\n",
    "\n",
    "Write a program that opens a text file and write data to it as \"Hello, Good Morning!!!\". Handle exceptions that can be generated during the I/O operations. Do not show the success message on the main exception handling block (write inside the else block)."
   ]
  },
  {
   "cell_type": "code",
   "execution_count": 5,
   "id": "27b33688",
   "metadata": {},
   "outputs": [
    {
     "name": "stdout",
     "output_type": "stream",
     "text": [
      "File written successfully\n"
     ]
    }
   ],
   "source": [
    "try:\n",
    "    with open('task_sol11.txt','w') as f:\n",
    "        f.write(\"Hello, Good Morning!!!\")\n",
    "except IOError:\n",
    "    print('Error working with file')\n",
    "else:\n",
    "    print('File written successfully')"
   ]
  },
  {
   "cell_type": "markdown",
   "id": "2bb5a0cc",
   "metadata": {},
   "source": [
    "### `Q-4`: Number game program.\n",
    "\n",
    "Write a number game program. Ask the user to enter a number. If the number is greater than number to be guessed, raise a **ValueTooLarge** exception. If the value is smaller the number to be guessed the, raise a **ValueTooSmall** exception and prompt the user to enter again. Quit the program only when the user enters the correct number. Also raise **GuessError** if user guess a number less than 1."
   ]
  },
  {
   "cell_type": "code",
   "execution_count": 6,
   "id": "835201ef",
   "metadata": {},
   "outputs": [
    {
     "name": "stdout",
     "output_type": "stream",
     "text": [
      "Enter a Number: 5\n",
      "Input value is too small\n",
      "Enter a Number: 56\n",
      "Input value is too large\n",
      "Enter a Number: 45\n",
      "Input value is too large\n",
      "Enter a Number: 34\n",
      "Input value is too large\n",
      "Enter a Number: 23\n",
      "You Win\n"
     ]
    }
   ],
   "source": [
    "import random\n",
    "\n",
    "class ValueTooLarge(Exception):\n",
    "    def display(self):\n",
    "        print('Input value is too large')\n",
    "\n",
    "class ValueTooSmall(Exception):\n",
    "    def display(self):\n",
    "        print('Input value is too small')\n",
    "        \n",
    "class GuessError(Exception):\n",
    "    def display(self):\n",
    "        print('Guess the number between 1 and 100')\n",
    "        \n",
    "num=random.randint(1,100)\n",
    "\n",
    "while True:\n",
    "    try:\n",
    "        guess=int(input('Enter a Number: '))\n",
    "\n",
    "        if guess<1:\n",
    "            raise GuessError\n",
    "\n",
    "        if guess==num:\n",
    "            print('You Win')\n",
    "            break\n",
    "\n",
    "        if guess<num:\n",
    "            raise ValueTooSmall\n",
    "\n",
    "        if guess>num:\n",
    "            raise ValueTooLarge\n",
    "    \n",
    "    except ValueTooSmall as s:\n",
    "        s.display()\n",
    "    except ValueTooLarge as l:\n",
    "        l.display()\n",
    "    except GuessError as g:\n",
    "        g.display()"
   ]
  },
  {
   "cell_type": "markdown",
   "id": "41608c44",
   "metadata": {},
   "source": [
    "### `Q-5:` Cast vote\n",
    "\n",
    "Write a program that validate name and age as entered by the user to determine whether the person can cast vote or not. To handle the age, create **InvalidAge** exception and for name, create **InvalidName** exception. The name will be invalid when the string will be empty or name has only one word.\n",
    "\n",
    "Example 1:\n",
    "\n",
    "Input:\n",
    "\n",
    "```bash\n",
    "Enter the name:               goransh singh\n",
    "Enter the age: 25\n",
    "```\n",
    "\n",
    "Output:\n",
    "\n",
    "```bash\n",
    "Goransh Singh  Congratulation !!! You can vote.\n",
    "```"
   ]
  },
  {
   "cell_type": "code",
   "execution_count": 7,
   "id": "cd06696c",
   "metadata": {},
   "outputs": [
    {
     "name": "stdout",
     "output_type": "stream",
     "text": [
      "Enter Name: Bhushan R chitte\n",
      "Enter Age: 20\n",
      "You can Vote\n",
      "Thank You\n"
     ]
    }
   ],
   "source": [
    "class InvalidAge(Exception):\n",
    "    def display(self):\n",
    "        print(\"You can't vote\")\n",
    "\n",
    "class InvalidName(Exception):\n",
    "    def display(self):\n",
    "        print('Enter valid Name')\n",
    "        \n",
    "try:\n",
    "    name=input('Enter Name: ')\n",
    "    if len(name)==0 or len(name.split())<2:\n",
    "        raise InvalidName\n",
    "        \n",
    "    age=int(input('Enter Age: '))\n",
    "    if age<18:\n",
    "        raise InvalidAge\n",
    "        \n",
    "except InvalidName as i:\n",
    "    i.display()\n",
    "except InvalidAge as a:\n",
    "    a.display()\n",
    "else:\n",
    "    print(\"You can Vote\")\n",
    "finally:\n",
    "    print('Thank You')"
   ]
  },
  {
   "cell_type": "markdown",
   "id": "2598c1c9",
   "metadata": {},
   "source": [
    "### `Q-6`: Write a python function which infinitely prints natural numbers in a single line. Raise the **StopIteration** exception after displaying first 20 numnbers to exit from the program."
   ]
  },
  {
   "cell_type": "code",
   "execution_count": 8,
   "id": "8d3a8a5d",
   "metadata": {},
   "outputs": [
    {
     "name": "stdout",
     "output_type": "stream",
     "text": [
      "101 102 103 104 105 106 107 108 109 110 111 112 113 114 115 116 117 118 119 120 "
     ]
    }
   ],
   "source": [
    "def display(n):\n",
    "    i=0\n",
    "    while True:\n",
    "        try:\n",
    "            n+=1\n",
    "            i+=1\n",
    "            if i==21:\n",
    "                raise StopIteration\n",
    "        except StopIteration:\n",
    "            break\n",
    "        else:\n",
    "            print(n,end=' ')\n",
    "            \n",
    "display(100)"
   ]
  },
  {
   "cell_type": "code",
   "execution_count": null,
   "id": "4f9b7932",
   "metadata": {},
   "outputs": [],
   "source": []
  }
 ],
 "metadata": {
  "kernelspec": {
   "display_name": "Python 3 (ipykernel)",
   "language": "python",
   "name": "python3"
  },
  "language_info": {
   "codemirror_mode": {
    "name": "ipython",
    "version": 3
   },
   "file_extension": ".py",
   "mimetype": "text/x-python",
   "name": "python",
   "nbconvert_exporter": "python",
   "pygments_lexer": "ipython3",
   "version": "3.10.9"
  }
 },
 "nbformat": 4,
 "nbformat_minor": 5
}
