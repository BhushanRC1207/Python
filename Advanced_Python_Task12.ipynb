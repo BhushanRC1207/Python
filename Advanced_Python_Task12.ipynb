{
 "cells": [
  {
   "cell_type": "markdown",
   "id": "9760d54a",
   "metadata": {},
   "source": [
    "## Namespace and Scope"
   ]
  },
  {
   "cell_type": "markdown",
   "id": "f9b6c313",
   "metadata": {},
   "source": [
    "### `Q1:` Write `Person` Class as given below and then display it's namespace.\n",
    "\n",
    "```\n",
    "Class Name - Person\n",
    "\n",
    "Attributes:\n",
    "name - public\n",
    "state - public\n",
    "city - private\n",
    "age - private\n",
    "\n",
    "Methods:\n",
    "address - public\n",
    "It give address of the person as \"<name>, <city>, <state>\"\n",
    "```"
   ]
  },
  {
   "cell_type": "code",
   "execution_count": 2,
   "id": "063e9fd7",
   "metadata": {},
   "outputs": [
    {
     "name": "stdout",
     "output_type": "stream",
     "text": [
      "__module__\n",
      "__init__\n",
      "set_city\n",
      "get_city\n",
      "set_age\n",
      "get_age\n",
      "address\n",
      "__dict__\n",
      "__weakref__\n",
      "__doc__\n"
     ]
    }
   ],
   "source": [
    "class Person:\n",
    "    def __init__(self,name,state):\n",
    "        self.name=name\n",
    "        self.state=state\n",
    "        self.__city=None\n",
    "        self.__age=None\n",
    "        \n",
    "    def set_city(self,city):\n",
    "        self.__city=city\n",
    "    def get_city(self):\n",
    "        return self.__city\n",
    "    \n",
    "    def set_age(self,age):\n",
    "        self.__age=age\n",
    "    def get_age(self):\n",
    "        return self.__age\n",
    "    \n",
    "    def address(self):\n",
    "        return f'{self.name},{self.__city},{self.state}'\n",
    "    \n",
    "for i in Person.__dict__:\n",
    "    print(i)"
   ]
  },
  {
   "cell_type": "markdown",
   "id": "8ed9ccfb",
   "metadata": {},
   "source": [
    "### `Q2:` Write a program to show namespace of object/instance of above(Person) class."
   ]
  },
  {
   "cell_type": "code",
   "execution_count": 4,
   "id": "a1ed0e36",
   "metadata": {},
   "outputs": [
    {
     "name": "stdout",
     "output_type": "stream",
     "text": [
      "Address:  Bhushan,Nashik,Maharashtra\n",
      "name\n",
      "state\n",
      "_Person__city\n",
      "_Person__age\n"
     ]
    }
   ],
   "source": [
    "p=Person('Bhushan','Maharashtra')\n",
    "p.set_city('Nashik')\n",
    "p.set_age(20)\n",
    "print('Address: ',p.address())\n",
    "\n",
    "for i in p.__dict__:\n",
    "    print(i)"
   ]
  },
  {
   "cell_type": "markdown",
   "id": "2653053e",
   "metadata": {},
   "source": [
    "### `Q3:` Write a recursive program to to calculate `gcd` and print no. of function calls taken to find the solution.\n",
    "```\n",
    "gcd(5,10) -> result in 5 as gcd and function call 4\n",
    "```"
   ]
  },
  {
   "cell_type": "code",
   "execution_count": 5,
   "id": "5a223c94",
   "metadata": {},
   "outputs": [
    {
     "name": "stdout",
     "output_type": "stream",
     "text": [
      "5 2\n"
     ]
    }
   ],
   "source": [
    "counter=0\n",
    "def gcd(a,b):\n",
    "    global counter\n",
    "    counter+=1\n",
    "    if b==0:\n",
    "        return a\n",
    "    else:\n",
    "        return gcd(b,a%b)\n",
    "print(gcd(10,5),counter)"
   ]
  },
  {
   "cell_type": "markdown",
   "id": "cf7999df",
   "metadata": {},
   "source": [
    "## Iterator And Generator"
   ]
  },
  {
   "cell_type": "markdown",
   "id": "f2dbae34",
   "metadata": {},
   "source": [
    "### `Q4:` Create MyEnumerate class, \n",
    "Create your own `MyEnumerate` class such that someone can use it instead of enumerate. It will need to return a `tuple` with each iteration, with the first element in the tuple being the `index` (starting with 0) and the second element being the `current element` from the underlying data structure. Trying to use `MyEnumerate` with a noniterable argument will result in an error.\n",
    "\n",
    "```\n",
    "for index, letter in MyEnumerate('abc'):\n",
    "    print(f'{index} : {letter}')\n",
    "```\n",
    "\n",
    "Output:\n",
    "```\n",
    "0 : a\n",
    "1 : b\n",
    "2 : c\n",
    "```"
   ]
  },
  {
   "cell_type": "code",
   "execution_count": 6,
   "id": "e24641d5",
   "metadata": {},
   "outputs": [
    {
     "name": "stdout",
     "output_type": "stream",
     "text": [
      "0:a\n",
      "1:b\n",
      "2:c\n"
     ]
    }
   ],
   "source": [
    "class MyEnumerateIterator:\n",
    "    def __init__(self,data,max_items):\n",
    "        self.data=data\n",
    "        self.max_items=max_items\n",
    "        self.index=0\n",
    "\n",
    "    def __next__(self):\n",
    "        if self.index>=self.max_items:\n",
    "            raise StopIteration\n",
    "        value=(self.index,self.data[self.index])\n",
    "        self.index+=1\n",
    "        return value\n",
    "    \n",
    "class MyEnumerate:\n",
    "    def __init__(self,data):\n",
    "        self.data=data\n",
    "        \n",
    "    def __iter__(self):\n",
    "        return MyEnumerateIterator(self.data,len(self.data))\n",
    "\n",
    "for index,letter in MyEnumerate('abc'):\n",
    "    print(f'{index}:{letter}')"
   ]
  },
  {
   "cell_type": "code",
   "execution_count": 8,
   "id": "d160f891",
   "metadata": {},
   "outputs": [
    {
     "name": "stdout",
     "output_type": "stream",
     "text": [
      "0:a\n",
      "1:b\n",
      "2:c\n"
     ]
    }
   ],
   "source": [
    "class MyEnumerate:\n",
    "    def __init__(self,data):\n",
    "        self.data=data\n",
    "        self.index=0\n",
    "    \n",
    "    def __iter__(self):\n",
    "        return self\n",
    "\n",
    "    def __next__(self):\n",
    "        if self.index >= len(self.data):\n",
    "            raise StopIteration\n",
    "        value=(self.index,self.data[self.index])\n",
    "        self.index+=1\n",
    "        return value\n",
    "    \n",
    "for index,letter in MyEnumerate('abc'):\n",
    "    print(f'{index}:{letter}')"
   ]
  },
  {
   "cell_type": "markdown",
   "id": "b66fce9f",
   "metadata": {},
   "source": [
    "### `Q5:` Iterate in circle\n",
    "Define a class, `Circle`, that takes two arguments when defined: a sequence and a number. The idea is that the object will then return elements the defined number of times. If the number is greater than the number of elements, then the sequence  repeats as necessary. You can define an another class used as a helper (like I call `CircleIterator`).\n",
    "\n",
    "```\n",
    "c = Circle('abc', 5)\n",
    "d = Circle('abc', 7)\n",
    "print(list(c))\n",
    "print(list(d))\n",
    "```\n",
    "\n",
    "Output\n",
    "```\n",
    "[a, b, c, a, b]\n",
    "[a, b, c, a, b, c, a]\n",
    "```"
   ]
  },
  {
   "cell_type": "code",
   "execution_count": 10,
   "id": "26ee3bf1",
   "metadata": {},
   "outputs": [
    {
     "name": "stdout",
     "output_type": "stream",
     "text": [
      "['a', 'b', 'c', 'a', 'b']\n",
      "['a', 'b', 'c', 'a', 'b', 'c', 'a']\n"
     ]
    }
   ],
   "source": [
    "class Circle:\n",
    "    def __init__(self,data,max_iters):\n",
    "        self.data=data\n",
    "        self.index=0\n",
    "        self.max_iters=max_iters\n",
    "        \n",
    "    def __iter__(self):\n",
    "        return self\n",
    "    \n",
    "    def __next__(self):\n",
    "        if self.index >= self.max_iters:\n",
    "            raise StopIteration\n",
    "        value=self.data[self.index % len(self.data)]\n",
    "        self.index+=1\n",
    "        return value\n",
    "    \n",
    "c=Circle('abc',5)\n",
    "d=Circle('abc',7)\n",
    "print(list(c))\n",
    "print(list(d))"
   ]
  },
  {
   "cell_type": "markdown",
   "id": "54b2a44d",
   "metadata": {},
   "source": [
    "### `Q6:` Generator time elapsed\n",
    "Write a generator function whose argument must be iterable. With each iteration, the generator will return a two-element tuple. The first element in the tuple will be an integer indicating how many seconds have passed since the previous iteration. The tuple’s second element will be the next item from the passed argument.\n",
    "\n",
    "Note that the timing should be relative to the previous iteration, not when the\n",
    "generator was first created or invoked. Thus the timing number in the first iteration\n",
    "will be 0\n",
    "\n",
    "```\n",
    "for t in elapsed_since('abcd'):\n",
    "    print(t)\n",
    "    time.sleep(2)\n",
    "```\n",
    "\n",
    "Output:\n",
    "```\n",
    "(0.0, 'a')\n",
    "(2.005651817999933, 'b')\n",
    "(2.0023095009998997, 'c')\n",
    "(2.001949742000079, 'd')\n",
    "```\n",
    "Note: Your output may differ because of diffrent system has different processing configuration."
   ]
  },
  {
   "cell_type": "code",
   "execution_count": 11,
   "id": "e5b31e35",
   "metadata": {},
   "outputs": [
    {
     "name": "stdout",
     "output_type": "stream",
     "text": [
      "(1.5995465219020844e-06, 'a')\n",
      "(2.0093775000423193, 'b')\n",
      "(2.0047422000207007, 'c')\n",
      "(2.0043741003610194, 'd')\n"
     ]
    }
   ],
   "source": [
    "import time\n",
    "def elapsed_since(data):\n",
    "    last_time=time.perf_counter()\n",
    "    for item in data:\n",
    "        current_time=time.perf_counter()\n",
    "        delta=current_time-last_time\n",
    "        last_time=current_time\n",
    "        yield(delta,item)\n",
    "        \n",
    "for t in elapsed_since('abcd'):\n",
    "    print(t)\n",
    "    time.sleep(2)"
   ]
  },
  {
   "cell_type": "markdown",
   "id": "9847646e",
   "metadata": {},
   "source": [
    "## Decorators"
   ]
  },
  {
   "cell_type": "markdown",
   "id": "711c1b05",
   "metadata": {},
   "source": [
    "### `Q7:` Write a Python program to make a chain of function decorators (bold, italic, underline etc.) on a given function which prints \"hello world\"\n",
    "\n",
    "```\n",
    "def hello():\n",
    "    return \"hello world\"\n",
    "```\n",
    "\n",
    "```\n",
    "bold - wrap string with <b> tag. <b>Str</b>\n",
    "italic - wrap string with <i> tag. <i>Str</i>\n",
    "underline- wrap string with <u> tag. <u>Str</u>\n",
    "```"
   ]
  },
  {
   "cell_type": "code",
   "execution_count": 12,
   "id": "378af5eb",
   "metadata": {},
   "outputs": [
    {
     "name": "stdout",
     "output_type": "stream",
     "text": [
      "<b><i><u>Hello World</u></i></b>\n"
     ]
    }
   ],
   "source": [
    "def make_bold(func):\n",
    "    def wrapped():\n",
    "        return \"<b>\"+func()+\"</b>\"\n",
    "    return wrapped\n",
    "\n",
    "def make_italic(func):\n",
    "    def wrapped():\n",
    "        return \"<i>\"+func()+\"</i>\"\n",
    "    return wrapped\n",
    "\n",
    "def make_underline(func):\n",
    "    def wrapped():\n",
    "        return \"<u>\"+func()+\"</u>\"\n",
    "    return wrapped\n",
    "\n",
    "@make_bold\n",
    "@make_italic\n",
    "@make_underline\n",
    "def hello():\n",
    "    return \"Hello World\"\n",
    "\n",
    "print(hello())"
   ]
  },
  {
   "cell_type": "markdown",
   "id": "1105ad25",
   "metadata": {},
   "source": [
    "### `Q8:` Write a decorator called `printer` which causes any decorated function to print their return values. If the return value of a given function is `None`, printer should do nothing.\n",
    "\n"
   ]
  },
  {
   "cell_type": "code",
   "execution_count": 15,
   "id": "853cb725",
   "metadata": {},
   "outputs": [
    {
     "name": "stdout",
     "output_type": "stream",
     "text": [
      "hello\n"
     ]
    },
    {
     "data": {
      "text/plain": [
       "'hello'"
      ]
     },
     "execution_count": 15,
     "metadata": {},
     "output_type": "execute_result"
    }
   ],
   "source": [
    "def printer(func):\n",
    "    def inner(*args,**kwargs):\n",
    "        return_value=func(*args,**kwargs)\n",
    "        if return_value is not None:\n",
    "            print(return_value)\n",
    "        return return_value\n",
    "    return inner\n",
    "\n",
    "@printer\n",
    "def hello(string):\n",
    "    return string\n",
    "\n",
    "hello('hello')"
   ]
  },
  {
   "cell_type": "code",
   "execution_count": 16,
   "id": "54524bdf",
   "metadata": {},
   "outputs": [
    {
     "name": "stdout",
     "output_type": "stream",
     "text": [
      "hello\n"
     ]
    },
    {
     "data": {
      "text/plain": [
       "'hello'"
      ]
     },
     "execution_count": 16,
     "metadata": {},
     "output_type": "execute_result"
    }
   ],
   "source": [
    "from functools import wraps\n",
    "\n",
    "def printer(func):\n",
    "    @wraps(func)\n",
    "    def inner(*args,**kwargs):\n",
    "        return_value=func(*args,**kwargs)\n",
    "        if return_value is not None:\n",
    "            print(return_value)\n",
    "        return return_value\n",
    "    return inner\n",
    "\n",
    "@printer\n",
    "def hello(string):\n",
    "    return string\n",
    "\n",
    "hello('hello')"
   ]
  },
  {
   "cell_type": "markdown",
   "id": "84ae9323",
   "metadata": {},
   "source": [
    "### `Q9:` Make a decorator which calls a given function twice. You can assume the functions don't return anything important, but they may take arguments.\n",
    "```\n",
    "#Lets say given function \n",
    "def hello(string):\n",
    "    print(string)\n",
    "\n",
    "#on calling after specified decorator is inplaced\n",
    "hello('hello')\n",
    "```\n",
    "\n",
    "Output:\n",
    "```\n",
    "hello\n",
    "hello\n",
    "```"
   ]
  },
  {
   "cell_type": "code",
   "execution_count": 17,
   "id": "53826352",
   "metadata": {},
   "outputs": [
    {
     "name": "stdout",
     "output_type": "stream",
     "text": [
      "hello\n",
      "hello\n"
     ]
    }
   ],
   "source": [
    "def double(func):\n",
    "    @wraps(func)\n",
    "    def inner(*args,**kwargs):\n",
    "        func(*args,**kwargs)\n",
    "        func(*args,**kwargs)\n",
    "    return inner\n",
    "\n",
    "@double\n",
    "def hello(string):\n",
    "    print(string)\n",
    "    \n",
    "hello('hello')"
   ]
  },
  {
   "cell_type": "markdown",
   "id": "6ff226fa",
   "metadata": {},
   "source": [
    "### `Q10:` Write a decorator which doubles the return value of any function. And test that decoratos is working correctly or not using `asert`.\n",
    "\n",
    "```\n",
    "add(2,3) -> result in 10. Without decorator it should be 5.\n",
    "```"
   ]
  },
  {
   "cell_type": "code",
   "execution_count": 21,
   "id": "13f656b2",
   "metadata": {},
   "outputs": [
    {
     "name": "stdout",
     "output_type": "stream",
     "text": [
      "Values are not matching\n"
     ]
    }
   ],
   "source": [
    "def double(func):\n",
    "    @wraps(func)\n",
    "    def inner(*args,**kwargs):\n",
    "        return func(*args,**kwargs)*2\n",
    "    return inner\n",
    "\n",
    "@double\n",
    "def add_withDeco(a,b):\n",
    "    return a+b\n",
    "\n",
    "def add(a,b):\n",
    "    return a+b\n",
    "\n",
    "a=2\n",
    "b=3\n",
    "assert add(a,b)*2==add_withDeco(a,b),'Values are not Matching'\n",
    "print('Values are not matching')"
   ]
  },
  {
   "cell_type": "code",
   "execution_count": null,
   "id": "321563c2",
   "metadata": {},
   "outputs": [],
   "source": []
  }
 ],
 "metadata": {
  "kernelspec": {
   "display_name": "Python 3 (ipykernel)",
   "language": "python",
   "name": "python3"
  },
  "language_info": {
   "codemirror_mode": {
    "name": "ipython",
    "version": 3
   },
   "file_extension": ".py",
   "mimetype": "text/x-python",
   "name": "python",
   "nbconvert_exporter": "python",
   "pygments_lexer": "ipython3",
   "version": "3.10.9"
  }
 },
 "nbformat": 4,
 "nbformat_minor": 5
}
