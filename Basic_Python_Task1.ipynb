{
 "cells": [
  {
   "cell_type": "code",
   "execution_count": 7,
   "id": "bfe1f51f",
   "metadata": {},
   "outputs": [
    {
     "name": "stdout",
     "output_type": "stream",
     "text": [
      "Data-Science-Mentorship-Program-started-By-CampusX\n"
     ]
    }
   ],
   "source": [
    "### Q1 :- Print the given strings as per stated format.\n",
    "\n",
    "'''**Given strings**: \n",
    "```\n",
    "\"Data\" \"Science\" \"Mentorship\" \"Program\" \"By\" \"CampusX\"\n",
    "```\n",
    "**Output**: \n",
    "``` \n",
    "Data-Science-Mentorship-Program-started-By-CampusX\n",
    "```\n",
    "\n",
    "Concept- [Seperator and End]\n",
    "'''\n",
    "\n",
    "#print(\"Data\",\"Science\",\"Mentorship\",\"Program\",\"By\",\"CampusX\",sep=\"-\")\n",
    "#print(\"Data\",\"Science\",\"Mentorship\",\"Program\",\"By\",\"CampusX\",end=\"-\")\n",
    "#print(\"\\n\\n\")\n",
    "print(\"Data\",\"Science\",\"Mentorship\",\"Program\",sep='-',end='-started-')\n",
    "print(\"By\",\"CampusX\",sep='-')"
   ]
  },
  {
   "cell_type": "code",
   "execution_count": 8,
   "id": "0d3e8dab",
   "metadata": {},
   "outputs": [
    {
     "name": "stdout",
     "output_type": "stream",
     "text": [
      "Enter celcius Temp: 43\n",
      "109.4\n"
     ]
    }
   ],
   "source": [
    "### Q2:- Write a program that will convert celsius value to fahrenheit.\n",
    "cel=float(input(\"Enter celcius Temp: \"))\n",
    "faht=(1.8*cel)+32\n",
    "print(faht)"
   ]
  },
  {
   "cell_type": "code",
   "execution_count": 11,
   "id": "c67290e5",
   "metadata": {},
   "outputs": [
    {
     "name": "stdout",
     "output_type": "stream",
     "text": [
      "Enter Num1: 10\n",
      "Enter Num2: 20\n",
      "\n",
      "Before Swap:\n",
      "Num1:  10\n",
      "Num2:  20\n",
      "\n",
      "After Swap:\n",
      "Num1:  20\n",
      "Num2:  10\n"
     ]
    }
   ],
   "source": [
    "### Q3:- Take 2 numbers as input from the user.Write a program to swap the numbers without using any special python syntax.\n",
    "x=int(input(\"Enter Num1: \"))\n",
    "y=int(input(\"Enter Num2: \"))\n",
    "\n",
    "print(\"\\nBefore Swap:\")\n",
    "print(\"Num1: \",x)\n",
    "print(\"Num2: \",y)\n",
    "\n",
    "temp=x\n",
    "x=y\n",
    "y=temp\n",
    "\n",
    "print(\"\\nAfter Swap:\")\n",
    "print(\"Num1: \",x)\n",
    "print(\"Num2: \",y)"
   ]
  },
  {
   "cell_type": "code",
   "execution_count": 10,
   "id": "5c8f0731",
   "metadata": {},
   "outputs": [
    {
     "name": "stdout",
     "output_type": "stream",
     "text": [
      "Enter x1: 1\n",
      "Enter y1: 2\n",
      "Enter x2: 3\n",
      "Enter y2: 4\n",
      "\n",
      "Co-ordinate 1: ( 1 , 2 )\n",
      "Co-ordinate 2: ( 3 , 4 )\n",
      "\n",
      "Euclidean Dist:  2.83\n"
     ]
    }
   ],
   "source": [
    "#Q4:- Write a program to find the euclidean distance between two coordinates.Take both the coordinates from the user as input.\n",
    "x1=int(input(\"Enter x1: \"))\n",
    "y1=int(input(\"Enter y1: \"))\n",
    "x2=int(input(\"Enter x2: \"))\n",
    "y2=int(input(\"Enter y2: \"))\n",
    "\n",
    "print(\"\\nCo-ordinate 1: (\",x1,\",\",y1,\")\")\n",
    "print(\"Co-ordinate 2: (\",x2,\",\",y2,\")\")\n",
    "\n",
    "dist=((x2-x1)**2+(y2-y1)**2)**(1/2)\n",
    "dist=round(dist,2)\n",
    "\n",
    "print(\"\\nEuclidean Dist: \",dist)"
   ]
  },
  {
   "cell_type": "code",
   "execution_count": 11,
   "id": "1f9e6953",
   "metadata": {},
   "outputs": [
    {
     "name": "stdout",
     "output_type": "stream",
     "text": [
      "Enter Principle Amount: 10000\n",
      "Enter Rate Of Interest: 5\n",
      "Enter Time Period: 2\n",
      "\n",
      "Simple Interest:  1000.0\n",
      "Grand Total:  11000.0\n"
     ]
    }
   ],
   "source": [
    "# Q5:- Write a program to find the simple interest when the value of principle,rate of interest and time period is provided by the user.\n",
    "p=int(input(\"Enter Principle Amount: \"))\n",
    "r=float(input(\"Enter Rate Of Interest: \"))\n",
    "n=int(input(\"Enter Time Period: \"))\n",
    "\n",
    "si=(p*r*n)/100\n",
    "total=p+si\n",
    "\n",
    "print(\"\\nSimple Interest: \",si)\n",
    "print(\"Grand Total: \",total)"
   ]
  },
  {
   "cell_type": "code",
   "execution_count": 36,
   "id": "1cfe3329",
   "metadata": {},
   "outputs": [
    {
     "name": "stdout",
     "output_type": "stream",
     "text": [
      "Enter the number of head: 4\n",
      "Enter the number of leg: 12\n",
      "Number of chicken:  2.0\n",
      "Number of Dog:  2.0\n"
     ]
    }
   ],
   "source": [
    "# Q6:- Write a program that will tell the number of dogs and chicken are there when the user will provide the value of total heads and legs.\n",
    "# head=1 dog_leg=4  chicken_leg=2\n",
    "# Q.head=4,leg=12\n",
    "head=int(input(\"Enter the number of head: \"))\n",
    "leg=int(input(\"Enter the number of leg: \"))\n",
    "\n",
    "x=(((leg)-(4*head))**2)**(0.5)/2\n",
    "y=head-x\n",
    "print(\"Number of chicken: \",x)\n",
    "print(\"Number of Dog: \",y)"
   ]
  },
  {
   "cell_type": "code",
   "execution_count": 37,
   "id": "4088d746",
   "metadata": {},
   "outputs": [
    {
     "name": "stdout",
     "output_type": "stream",
     "text": [
      "Enter Number: 15\n",
      "Sum of squares of first  15  natural numbers:  1240\n"
     ]
    }
   ],
   "source": [
    "# Q7:- Write a program to find the sum of squares of first n natural numbers where n will be provided by the user.\n",
    "n=int(input(\"Enter Number: \"))\n",
    "sum=0\n",
    "\n",
    "for i in range(1,n+1):\n",
    "    sum=sum+(i**2)\n",
    "\n",
    "print(\"Sum of squares of first \",n,\" natural numbers: \",sum)\n",
    "\n",
    "#n = int(input('enter the number'))\n",
    "#result = (n*(n+1)*(2*n + 1))/6\n",
    "#print(result)\n"
   ]
  },
  {
   "cell_type": "code",
   "execution_count": null,
   "id": "dbf7a5e3",
   "metadata": {},
   "outputs": [],
   "source": [
    "## Q8:- Given the first 2 terms of an Arithmetic Series.Find the Nth term of the series. Assume all inputs are provided by the user.\n",
    "x1=int(input(\"Enter first term of arithmetic series: \"))\n",
    "x2=int(input(\"Enter second term of arithmetic series: \"))\n",
    "n=int(input(\"Enter the Nth position: \"))\n",
    "\n",
    "d=x2-x1\n",
    "final=(x1+((n-1)*d))\n",
    "\n",
    "print(\"\\nThe\",n,\"th term of Arithmetic series is: \",final)"
   ]
  },
  {
   "cell_type": "code",
   "execution_count": 5,
   "id": "6ce30e93",
   "metadata": {},
   "outputs": [
    {
     "name": "stdout",
     "output_type": "stream",
     "text": [
      "Enter Numerator_1: 3\n",
      "Enter Denominator_1: 7\n",
      "Enter Numerator_2: 2\n",
      "Enter Denominator_2: 11\n",
      "47/77\n"
     ]
    }
   ],
   "source": [
    "# Q9:- Given 2 fractions, find the sum of those 2 fractions.Take the numerator and denominator values of the fractions from the user.\n",
    "num1=int(input(\"Enter Numerator_1: \"))\n",
    "deno1=int(input(\"Enter Denominator_1: \"))\n",
    "num2=int(input(\"Enter Numerator_2: \"))\n",
    "deno2=int(input(\"Enter Denominator_2: \"))\n",
    "\n",
    "#sum=(((num1*deno2)+(num2*deno1))/(deno1*deno2))\n",
    "num = num1*deno2 + num2*deno1\n",
    "deno = deno1*deno2\n",
    "\n",
    "#print(\"(\",num1,\"/\",deno1,\")+(\",num2,\"/\",deno2,\")=\",sum)\n",
    "\n",
    "print('{}/{}'.format(num,deno))"
   ]
  },
  {
   "cell_type": "code",
   "execution_count": 38,
   "id": "8b93422c",
   "metadata": {},
   "outputs": [
    {
     "name": "stdout",
     "output_type": "stream",
     "text": [
      "height: 20\n",
      "breadth: 20\n",
      "length: 20\n",
      "height of glass: 3\n",
      "radius of the glass: 1\n",
      "\n",
      "No of glasses 849\n"
     ]
    }
   ],
   "source": [
    "# Q10:- Given the height, width and breadth of a milk tank, you have to find out how many glasses of milk can be obtained? Assume all the inputs are provided by the user\n",
    "import math\n",
    "\n",
    "ht = float(input('height: '))\n",
    "bt = float(input('breadth: '))\n",
    "lt = float(input('length: '))\n",
    "\n",
    "hg = float(input('height of glass: '))\n",
    "rg = float(input('radius of the glass: '))\n",
    "\n",
    "vol_tank = ht*bt*lt\n",
    "vol_glass = 3.14*rg*rg*hg\n",
    "\n",
    "print('\\nNo of glasses',math.floor(vol_tank/vol_glass))"
   ]
  },
  {
   "cell_type": "code",
   "execution_count": null,
   "id": "53bbcc95",
   "metadata": {},
   "outputs": [],
   "source": []
  }
 ],
 "metadata": {
  "kernelspec": {
   "display_name": "Python 3 (ipykernel)",
   "language": "python",
   "name": "python3"
  },
  "language_info": {
   "codemirror_mode": {
    "name": "ipython",
    "version": 3
   },
   "file_extension": ".py",
   "mimetype": "text/x-python",
   "name": "python",
   "nbconvert_exporter": "python",
   "pygments_lexer": "ipython3",
   "version": "3.10.9"
  }
 },
 "nbformat": 4,
 "nbformat_minor": 5
}
