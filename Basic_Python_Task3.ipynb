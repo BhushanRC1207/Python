{
 "cells": [
  {
   "cell_type": "code",
   "execution_count": 3,
   "id": "7afca9ad",
   "metadata": {},
   "outputs": [
    {
     "name": "stdout",
     "output_type": "stream",
     "text": [
      "enter the rows5\n",
      "5 4 3 2 1 \n",
      "4 3 2 1 \n",
      "3 2 1 \n",
      "2 1 \n",
      "1 \n"
     ]
    }
   ],
   "source": [
    "# Problem 1 - Print the following pattern. Write a program to use for loop to print the following reverse number pattern.\n",
    "\n",
    "rows = int(input('enter the rows'))\n",
    "\n",
    "for i in range(0,rows):\n",
    "  for j in range(rows-i,0,-1):\n",
    "    print(j,end=' ')\n",
    "  print()"
   ]
  },
  {
   "cell_type": "code",
   "execution_count": 4,
   "id": "9f63c5b6",
   "metadata": {},
   "outputs": [
    {
     "name": "stdout",
     "output_type": "stream",
     "text": [
      "enter the rows5\n",
      "* \n",
      "* * \n",
      "* * * \n",
      "* * * * \n",
      "* * * * * \n",
      "* * * * \n",
      "* * * \n",
      "* * \n",
      "* \n"
     ]
    }
   ],
   "source": [
    "# Problem 2: Print the following pattern.\n",
    "rows = int(input('enter the rows'))\n",
    "\n",
    "for i in range(1,rows+1):\n",
    "  for j in range(0,i):\n",
    "    print('*',end=' ')\n",
    "  print()\n",
    "\n",
    "for i in range(1,rows):\n",
    "  for j in range(rows-i,0,-1):\n",
    "    print('*',end=' ')\n",
    "  print()"
   ]
  },
  {
   "cell_type": "code",
   "execution_count": 6,
   "id": "509219a3",
   "metadata": {},
   "outputs": [
    {
     "name": "stdout",
     "output_type": "stream",
     "text": [
      "      * \n",
      "     * * \n",
      "    * * * \n",
      "   * * * * \n",
      "  * * * * * \n",
      " * * * * * * \n"
     ]
    }
   ],
   "source": [
    "# Problem 3:Write a program to pring the following pattern\n",
    "rows = 6\n",
    "for i in range(1,rows+1):\n",
    "  print(' '*rows,end='')\n",
    "  print('* '*i)\n",
    "  rows = rows - 1"
   ]
  },
  {
   "cell_type": "code",
   "execution_count": 7,
   "id": "85709114",
   "metadata": {},
   "outputs": [
    {
     "name": "stdout",
     "output_type": "stream",
     "text": [
      "1 \n",
      "2 1 \n",
      "3 2 1 \n",
      "4 3 2 1 \n",
      "5 4 3 2 1 \n"
     ]
    }
   ],
   "source": [
    "# Problem 4:Write a program to print the following pattern\n",
    "rows = 5\n",
    "\n",
    "for i in range(1,rows+1):\n",
    "  for j in range(i,0,-1):\n",
    "    print(j,end=' ')\n",
    "  print()"
   ]
  },
  {
   "cell_type": "code",
   "execution_count": 1,
   "id": "fc318a0d",
   "metadata": {},
   "outputs": [
    {
     "name": "stdout",
     "output_type": "stream",
     "text": [
      "Enter the value of x: 10\n",
      "Enter the value of n: 6\n",
      "1 + x^2/2 +x^3/3 +x^4/4 +x^5/5 +x^6/6 \n",
      "189551.0\n"
     ]
    }
   ],
   "source": [
    "# Problem 5: Write a Python Program to Find the Sum of the Series till the nth term:\n",
    "# 1 + x^2/2 + x^3/3 + … x^n/n \n",
    "# n will be provided by the user\n",
    "\n",
    "x =int(input(\"Enter the value of x: \"))\n",
    "n =int(input(\"Enter the value of n: \"))\n",
    "\n",
    "sum = 1\n",
    "s = ''\n",
    "print('1 + ',end='')\n",
    "for i in range(2,n+1):\n",
    "  sum = sum + x**i/i\n",
    "  s = s + 'x^{}/{} +'.format(i,i)\n",
    "print(s[:-1])\n",
    "print(sum)"
   ]
  },
  {
   "cell_type": "code",
   "execution_count": 2,
   "id": "ee0fbfb8",
   "metadata": {},
   "outputs": [
    {
     "name": "stdout",
     "output_type": "stream",
     "text": [
      "(1/1)*((x-1)/x)^1 +(1/2)*((x-1)/x)^2 +(1/3)*((x-1)/x)^3 +(1/4)*((x-1)/x)^4 +(1/5)*((x-1)/x)^5 \n",
      "1.8301230000000004\n"
     ]
    }
   ],
   "source": [
    "# Problem 6: The natural logarithm can be approximated by the following series.\n",
    "x = 10\n",
    "n = 5\n",
    "\n",
    "sum = 0\n",
    "s = ''\n",
    "for i in range(1,n+1):\n",
    "  sum = sum + (1/i)*((x-1)/x)**i\n",
    "  s = s + '(1/{})*((x-1)/x)^{} +'.format(i,i)\n",
    "print(s[:-1])\n",
    "print(sum)"
   ]
  },
  {
   "cell_type": "code",
   "execution_count": 3,
   "id": "fd3b4c7c",
   "metadata": {},
   "outputs": [
    {
     "name": "stdout",
     "output_type": "stream",
     "text": [
      "enter the number of terms10\n",
      "2+22+222+2222+22222+222222+2222222+22222222+222222222+2222222222\n",
      "2469135800\n"
     ]
    }
   ],
   "source": [
    "# Problem 7 - Find the sum of the series upto n terms.\n",
    "# Write a program to calculate the sum of series up to n term. For example, if n =5 the series will become 2 + 22 + 222 + 2222 + 22222 = 24690. Take the user input and then calculate. And the output style should match which is given in the example.\n",
    "n = int(input('enter the number of terms'))\n",
    "\n",
    "start = 2\n",
    "sum = 0\n",
    "\n",
    "for i in range(0,n):\n",
    "  if i < n-1:\n",
    "    print(start,end='+')\n",
    "  else:\n",
    "    print(start)\n",
    "\n",
    "  sum = sum + start\n",
    "  start = start*10 + 2\n",
    "\n",
    "print(sum)"
   ]
  },
  {
   "cell_type": "code",
   "execution_count": 4,
   "id": "38be8ec3",
   "metadata": {},
   "outputs": [
    {
     "name": "stdout",
     "output_type": "stream",
     "text": [
      "1 1 1 1\n",
      "1 1 1 2\n",
      "1 1 1 3\n",
      "1 1 1 4\n",
      "1 1 2 1\n",
      "1 1 2 2\n",
      "1 1 2 3\n",
      "1 1 2 4\n",
      "1 1 3 1\n",
      "1 1 3 2\n",
      "1 1 3 3\n",
      "1 1 3 4\n",
      "1 1 4 1\n",
      "1 1 4 2\n",
      "1 1 4 3\n",
      "1 1 4 4\n",
      "1 2 1 1\n",
      "1 2 1 2\n",
      "1 2 1 3\n",
      "1 2 1 4\n",
      "1 2 2 1\n",
      "1 2 2 2\n",
      "1 2 2 3\n",
      "1 2 2 4\n",
      "1 2 3 1\n",
      "1 2 3 2\n",
      "1 2 3 3\n",
      "1 2 3 4\n",
      "1 2 4 1\n",
      "1 2 4 2\n",
      "1 2 4 3\n",
      "1 2 4 4\n",
      "1 3 1 1\n",
      "1 3 1 2\n",
      "1 3 1 3\n",
      "1 3 1 4\n",
      "1 3 2 1\n",
      "1 3 2 2\n",
      "1 3 2 3\n",
      "1 3 2 4\n",
      "1 3 3 1\n",
      "1 3 3 2\n",
      "1 3 3 3\n",
      "1 3 3 4\n",
      "1 3 4 1\n",
      "1 3 4 2\n",
      "1 3 4 3\n",
      "1 3 4 4\n",
      "1 4 1 1\n",
      "1 4 1 2\n",
      "1 4 1 3\n",
      "1 4 1 4\n",
      "1 4 2 1\n",
      "1 4 2 2\n",
      "1 4 2 3\n",
      "1 4 2 4\n",
      "1 4 3 1\n",
      "1 4 3 2\n",
      "1 4 3 3\n",
      "1 4 3 4\n",
      "1 4 4 1\n",
      "1 4 4 2\n",
      "1 4 4 3\n",
      "1 4 4 4\n",
      "2 1 1 1\n",
      "2 1 1 2\n",
      "2 1 1 3\n",
      "2 1 1 4\n",
      "2 1 2 1\n",
      "2 1 2 2\n",
      "2 1 2 3\n",
      "2 1 2 4\n",
      "2 1 3 1\n",
      "2 1 3 2\n",
      "2 1 3 3\n",
      "2 1 3 4\n",
      "2 1 4 1\n",
      "2 1 4 2\n",
      "2 1 4 3\n",
      "2 1 4 4\n",
      "2 2 1 1\n",
      "2 2 1 2\n",
      "2 2 1 3\n",
      "2 2 1 4\n",
      "2 2 2 1\n",
      "2 2 2 2\n",
      "2 2 2 3\n",
      "2 2 2 4\n",
      "2 2 3 1\n",
      "2 2 3 2\n",
      "2 2 3 3\n",
      "2 2 3 4\n",
      "2 2 4 1\n",
      "2 2 4 2\n",
      "2 2 4 3\n",
      "2 2 4 4\n",
      "2 3 1 1\n",
      "2 3 1 2\n",
      "2 3 1 3\n",
      "2 3 1 4\n",
      "2 3 2 1\n",
      "2 3 2 2\n",
      "2 3 2 3\n",
      "2 3 2 4\n",
      "2 3 3 1\n",
      "2 3 3 2\n",
      "2 3 3 3\n",
      "2 3 3 4\n",
      "2 3 4 1\n",
      "2 3 4 2\n",
      "2 3 4 3\n",
      "2 3 4 4\n",
      "2 4 1 1\n",
      "2 4 1 2\n",
      "2 4 1 3\n",
      "2 4 1 4\n",
      "2 4 2 1\n",
      "2 4 2 2\n",
      "2 4 2 3\n",
      "2 4 2 4\n",
      "2 4 3 1\n",
      "2 4 3 2\n",
      "2 4 3 3\n",
      "2 4 3 4\n",
      "2 4 4 1\n",
      "2 4 4 2\n",
      "2 4 4 3\n",
      "2 4 4 4\n",
      "3 1 1 1\n",
      "3 1 1 2\n",
      "3 1 1 3\n",
      "3 1 1 4\n",
      "3 1 2 1\n",
      "3 1 2 2\n",
      "3 1 2 3\n",
      "3 1 2 4\n",
      "3 1 3 1\n",
      "3 1 3 2\n",
      "3 1 3 3\n",
      "3 1 3 4\n",
      "3 1 4 1\n",
      "3 1 4 2\n",
      "3 1 4 3\n",
      "3 1 4 4\n",
      "3 2 1 1\n",
      "3 2 1 2\n",
      "3 2 1 3\n",
      "3 2 1 4\n",
      "3 2 2 1\n",
      "3 2 2 2\n",
      "3 2 2 3\n",
      "3 2 2 4\n",
      "3 2 3 1\n",
      "3 2 3 2\n",
      "3 2 3 3\n",
      "3 2 3 4\n",
      "3 2 4 1\n",
      "3 2 4 2\n",
      "3 2 4 3\n",
      "3 2 4 4\n",
      "3 3 1 1\n",
      "3 3 1 2\n",
      "3 3 1 3\n",
      "3 3 1 4\n",
      "3 3 2 1\n",
      "3 3 2 2\n",
      "3 3 2 3\n",
      "3 3 2 4\n",
      "3 3 3 1\n",
      "3 3 3 2\n",
      "3 3 3 3\n",
      "3 3 3 4\n",
      "3 3 4 1\n",
      "3 3 4 2\n",
      "3 3 4 3\n",
      "3 3 4 4\n",
      "3 4 1 1\n",
      "3 4 1 2\n",
      "3 4 1 3\n",
      "3 4 1 4\n",
      "3 4 2 1\n",
      "3 4 2 2\n",
      "3 4 2 3\n",
      "3 4 2 4\n",
      "3 4 3 1\n",
      "3 4 3 2\n",
      "3 4 3 3\n",
      "3 4 3 4\n",
      "3 4 4 1\n",
      "3 4 4 2\n",
      "3 4 4 3\n",
      "3 4 4 4\n",
      "4 1 1 1\n",
      "4 1 1 2\n",
      "4 1 1 3\n",
      "4 1 1 4\n",
      "4 1 2 1\n",
      "4 1 2 2\n",
      "4 1 2 3\n",
      "4 1 2 4\n",
      "4 1 3 1\n",
      "4 1 3 2\n",
      "4 1 3 3\n",
      "4 1 3 4\n",
      "4 1 4 1\n",
      "4 1 4 2\n",
      "4 1 4 3\n",
      "4 1 4 4\n",
      "4 2 1 1\n",
      "4 2 1 2\n",
      "4 2 1 3\n",
      "4 2 1 4\n",
      "4 2 2 1\n",
      "4 2 2 2\n",
      "4 2 2 3\n",
      "4 2 2 4\n",
      "4 2 3 1\n",
      "4 2 3 2\n",
      "4 2 3 3\n",
      "4 2 3 4\n",
      "4 2 4 1\n",
      "4 2 4 2\n",
      "4 2 4 3\n",
      "4 2 4 4\n",
      "4 3 1 1\n",
      "4 3 1 2\n",
      "4 3 1 3\n",
      "4 3 1 4\n",
      "4 3 2 1\n",
      "4 3 2 2\n",
      "4 3 2 3\n",
      "4 3 2 4\n",
      "4 3 3 1\n",
      "4 3 3 2\n",
      "4 3 3 3\n",
      "4 3 3 4\n",
      "4 3 4 1\n",
      "4 3 4 2\n",
      "4 3 4 3\n",
      "4 3 4 4\n",
      "4 4 1 1\n",
      "4 4 1 2\n",
      "4 4 1 3\n",
      "4 4 1 4\n",
      "4 4 2 1\n",
      "4 4 2 2\n",
      "4 4 2 3\n",
      "4 4 2 4\n",
      "4 4 3 1\n",
      "4 4 3 2\n",
      "4 4 3 3\n",
      "4 4 3 4\n",
      "4 4 4 1\n",
      "4 4 4 2\n",
      "4 4 4 3\n",
      "4 4 4 4\n"
     ]
    }
   ],
   "source": [
    "# Problem 8: Write a program to print all the unique combinations of 1,2,3 and 4\n",
    "for i in range(1,5):\n",
    "  for j in range(1,5):\n",
    "    for k in range(1,5):\n",
    "      for m in range(1,5):\n",
    "        print(i,j,k,m)"
   ]
  },
  {
   "cell_type": "code",
   "execution_count": 7,
   "id": "476e4471",
   "metadata": {},
   "outputs": [
    {
     "name": "stdout",
     "output_type": "stream",
     "text": [
      "enter the number8\n",
      "1000"
     ]
    }
   ],
   "source": [
    "# Problem 9: Write a program that will take a decimal number as input and prints out the binary equivalent of the number\n",
    "n = int(input('enter the number'))\n",
    "binary = []\n",
    "while n > 0:\n",
    "\n",
    "  binary.append(n%2)\n",
    "  n = n//2\n",
    "\n",
    "for i in binary[::-1]:\n",
    "  print(i,end='')"
   ]
  },
  {
   "cell_type": "code",
   "execution_count": 8,
   "id": "c8865187",
   "metadata": {},
   "outputs": [
    {
     "name": "stdout",
     "output_type": "stream",
     "text": [
      "enter 1st number4\n",
      "enter 2nd number5\n",
      "20\n"
     ]
    }
   ],
   "source": [
    "# Problem 10: Write a program that will take 2 numbers as input and prints the LCM and HCF of those 2 numbers\n",
    "x = int(input('enter 1st number'))\n",
    "y = int(input('enter 2nd number'))\n",
    "\n",
    "if x>y:\n",
    "  greater = x\n",
    "else:\n",
    "  greater = y\n",
    "\n",
    "while True:\n",
    "  if (greater % x == 0) and (greater % y == 0):\n",
    "    lcm = greater\n",
    "    break\n",
    "  \n",
    "  greater = greater + 1\n",
    "\n",
    "print(lcm)"
   ]
  },
  {
   "cell_type": "code",
   "execution_count": 11,
   "id": "174543e5",
   "metadata": {},
   "outputs": [
    {
     "name": "stdout",
     "output_type": "stream",
     "text": [
      "enter 1st number12\n",
      "enter 2nd number16\n",
      "4\n"
     ]
    }
   ],
   "source": [
    "x = int(input('enter 1st number'))\n",
    "y = int(input('enter 2nd number'))\n",
    "\n",
    "if x<y:\n",
    "  smaller = x\n",
    "else:\n",
    "  smaller = y\n",
    "\n",
    "for i in range(1,smaller+1):\n",
    "  if (x % i == 0) and (y % i == 0):\n",
    "    hcf = i\n",
    "\n",
    "print(hcf)"
   ]
  },
  {
   "cell_type": "code",
   "execution_count": 12,
   "id": "d782a33e",
   "metadata": {},
   "outputs": [
    {
     "name": "stdout",
     "output_type": "stream",
     "text": [
      "DSMP\n"
     ]
    }
   ],
   "source": [
    "# Problem 11: Create Short Form from initial character\n",
    "# Given a string create short form ofthe string from Initial character. Short form should be capitalised.\n",
    "inp = 'Data science Mentorship Program'\n",
    "\n",
    "res = ''\n",
    "\n",
    "for i in inp.split():\n",
    "  res = res + i[0].upper()\n",
    "\n",
    "print(res)"
   ]
  },
  {
   "cell_type": "code",
   "execution_count": 14,
   "id": "20f1e766",
   "metadata": {},
   "outputs": [
    {
     "name": "stdout",
     "output_type": "stream",
     "text": [
      "enter the 1st stringbhushan\n",
      "enter the 2nd string@\n",
      "bhu@shan\n"
     ]
    }
   ],
   "source": [
    "# Problem 12: Append second string in the middle of first string\n",
    "s1 = input('enter the 1st string')\n",
    "s2 = input('enter the 2nd string')\n",
    "\n",
    "print(s1[0:int(len(s1)/2)] + s2 + s1[int(len(s1)/2):])"
   ]
  },
  {
   "cell_type": "code",
   "execution_count": 15,
   "id": "f2c9e7f6",
   "metadata": {},
   "outputs": [
    {
     "name": "stdout",
     "output_type": "stream",
     "text": [
      "yaivePNT\n"
     ]
    }
   ],
   "source": [
    "# Problem 13:Given string contains a combination of the lower and upper case letters. Write a program to arrange the characters of a string so that all lowercase letters should come first.\n",
    "s = 'PyNaTive'\n",
    "\n",
    "upper = ''\n",
    "lower = ''\n",
    "\n",
    "for i in s:\n",
    "  if i.islower():\n",
    "    lower = lower + i\n",
    "  else:\n",
    "    upper = upper + i\n",
    "\n",
    "print(lower + upper)"
   ]
  },
  {
   "cell_type": "code",
   "execution_count": 18,
   "id": "f3ad0098",
   "metadata": {},
   "outputs": [
    {
     "name": "stdout",
     "output_type": "stream",
     "text": [
      "22\n",
      "3.142857142857143\n",
      "7\n"
     ]
    }
   ],
   "source": [
    "# Problem 14:Take a alphanumeric string input and print the sum and average of the digits that appear in the string, ignoring all other characters.\n",
    "s = 'hel123O4every093'\n",
    "\n",
    "sum = 0\n",
    "count = 0\n",
    "\n",
    "for i in s:\n",
    "  if i.isdigit():\n",
    "    sum = sum + int(i)\n",
    "    count += 1\n",
    "\n",
    "print(sum)\n",
    "print(sum/count)\n",
    "print(count)"
   ]
  },
  {
   "cell_type": "code",
   "execution_count": 19,
   "id": "5801e612",
   "metadata": {},
   "outputs": [
    {
     "name": "stdout",
     "output_type": "stream",
     "text": [
      "2510\n"
     ]
    }
   ],
   "source": [
    "# Problem 15: Removal of all characters from a string except integers\n",
    "s = 'I am 25 years and 10 months old'\n",
    "\n",
    "res = ''\n",
    "\n",
    "for i in s:\n",
    "  if i.isdigit():\n",
    "    res = res + i\n",
    "\n",
    "print(res)"
   ]
  },
  {
   "cell_type": "code",
   "execution_count": 21,
   "id": "854a3f3f",
   "metadata": {},
   "outputs": [
    {
     "name": "stdout",
     "output_type": "stream",
     "text": [
      "enter the string: khokho\n",
      "symmetrical\n"
     ]
    }
   ],
   "source": [
    "# Problem 16: Check whether the string is Symmetrical.\n",
    "# Statement: Given a string. the task is to check if the string is symmetrical or not. A string is said to be symmetrical if both the halves of the string are the same.\n",
    "s = input('enter the tring: ')\n",
    "\n",
    "if len(s)%2 == 0:\n",
    "  s1 = s[0:len(s)//2]\n",
    "  s2 = s[len(s)//2:]\n",
    "else:\n",
    "  s1 = s[0:len(s)//2]\n",
    "  s2 = s[len(s)//2 + 1:]\n",
    "\n",
    "if s1 == s2:\n",
    "  print('symmetrical')\n",
    "else:\n",
    "  print('not symmetrical')  "
   ]
  },
  {
   "cell_type": "code",
   "execution_count": 22,
   "id": "232f118f",
   "metadata": {},
   "outputs": [
    {
     "name": "stdout",
     "output_type": "stream",
     "text": [
      "geeks quiz practice code\n"
     ]
    }
   ],
   "source": [
    "# Problem 17: Reverse words in a given String\n",
    "s = 'code practice quiz geeks'\n",
    "\n",
    "L = []\n",
    "\n",
    "for i in s.split():\n",
    "  L.append(i)\n",
    "\n",
    "L = L[::-1]\n",
    "print(\" \".join(L))"
   ]
  },
  {
   "cell_type": "code",
   "execution_count": 24,
   "id": "e9359ee1",
   "metadata": {},
   "outputs": [
    {
     "name": "stdout",
     "output_type": "stream",
     "text": [
      "['apple', 'fruits']\n"
     ]
    }
   ],
   "source": [
    "# Problem 18: Find uncommon words from two Strings.\n",
    "# Statement: Given two sentences as strings A and B. The task is to return a list of all uncommon words. A word is uncommon if it appears exactly once in any one of the sentences, and does not appear in the other sentence. Note: A sentence is a string of space-separated words. Each word consists only of lowercase letters.\n",
    "A = \"apple banana mango\" \n",
    "B = \"banana fruits mango\"\n",
    "\n",
    "L = []\n",
    "\n",
    "for i in A.split():\n",
    "  if i not in B and i not in L:\n",
    "    L.append(i)\n",
    "\n",
    "for j in B.split():\n",
    "  if j not in A and j not in L:\n",
    "    L.append(j)\n",
    "\n",
    "print(L)"
   ]
  },
  {
   "cell_type": "code",
   "execution_count": 25,
   "id": "ca07f525",
   "metadata": {},
   "outputs": [
    {
     "name": "stdout",
     "output_type": "stream",
     "text": [
      "7\n"
     ]
    }
   ],
   "source": [
    "# Problem 19: Word location in String.\n",
    "# Statement: Find a location of a word in a given sentence.\n",
    "s = 'We can learn data science through campusx mentorship program.'\n",
    "word = 'campusx'\n",
    "\n",
    "pos = 0\n",
    "\n",
    "for i in s.split():\n",
    "  pos += 1\n",
    "  if i == word:\n",
    "    break\n",
    "  \n",
    "print(pos)\n",
    "  "
   ]
  },
  {
   "cell_type": "code",
   "execution_count": 26,
   "id": "8b55cf35",
   "metadata": {},
   "outputs": [
    {
     "name": "stdout",
     "output_type": "stream",
     "text": [
      "abcdef\n"
     ]
    }
   ],
   "source": [
    "# Problem 20: Write a program that can remove all the duplicate characters from a string. User will provide the input.\n",
    "s = 'aaaabbbbbccccdddeeeeffff'\n",
    "\n",
    "res = ''\n",
    "\n",
    "for i in s:\n",
    "  if i not in res:\n",
    "    res = res + i\n",
    "\n",
    "print(res)"
   ]
  },
  {
   "cell_type": "code",
   "execution_count": null,
   "id": "a50b8434",
   "metadata": {},
   "outputs": [],
   "source": []
  }
 ],
 "metadata": {
  "kernelspec": {
   "display_name": "Python 3 (ipykernel)",
   "language": "python",
   "name": "python3"
  },
  "language_info": {
   "codemirror_mode": {
    "name": "ipython",
    "version": 3
   },
   "file_extension": ".py",
   "mimetype": "text/x-python",
   "name": "python",
   "nbconvert_exporter": "python",
   "pygments_lexer": "ipython3",
   "version": "3.10.9"
  }
 },
 "nbformat": 4,
 "nbformat_minor": 5
}
