{
 "cells": [
  {
   "cell_type": "markdown",
   "id": "34f97211",
   "metadata": {},
   "source": [
    "## Python"
   ]
  },
  {
   "cell_type": "markdown",
   "id": "09036aa1",
   "metadata": {},
   "source": [
    "About Python"
   ]
  },
  {
   "cell_type": "markdown",
   "id": "35b6f035",
   "metadata": {},
   "source": [
    "## Why Python"
   ]
  },
  {
   "cell_type": "markdown",
   "id": "e25fec05",
   "metadata": {},
   "source": [
    "Design philosophy"
   ]
  },
  {
   "cell_type": "markdown",
   "id": "ba214035",
   "metadata": {},
   "source": [
    "Batteries included"
   ]
  },
  {
   "cell_type": "markdown",
   "id": "c9ed4f6a",
   "metadata": {},
   "source": [
    "General purpose"
   ]
  },
  {
   "cell_type": "markdown",
   "id": "fc555aaf",
   "metadata": {},
   "source": [
    "Libraries/Community"
   ]
  },
  {
   "cell_type": "markdown",
   "id": "72466828",
   "metadata": {},
   "source": [
    "## Why python for Data Science"
   ]
  },
  {
   "cell_type": "markdown",
   "id": "d7cde572",
   "metadata": {},
   "source": [
    "Easy to learn"
   ]
  },
  {
   "cell_type": "markdown",
   "id": "fd0c788d",
   "metadata": {},
   "source": [
    "Proximity with maths"
   ]
  },
  {
   "cell_type": "markdown",
   "id": "53173009",
   "metadata": {},
   "source": [
    "community"
   ]
  },
  {
   "cell_type": "markdown",
   "id": "0f530a1b",
   "metadata": {},
   "source": [
    "### 1.print()"
   ]
  },
  {
   "cell_type": "code",
   "execution_count": 4,
   "id": "45ebd470",
   "metadata": {},
   "outputs": [
    {
     "data": {
      "text/plain": [
       "\"print(value, ..., sep=' ', end='\\\\n', file=sys.stdout, flush=False)\\n\\nPrints the values to a stream, or to sys.stdout by default.\\nOptional keyword arguments:\\nfile:  a file-like object (stream); defaults to the current sys.stdout.\\nsep:   string inserted between values, default a space.\\nend:   string appended after the last value, default a newline.\\nflush: whether to forcibly flush the stream.\""
      ]
     },
     "execution_count": 4,
     "metadata": {},
     "output_type": "execute_result"
    }
   ],
   "source": [
    "print.__doc__"
   ]
  },
  {
   "cell_type": "code",
   "execution_count": 2,
   "id": "8be591f7",
   "metadata": {},
   "outputs": [
    {
     "name": "stdout",
     "output_type": "stream",
     "text": [
      "Hello World\n"
     ]
    }
   ],
   "source": [
    "# Python is a case sensitive language\n",
    "print(\"Hello World\")"
   ]
  },
  {
   "cell_type": "code",
   "execution_count": 3,
   "id": "909582e4",
   "metadata": {},
   "outputs": [
    {
     "name": "stdout",
     "output_type": "stream",
     "text": [
      "Bhushan VR Chitte\n"
     ]
    }
   ],
   "source": [
    "print(\"Bhushan VR Chitte\")"
   ]
  },
  {
   "cell_type": "code",
   "execution_count": 8,
   "id": "2483663c",
   "metadata": {},
   "outputs": [
    {
     "name": "stdout",
     "output_type": "stream",
     "text": [
      "11\n"
     ]
    }
   ],
   "source": [
    "print(11)"
   ]
  },
  {
   "cell_type": "code",
   "execution_count": 9,
   "id": "891c1e54",
   "metadata": {},
   "outputs": [
    {
     "name": "stdout",
     "output_type": "stream",
     "text": [
      "1.1\n"
     ]
    }
   ],
   "source": [
    "print(1.1)"
   ]
  },
  {
   "cell_type": "code",
   "execution_count": 11,
   "id": "39bc89ff",
   "metadata": {},
   "outputs": [
    {
     "name": "stdout",
     "output_type": "stream",
     "text": [
      "True\n"
     ]
    }
   ],
   "source": [
    "# boolean is true/false\n",
    "print(True)"
   ]
  },
  {
   "cell_type": "code",
   "execution_count": 13,
   "id": "a32a65b3",
   "metadata": {},
   "outputs": [
    {
     "name": "stdout",
     "output_type": "stream",
     "text": [
      "Hello 11 1.1 True\n"
     ]
    }
   ],
   "source": [
    "print(\"Hello\",11,1.1,True)"
   ]
  },
  {
   "cell_type": "code",
   "execution_count": 2,
   "id": "b3a9a01b",
   "metadata": {},
   "outputs": [
    {
     "name": "stdout",
     "output_type": "stream",
     "text": [
      "Hello 11 1.1 True\n"
     ]
    }
   ],
   "source": [
    "print('Hello',11,1.1,True,sep=' ')"
   ]
  },
  {
   "cell_type": "code",
   "execution_count": 3,
   "id": "714a48f4",
   "metadata": {},
   "outputs": [
    {
     "name": "stdout",
     "output_type": "stream",
     "text": [
      "Hello/11/1.1/True\n"
     ]
    }
   ],
   "source": [
    "print('Hello',11,1.1,True,sep='/')"
   ]
  },
  {
   "cell_type": "code",
   "execution_count": 16,
   "id": "48efd55f",
   "metadata": {},
   "outputs": [
    {
     "name": "stdout",
     "output_type": "stream",
     "text": [
      "Hello\n",
      "11\n",
      "1.1\n",
      "False\n"
     ]
    }
   ],
   "source": [
    "print('Hello',11,1.1,False,sep=\"\\n\")"
   ]
  },
  {
   "cell_type": "code",
   "execution_count": 18,
   "id": "98edd89d",
   "metadata": {},
   "outputs": [
    {
     "name": "stdout",
     "output_type": "stream",
     "text": [
      "Hello\n",
      "World\n"
     ]
    }
   ],
   "source": [
    "print(\"Hello\")\n",
    "print(\"World\")"
   ]
  },
  {
   "cell_type": "code",
   "execution_count": 20,
   "id": "3d7ee6df",
   "metadata": {},
   "outputs": [
    {
     "name": "stdout",
     "output_type": "stream",
     "text": [
      "Hello World\n"
     ]
    }
   ],
   "source": [
    "print(\"Hello\",end=\" \")\n",
    "print(\"World\")"
   ]
  },
  {
   "cell_type": "code",
   "execution_count": 21,
   "id": "4609fb3c",
   "metadata": {},
   "outputs": [
    {
     "name": "stdout",
     "output_type": "stream",
     "text": [
      "Hello-World\n"
     ]
    }
   ],
   "source": [
    "print(\"Hello\",end='-')\n",
    "print(\"World\")"
   ]
  },
  {
   "cell_type": "code",
   "execution_count": 23,
   "id": "7cad60d0",
   "metadata": {},
   "outputs": [
    {
     "name": "stdout",
     "output_type": "stream",
     "text": [
      "Hello_World\n"
     ]
    }
   ],
   "source": [
    "print(\"Hello\",end='_')\n",
    "print(\"World\")"
   ]
  },
  {
   "cell_type": "markdown",
   "id": "607ad67b",
   "metadata": {},
   "source": [
    "### 2.Data Types"
   ]
  },
  {
   "cell_type": "code",
   "execution_count": 27,
   "id": "de6ae041",
   "metadata": {},
   "outputs": [
    {
     "name": "stdout",
     "output_type": "stream",
     "text": [
      "11\n",
      "1e+308\n",
      "inf\n"
     ]
    }
   ],
   "source": [
    "print(11)\n",
    "print(1e308)\n",
    "print(1e309)"
   ]
  },
  {
   "cell_type": "code",
   "execution_count": 42,
   "id": "faeb0439",
   "metadata": {},
   "outputs": [
    {
     "name": "stdout",
     "output_type": "stream",
     "text": [
      "1.1\n",
      "1.7e+308\n",
      "inf\n"
     ]
    }
   ],
   "source": [
    "print(1.1)\n",
    "print(1.7e308)\n",
    "print(1.8e309)"
   ]
  },
  {
   "cell_type": "code",
   "execution_count": 44,
   "id": "ce0b78df",
   "metadata": {},
   "outputs": [
    {
     "name": "stdout",
     "output_type": "stream",
     "text": [
      "True\n",
      "False\n"
     ]
    }
   ],
   "source": [
    "print(True)\n",
    "print(False)"
   ]
  },
  {
   "cell_type": "code",
   "execution_count": 45,
   "id": "998a1160",
   "metadata": {},
   "outputs": [
    {
     "name": "stdout",
     "output_type": "stream",
     "text": [
      "Data Scientist\n"
     ]
    }
   ],
   "source": [
    "print(\"Data Scientist\")"
   ]
  },
  {
   "cell_type": "code",
   "execution_count": 47,
   "id": "f03f6d58",
   "metadata": {},
   "outputs": [
    {
     "name": "stdout",
     "output_type": "stream",
     "text": [
      "(5+6j)\n"
     ]
    }
   ],
   "source": [
    "print(5+6j)"
   ]
  },
  {
   "cell_type": "code",
   "execution_count": 48,
   "id": "66d6a203",
   "metadata": {},
   "outputs": [
    {
     "name": "stdout",
     "output_type": "stream",
     "text": [
      "[1, 2, 3, 4, 5]\n"
     ]
    }
   ],
   "source": [
    "#list\n",
    "print([1,2,3,4,5])"
   ]
  },
  {
   "cell_type": "code",
   "execution_count": 49,
   "id": "fde3ced0",
   "metadata": {},
   "outputs": [
    {
     "name": "stdout",
     "output_type": "stream",
     "text": [
      "(1, 2, 3, 4, 5)\n"
     ]
    }
   ],
   "source": [
    "#tuple\n",
    "print((1,2,3,4,5))"
   ]
  },
  {
   "cell_type": "code",
   "execution_count": 50,
   "id": "670f5368",
   "metadata": {},
   "outputs": [
    {
     "name": "stdout",
     "output_type": "stream",
     "text": [
      "{1, 2, 3, 4, 5}\n"
     ]
    }
   ],
   "source": [
    "#set\n",
    "print({1,2,3,4,5})"
   ]
  },
  {
   "cell_type": "code",
   "execution_count": 51,
   "id": "61c6187c",
   "metadata": {},
   "outputs": [
    {
     "name": "stdout",
     "output_type": "stream",
     "text": [
      "{'Name': 'XYZ', 'Age': 20}\n"
     ]
    }
   ],
   "source": [
    "#dict\n",
    "print({'Name':'XYZ','Age':20})"
   ]
  },
  {
   "cell_type": "code",
   "execution_count": 1,
   "id": "2f70f1f2",
   "metadata": {},
   "outputs": [
    {
     "name": "stdout",
     "output_type": "stream",
     "text": [
      "<class 'int'>\n"
     ]
    }
   ],
   "source": [
    "print(type(1))"
   ]
  },
  {
   "cell_type": "code",
   "execution_count": 2,
   "id": "29ed8c3a",
   "metadata": {},
   "outputs": [
    {
     "name": "stdout",
     "output_type": "stream",
     "text": [
      "<class 'float'>\n"
     ]
    }
   ],
   "source": [
    "print(type(1.1))"
   ]
  },
  {
   "cell_type": "code",
   "execution_count": 5,
   "id": "744519c1",
   "metadata": {},
   "outputs": [
    {
     "name": "stdout",
     "output_type": "stream",
     "text": [
      "<class 'bool'>\n"
     ]
    }
   ],
   "source": [
    "print(type(True))"
   ]
  },
  {
   "cell_type": "code",
   "execution_count": 3,
   "id": "b6da3ac2",
   "metadata": {},
   "outputs": [
    {
     "name": "stdout",
     "output_type": "stream",
     "text": [
      "<class 'list'>\n"
     ]
    }
   ],
   "source": [
    "print(type([1,2,3]))"
   ]
  },
  {
   "cell_type": "code",
   "execution_count": 6,
   "id": "132c832c",
   "metadata": {},
   "outputs": [
    {
     "name": "stdout",
     "output_type": "stream",
     "text": [
      "<class 'complex'>\n"
     ]
    }
   ],
   "source": [
    "print(type(1+2j))"
   ]
  },
  {
   "cell_type": "code",
   "execution_count": 4,
   "id": "52af843c",
   "metadata": {},
   "outputs": [
    {
     "name": "stdout",
     "output_type": "stream",
     "text": [
      "<class 'tuple'>\n"
     ]
    }
   ],
   "source": [
    "print(type((1,2,3)))"
   ]
  },
  {
   "cell_type": "code",
   "execution_count": 5,
   "id": "07b66877",
   "metadata": {},
   "outputs": [
    {
     "name": "stdout",
     "output_type": "stream",
     "text": [
      "<class 'str'>\n"
     ]
    }
   ],
   "source": [
    "print(type(\"hello world\"))"
   ]
  },
  {
   "cell_type": "code",
   "execution_count": 7,
   "id": "61765d75",
   "metadata": {},
   "outputs": [
    {
     "name": "stdout",
     "output_type": "stream",
     "text": [
      "<class 'dict'>\n"
     ]
    }
   ],
   "source": [
    "print(type({'name':'bhushan'}))"
   ]
  },
  {
   "cell_type": "markdown",
   "id": "9ce5c4cb",
   "metadata": {},
   "source": [
    "### 3.Variables"
   ]
  },
  {
   "cell_type": "code",
   "execution_count": 56,
   "id": "e9261fff",
   "metadata": {},
   "outputs": [],
   "source": [
    "# dynamic typing (automatic detect data type of variable)(run time)\n",
    "# a=11\n",
    "\n",
    "# static typing (need to tell data type of variable)(compile time)\n",
    "# int a=5;"
   ]
  },
  {
   "cell_type": "code",
   "execution_count": 57,
   "id": "1c6dcaa2",
   "metadata": {},
   "outputs": [
    {
     "name": "stdout",
     "output_type": "stream",
     "text": [
      "11\n",
      "Bhushan\n"
     ]
    }
   ],
   "source": [
    "# dynamic binding\n",
    "a=11\n",
    "print(a)\n",
    "a='Bhushan'\n",
    "print(a)"
   ]
  },
  {
   "cell_type": "code",
   "execution_count": 58,
   "id": "c4387b9c",
   "metadata": {},
   "outputs": [
    {
     "name": "stdout",
     "output_type": "stream",
     "text": [
      "1 2 3\n"
     ]
    }
   ],
   "source": [
    "a=1\n",
    "b=2\n",
    "c=3\n",
    "print(a,b,c)"
   ]
  },
  {
   "cell_type": "code",
   "execution_count": 60,
   "id": "65f8d7ff",
   "metadata": {},
   "outputs": [
    {
     "name": "stdout",
     "output_type": "stream",
     "text": [
      "1 2 3\n"
     ]
    }
   ],
   "source": [
    "a,b,c=1,2,3\n",
    "print(a,b,c)"
   ]
  },
  {
   "cell_type": "code",
   "execution_count": 61,
   "id": "528617e9",
   "metadata": {},
   "outputs": [
    {
     "name": "stdout",
     "output_type": "stream",
     "text": [
      "101 101 101\n"
     ]
    }
   ],
   "source": [
    "a=b=c=101\n",
    "print(a,b,c)"
   ]
  },
  {
   "cell_type": "markdown",
   "id": "c35d6ae1",
   "metadata": {},
   "source": [
    "### 4.Comment"
   ]
  },
  {
   "cell_type": "code",
   "execution_count": 65,
   "id": "a84bffc4",
   "metadata": {},
   "outputs": [],
   "source": [
    "# This is comment"
   ]
  },
  {
   "cell_type": "markdown",
   "id": "9d0fb849",
   "metadata": {},
   "source": [
    "### 5.Keywords & Identifiers"
   ]
  },
  {
   "cell_type": "code",
   "execution_count": 67,
   "id": "64316651",
   "metadata": {},
   "outputs": [],
   "source": [
    "# keyword = Reserved words\n",
    "# identifiers = variable name"
   ]
  },
  {
   "cell_type": "markdown",
   "id": "ff4b1f9b",
   "metadata": {},
   "source": [
    "### 6.User Input"
   ]
  },
  {
   "cell_type": "code",
   "execution_count": 72,
   "id": "aceb9351",
   "metadata": {},
   "outputs": [
    {
     "name": "stdout",
     "output_type": "stream",
     "text": [
      "Enter Email: bhushanrchitte2021@gmail.com\n"
     ]
    },
    {
     "data": {
      "text/plain": [
       "'bhushanrchitte2021@gmail.com'"
      ]
     },
     "execution_count": 72,
     "metadata": {},
     "output_type": "execute_result"
    }
   ],
   "source": [
    "# static vs dynamic\n",
    "input(\"Enter Email: \")"
   ]
  },
  {
   "cell_type": "markdown",
   "id": "b987fc37",
   "metadata": {},
   "source": [
    "### 7.Type Conversion"
   ]
  },
  {
   "cell_type": "code",
   "execution_count": 75,
   "id": "67a733c7",
   "metadata": {},
   "outputs": [
    {
     "name": "stdout",
     "output_type": "stream",
     "text": [
      "2.1\n",
      "<class 'int'> <class 'float'>\n"
     ]
    }
   ],
   "source": [
    "# implicit\n",
    "print(1+1.1)\n",
    "print(type(1),type(1.1))"
   ]
  },
  {
   "cell_type": "code",
   "execution_count": 9,
   "id": "0216aa30",
   "metadata": {},
   "outputs": [
    {
     "name": "stdout",
     "output_type": "stream",
     "text": [
      "1\n",
      "5\n",
      "4.0\n"
     ]
    }
   ],
   "source": [
    "# explicit\n",
    "#print(4+'4')\n",
    "\n",
    "print(int(1.1))\n",
    "print(str(5))\n",
    "print(float(4))"
   ]
  },
  {
   "cell_type": "code",
   "execution_count": 12,
   "id": "a14b6df7",
   "metadata": {},
   "outputs": [
    {
     "name": "stdout",
     "output_type": "stream",
     "text": [
      "12\n",
      "2\n",
      "2.1\n"
     ]
    }
   ],
   "source": [
    "print(1+int('11'))\n",
    "print(1+int(1.1))\n",
    "print(1.1+float(1))"
   ]
  },
  {
   "cell_type": "markdown",
   "id": "a7737eaa",
   "metadata": {},
   "source": [
    "### 8.Literals"
   ]
  },
  {
   "cell_type": "code",
   "execution_count": 87,
   "id": "d5de44d8",
   "metadata": {},
   "outputs": [
    {
     "name": "stdout",
     "output_type": "stream",
     "text": [
      "10 100 200 300\n",
      "10.5 150.0 0.0015\n",
      "3.14j 3.14 0.0\n"
     ]
    }
   ],
   "source": [
    "a = 0b1010 #Binary Literals\n",
    "b = 100 #Decimal Literal \n",
    "c = 0o310 #Octal Literal\n",
    "d = 0x12c #Hexadecimal Literal\n",
    "\n",
    "#Float Literal\n",
    "float_1 = 10.5 \n",
    "float_2 = 1.5e2 # 1.5 * 10^2\n",
    "float_3 = 1.5e-3 # 1.5 * 10^-3\n",
    "\n",
    "#Complex Literal \n",
    "x = 3.14j\n",
    "\n",
    "print(a, b, c, d)\n",
    "print(float_1, float_2,float_3)\n",
    "print(x, x.imag, x.real)"
   ]
  },
  {
   "cell_type": "code",
   "execution_count": 89,
   "id": "7317ed3f",
   "metadata": {},
   "outputs": [
    {
     "name": "stdout",
     "output_type": "stream",
     "text": [
      "3.14\n",
      "1.0\n"
     ]
    }
   ],
   "source": [
    "x =1+ 3.14j\n",
    "print(x.imag)\n",
    "print(x.real)"
   ]
  },
  {
   "cell_type": "code",
   "execution_count": 20,
   "id": "e2d187b5",
   "metadata": {},
   "outputs": [
    {
     "name": "stdout",
     "output_type": "stream",
     "text": [
      "This is Python\n",
      "This is Python\n",
      "C\n",
      "This is a multiline string with more than one line code.\n",
      "😀😆🤣\n",
      "raw \\n string\n"
     ]
    }
   ],
   "source": [
    "string = 'This is Python'\n",
    "strings = \"This is Python\"\n",
    "char = \"C\"\n",
    "multiline_str = \"\"\"This is a multiline string with more than one line code.\"\"\"\n",
    "unicode = u\"\\U0001f600\\U0001F606\\U0001F923\"\n",
    "raw_str = r\"raw \\n string\"\n",
    "\n",
    "print(string)\n",
    "print(strings)\n",
    "print(char)\n",
    "print(multiline_str)\n",
    "print(unicode)\n",
    "print(raw_str)"
   ]
  },
  {
   "cell_type": "code",
   "execution_count": 91,
   "id": "f998f33e",
   "metadata": {},
   "outputs": [
    {
     "name": "stdout",
     "output_type": "stream",
     "text": [
      "a: 5\n",
      "b: 10\n"
     ]
    }
   ],
   "source": [
    "# True=1, False=0\n",
    "a = True + 4\n",
    "b = False + 10\n",
    "\n",
    "print(\"a:\", a)\n",
    "print(\"b:\", b)"
   ]
  },
  {
   "cell_type": "code",
   "execution_count": 92,
   "id": "9b232a37",
   "metadata": {},
   "outputs": [
    {
     "name": "stdout",
     "output_type": "stream",
     "text": [
      "None\n"
     ]
    }
   ],
   "source": [
    "a=None\n",
    "print(a)"
   ]
  },
  {
   "cell_type": "markdown",
   "id": "4e698702",
   "metadata": {},
   "source": [
    "### 9.Operators"
   ]
  },
  {
   "cell_type": "code",
   "execution_count": 4,
   "id": "09ccee69",
   "metadata": {},
   "outputs": [
    {
     "name": "stdout",
     "output_type": "stream",
     "text": [
      "5+2: 7\n",
      "5-2: 3\n",
      "5*2: 10\n",
      "5/2: 2.5\n",
      "5//2: 2\n",
      "5%2: 1\n",
      "5**2: 25\n"
     ]
    }
   ],
   "source": [
    "# Arithmetic operators\n",
    "print(\"5+2:\",5+2)\n",
    "print(\"5-2:\",5-2)\n",
    "print(\"5*2:\",5*2)\n",
    "print(\"5/2:\",5/2)\n",
    "print(\"5//2:\",5//2)\n",
    "print(\"5%2:\",5%2)\n",
    "print(\"5**2:\",5**2)"
   ]
  },
  {
   "cell_type": "code",
   "execution_count": 5,
   "id": "c30454b9",
   "metadata": {},
   "outputs": [
    {
     "name": "stdout",
     "output_type": "stream",
     "text": [
      "True\n",
      "False\n",
      "True\n",
      "False\n",
      "True\n",
      "False\n"
     ]
    }
   ],
   "source": [
    "# Relational operators\n",
    "print(5>1)\n",
    "print(5<1)\n",
    "print(4>=4)\n",
    "print(5<=4)\n",
    "print(1==1)\n",
    "print(1!=1)"
   ]
  },
  {
   "cell_type": "code",
   "execution_count": 7,
   "id": "dc4bf84a",
   "metadata": {},
   "outputs": [
    {
     "name": "stdout",
     "output_type": "stream",
     "text": [
      "0\n",
      "1\n",
      "False\n"
     ]
    }
   ],
   "source": [
    "# logical operators\n",
    "print(1 and 0) # 1^0=0\n",
    "print(1 or 0) # 1or0=1\n",
    "print(not 1)  # ~1=0"
   ]
  },
  {
   "cell_type": "code",
   "execution_count": 16,
   "id": "4c9e63c3",
   "metadata": {},
   "outputs": [
    {
     "name": "stdout",
     "output_type": "stream",
     "text": [
      "2\n",
      "3\n",
      "1\n",
      "-3\n",
      "1\n",
      "20\n"
     ]
    }
   ],
   "source": [
    "# Bitwise operators\n",
    "\n",
    "# bitwise and\n",
    "print(2 & 3)  # 2=0010 ,3=0011 -> 0010 and 0011= (0010) ->2\n",
    "\n",
    "# bitwise or\n",
    "print(2|3)   #2=0010 ,3=0011 -> 0010 or 0011= (0011) ->3\n",
    "\n",
    "# bitwise xor\n",
    "print(2^3)\n",
    "\n",
    "print(~2)\n",
    "\n",
    "print(4>>2)\n",
    "\n",
    "print(5<<2)"
   ]
  },
  {
   "cell_type": "code",
   "execution_count": 17,
   "id": "e1f78951",
   "metadata": {},
   "outputs": [],
   "source": [
    "# Assignment operators\n",
    "# =\n",
    "# a=2\n",
    "\n",
    "a=2\n",
    "\n",
    "a+=2\n",
    "a-=2\n",
    "a*=2\n",
    "a/=2"
   ]
  },
  {
   "cell_type": "code",
   "execution_count": 13,
   "id": "e04f3868",
   "metadata": {},
   "outputs": [
    {
     "name": "stdout",
     "output_type": "stream",
     "text": [
      "True\n",
      "False\n",
      "False\n"
     ]
    }
   ],
   "source": [
    "# Membership operators\n",
    "# in/not in\n",
    "\n",
    "print('D' in 'Delhi')\n",
    "print('d' in 'Delhi')\n",
    "print(1 not in [1,2,3])"
   ]
  },
  {
   "cell_type": "code",
   "execution_count": 5,
   "id": "8ba2dea6",
   "metadata": {},
   "outputs": [
    {
     "name": "stdout",
     "output_type": "stream",
     "text": [
      "Enter three digit num: 123\n",
      "6\n"
     ]
    }
   ],
   "source": [
    "# progrom to find sum of three digit number\n",
    "num=int(input(\"Enter three digit num: \"))\n",
    "\n",
    "a=num % 10\n",
    "#print(a)\n",
    "\n",
    "num=num//10\n",
    "#print(num)\n",
    "\n",
    "b=num % 10\n",
    "#print(b)\n",
    "\n",
    "num=num//10\n",
    "#print(num)\n",
    "\n",
    "c=num % 10\n",
    "#print(c)\n",
    "\n",
    "print(a+b+c)"
   ]
  },
  {
   "cell_type": "code",
   "execution_count": 6,
   "id": "d4dc1985",
   "metadata": {},
   "outputs": [
    {
     "name": "stdout",
     "output_type": "stream",
     "text": [
      "Enter number: 123456789\n",
      "45\n"
     ]
    }
   ],
   "source": [
    "# progrom to find sum of any digit number\n",
    "num=input(\"Enter number: \")\n",
    "add=[]\n",
    "\n",
    "for i in range(len(num)):\n",
    "    num=int(num)\n",
    "    a=num%10\n",
    "    add.append(a)\n",
    "    num=num//10\n",
    "    \n",
    "print(sum(add))"
   ]
  },
  {
   "cell_type": "markdown",
   "id": "2c8fc819",
   "metadata": {},
   "source": [
    "### 10.if/else"
   ]
  },
  {
   "cell_type": "code",
   "execution_count": 40,
   "id": "7030d701",
   "metadata": {},
   "outputs": [
    {
     "name": "stdout",
     "output_type": "stream",
     "text": [
      "Enter Email: abc@gmail.com\n",
      "Enter Password: 1207\n",
      "!!! WELCOME !!!\n"
     ]
    }
   ],
   "source": [
    "email=input(\"Enter Email: \")\n",
    "password=input(\"Enter Password: \")\n",
    "\n",
    "if email=='abc@gmail.com' and password=='1207':\n",
    "    print(\"!!! WELCOME !!!\") \n",
    "elif email=='abc@gmail.com' and password!='1207':\n",
    "    print(\"!!! Incorrect Password !!!\")\n",
    "elif email!='abc@gmail.com' and password=='1207':\n",
    "    print(\"!!! Incorrect Email !!!\")\n",
    "else:\n",
    "    print(\"!!! Yup, Invalid !!!\")\n"
   ]
  },
  {
   "cell_type": "markdown",
   "id": "a2606950",
   "metadata": {},
   "source": [
    "### 11.Module"
   ]
  },
  {
   "cell_type": "code",
   "execution_count": 42,
   "id": "0491c3cd",
   "metadata": {},
   "outputs": [
    {
     "data": {
      "text/plain": [
       "4.0"
      ]
     },
     "execution_count": 42,
     "metadata": {},
     "output_type": "execute_result"
    }
   ],
   "source": [
    "# math\n",
    "import math\n",
    "math.sqrt(16)"
   ]
  },
  {
   "cell_type": "code",
   "execution_count": 45,
   "id": "ca702ff4",
   "metadata": {},
   "outputs": [
    {
     "name": "stdout",
     "output_type": "stream",
     "text": [
      "['False', 'None', 'True', 'and', 'as', 'assert', 'async', 'await', 'break', 'class', 'continue', 'def', 'del', 'elif', 'else', 'except', 'finally', 'for', 'from', 'global', 'if', 'import', 'in', 'is', 'lambda', 'nonlocal', 'not', 'or', 'pass', 'raise', 'return', 'try', 'while', 'with', 'yield']\n"
     ]
    }
   ],
   "source": [
    "# keyword\n",
    "import keyword\n",
    "print(keyword.kwlist)"
   ]
  },
  {
   "cell_type": "code",
   "execution_count": 48,
   "id": "f5dee54f",
   "metadata": {},
   "outputs": [
    {
     "name": "stdout",
     "output_type": "stream",
     "text": [
      "141\n"
     ]
    }
   ],
   "source": [
    "# random\n",
    "import random\n",
    "print(random.randint(1,1000))"
   ]
  },
  {
   "cell_type": "code",
   "execution_count": 1,
   "id": "d5553bb0",
   "metadata": {},
   "outputs": [
    {
     "name": "stdout",
     "output_type": "stream",
     "text": [
      "2023-07-28 18:28:55.408076\n"
     ]
    }
   ],
   "source": [
    "# datetime\n",
    "import datetime\n",
    "print(datetime.datetime.now())"
   ]
  },
  {
   "cell_type": "code",
   "execution_count": 51,
   "id": "7665d703",
   "metadata": {},
   "outputs": [
    {
     "name": "stdout",
     "output_type": "stream",
     "text": [
      "\n",
      "Please wait a moment while I gather a list of all available modules...\n",
      "\n"
     ]
    },
    {
     "name": "stderr",
     "output_type": "stream",
     "text": [
      "WARNING: AstropyDeprecationWarning: The private astropy._erfa module has been made into its own package, pyerfa, which is a dependency of astropy and can be imported directly using \"import erfa\" [astropy._erfa]\n",
      "C:\\Users\\DELL\\anaconda3\\lib\\site-packages\\caffe2\\__init__.py:5: UserWarning: Caffe2 support is not fully enabled in this PyTorch build. Please enable Caffe2 by building PyTorch from source with `BUILD_CAFFE2=1` flag.\n",
      "  warnings.warn(\"Caffe2 support is not fully enabled in this PyTorch build. \"\n",
      "C:\\Users\\DELL\\anaconda3\\lib\\site-packages\\caffe2\\proto\\__init__.py:17: UserWarning: Caffe2 support is not enabled in this PyTorch build. Please enable Caffe2 by building PyTorch from source with `BUILD_CAFFE2=1` flag.\n",
      "  warnings.warn('Caffe2 support is not enabled in this PyTorch build. '\n",
      "C:\\Users\\DELL\\anaconda3\\lib\\site-packages\\caffe2\\proto\\__init__.py:17: UserWarning: Caffe2 support is not enabled in this PyTorch build. Please enable Caffe2 by building PyTorch from source with `BUILD_CAFFE2=1` flag.\n",
      "  warnings.warn('Caffe2 support is not enabled in this PyTorch build. '\n",
      "C:\\Users\\DELL\\anaconda3\\lib\\site-packages\\caffe2\\python\\__init__.py:9: UserWarning: Caffe2 support is not enabled in this PyTorch build. Please enable Caffe2 by building PyTorch from source with `BUILD_CAFFE2=1` flag.\n",
      "  warnings.warn('Caffe2 support is not enabled in this PyTorch build. '\n",
      "C:\\Users\\DELL\\anaconda3\\lib\\site-packages\\paramiko\\transport.py:219: CryptographyDeprecationWarning: Blowfish has been deprecated\n",
      "  \"class\": algorithms.Blowfish,\n",
      "C:\\Users\\DELL\\anaconda3\\lib\\site-packages\\llvmlite\\llvmpy\\__init__.py:3: UserWarning: The module `llvmlite.llvmpy` is deprecated and will be removed in the future.\n",
      "  warnings.warn(\n",
      "C:\\Users\\DELL\\anaconda3\\lib\\site-packages\\nltk\\twitter\\__init__.py:20: UserWarning: The twython library has not been installed. Some functionality from the twitter package will not be available.\n",
      "  warnings.warn(\n",
      "C:\\Users\\DELL\\anaconda3\\lib\\pkgutil.py:92: UserWarning: The numpy.array_api submodule is still experimental. See NEP 47.\n",
      "  __import__(info.name)\n",
      "C:\\Users\\DELL\\anaconda3\\lib\\site-packages\\_distutils_hack\\__init__.py:33: UserWarning: Setuptools is replacing distutils.\n",
      "  warnings.warn(\"Setuptools is replacing distutils.\")\n",
      "C:\\Users\\DELL\\anaconda3\\lib\\pkgutil.py:92: UserWarning:\n",
      "\n",
      "viewer requires Qt\n",
      "\n",
      "No QCoreApplication instance found. Application patches not applied. You have to call load_stylesheet function after instantiation of QApplication to take effect. \n",
      "NOTE: Redirects are currently not supported in Windows or MacOs.\n",
      "C:\\Users\\DELL\\anaconda3\\lib\\pkgutil.py:107: VisibleDeprecationWarning:\n",
      "\n",
      "zmq.eventloop.minitornado is deprecated in pyzmq 14.0 and will be removed.\n",
      "    Install tornado itself to use zmq with the tornado IOLoop.\n",
      "    \n",
      "\n"
     ]
    },
    {
     "name": "stdout",
     "output_type": "stream",
     "text": [
      "ComputedAttribute   conda_env           modulefinder        sockshandler\n",
      "ExtensionClass      conda_pack          mpmath              sortedcontainers\n",
      "IPython             conda_package_handling msgpack             soupsieve\n",
      "MethodObject        conda_package_streaming msilib              sphinx\n",
      "OpenSSL             conda_token         msvcrt              spyder\n",
      "PIL                 conda_verify        multimethod         spyder_kernels\n",
      "PyQt5               configparser        multipledispatch    sqlalchemy\n",
      "Record              constantly          multiprocessing     sqlite3\n",
      "TBB                 contextlib          munkres             sre_compile\n",
      "__future__          contextvars         mypy_extensions     sre_constants\n",
      "_abc                contourpy           mysql               sre_parse\n",
      "_aix_support        cookiecutter        mysqlx              ssl\n",
      "_argon2_cffi_bindings copy                nacl                sspi\n",
      "_ast                copyreg             navigator_updater   sspicon\n",
      "_asyncio            crypt               nbclassic           stack_data\n",
      "_bisect             cryptography        nbclient            stat\n",
      "_black_version      cssselect           nbconvert           statistics\n",
      "_blake2             csv                 nbformat            statsmodels\n",
      "_bootsubprocess     ctypes              nest_asyncio        string\n",
      "_bz2                curl                netbios             stringprep\n",
      "_cffi_backend       curses              netrc               struct\n",
      "_codecs             cwp                 networkx            subprocess\n",
      "_codecs_cn          cycler              nltk                sunau\n",
      "_codecs_hk          cytoolz             nntplib             sympy\n",
      "_codecs_iso2022     daal4py             notebook            symtable\n",
      "_codecs_jp          dacite              notebook_shim       sys\n",
      "_codecs_kr          dask                nt                  sysconfig\n",
      "_codecs_tw          dataclasses         ntpath              tables\n",
      "_collections        datashader          ntsecuritycon       tabnanny\n",
      "_collections_abc    datashape           nturl2path          tabulate\n",
      "_compat_pickle      datetime            numba               tangled_up_in_unicode\n",
      "_compression        dateutil            numbergen           tarfile\n",
      "_contextvars        dbi                 numbers             tbb\n",
      "_csv                dbm                 numexpr             tblib\n",
      "_ctypes             dde                 numpy               telnetlib\n",
      "_ctypes_test        debugpy             numpydoc            tempfile\n",
      "_datetime           decimal             odbc                tenacity\n",
      "_decimal            decorator           onedal              terminado\n",
      "_distutils_hack     defusedxml          opcode              test\n",
      "_elementtree        diff_match_patch    opendatasets        test_pycosat\n",
      "_functools          difflib             openpyxl            text_unidecode\n",
      "_hashlib            dill                operator            textdistance\n",
      "_heapq              dis                 optparse            textwrap\n",
      "_imp                distributed         os                  this\n",
      "_io                 distutils           packaging           threading\n",
      "_json               docstring_to_markdown pandas              threadpoolctl\n",
      "_locale             doctest             pandas_profiling    three_merge\n",
      "_lsprof             docutils            pandocfilters       tifffile\n",
      "_lzma               email               panel               time\n",
      "_markupbase         encodings           param               timeit\n",
      "_md5                ensurepip           paramiko            timer\n",
      "_msi                entrypoints         parsel              tinycss2\n",
      "_multibytecodec     enum                parso               tkinter\n",
      "_multiprocessing    erfa                partd               tldextract\n",
      "_nsis               errno               past                tlz\n",
      "_opcode             et_xmlfile          pathlib             token\n",
      "_operator           executing           pathspec            tokenize\n",
      "_osx_support        fastjsonschema      patsy               tokenizers\n",
      "_overlapped         faulthandler        pdb                 toml\n",
      "_pickle             filecmp             pep8                tomli\n",
      "_plotly_future_     fileinput           perfmon             tomlkit\n",
      "_plotly_utils       filelock            pexpect             toolz\n",
      "_py_abc             flake8              phik                torch\n",
      "_pydecimal          flask               pickle              torchgen\n",
      "_pyio               flit_core           pickleshare         tornado\n",
      "_pyrsistent_version fnmatch             pickletools         tqdm\n",
      "_pytest             fontTools           pip                 trace\n",
      "_queue              fractions           pipes               traceback\n",
      "_random             fsspec              pkg_resources       tracemalloc\n",
      "_ruamel_yaml        ftplib              pkginfo             traitlets\n",
      "_sha1               functools           pkgutil             transformers\n",
      "_sha256             future              platform            tty\n",
      "_sha3               gc                  platformdirs        turtle\n",
      "_sha512             genericpath         plistlib            turtledemo\n",
      "_signal             gensim              plotly              twisted\n",
      "_sitebuiltins       getopt              pluggy              typeguard\n",
      "_socket             getpass             ply                 types\n",
      "_sqlite3            gettext             pooch               typing\n",
      "_sre                glob                poplib              typing_extensions\n",
      "_ssl                glob2               posixpath           ujson\n",
      "_stat               graphlib            poyo                unicodedata\n",
      "_statistics         greenlet            pprint              unidecode\n",
      "_string             gzip                profile             unittest\n",
      "_strptime           h5py                prometheus_client   uritools\n",
      "_struct             hamcrest            prompt_toolkit      urlextract\n",
      "_symtable           hashlib             protego             urllib\n",
      "_system_path        heapdict            pstats              urllib3\n",
      "_testbuffer         heapq               psutil              uu\n",
      "_testcapi           hmac                pty                 uuid\n",
      "_testconsole        holoviews           ptyprocess          venv\n",
      "_testimportmultiple html                pure_eval           visions\n",
      "_testinternalcapi   htmlmin             pvectorc            w3lib\n",
      "_testmultiphase     http                py                  warnings\n",
      "_thread             huggingface_hub     py_compile          watchdog\n",
      "_threading_local    hvplot              pyasn1              wave\n",
      "_tkinter            hyperlink           pyasn1_modules      wcwidth\n",
      "_tracemalloc        idlelib             pyclbr              weakref\n",
      "_uuid               idna                pycodestyle         webbrowser\n",
      "_warnings           imagecodecs         pycosat             webencodings\n",
      "_weakref            imagehash           pycparser           websocket\n",
      "_weakrefset         imageio             pyct                werkzeug\n",
      "_win32sysloader     imagesize           pycurl              whatthepatch\n",
      "_winapi             imaplib             pydantic            wheel\n",
      "_winxptheme         imblearn            pydispatch          widgetsnbextension\n",
      "_xxsubinterpreters  imghdr              pydoc               win2kras\n",
      "_yaml               imp                 pydoc_data          win32api\n",
      "_zoneinfo           importlib           pydocstyle          win32clipboard\n",
      "abc                 importlib_metadata  pyexpat             win32com\n",
      "adodbapi            incremental         pyflakes            win32con\n",
      "afxres              inflection          pygments            win32console\n",
      "aifc                iniconfig           pylab               win32cred\n",
      "alabaster           inspect             pylint              win32crypt\n",
      "anaconda_navigator  intake              pylint_venv         win32cryptcon\n",
      "anaconda_project    intervaltree        pyls_spyder         win32ctypes\n",
      "antigravity         io                  pylsp               win32event\n",
      "anyio               ipaddress           pylsp_black         win32evtlog\n",
      "appdirs             ipykernel           pylsp_jsonrpc       win32evtlogutil\n",
      "argon2              ipykernel_launcher  pyodbc              win32file\n",
      "argparse            ipython_genutils    pyparsing           win32gui\n",
      "array               ipywidgets          pyrsistent          win32gui_struct\n",
      "arrow               isapi               pytest              win32help\n",
      "ast                 isort               pythoncom           win32inet\n",
      "astroid             isympy              pytoolconfig        win32inetcon\n",
      "astropy             itemadapter         pytz                win32job\n",
      "asttokens           itemloaders         pyviz_comms         win32lz\n",
      "asynchat            itertools           pywin               win32net\n",
      "asyncio             itsdangerous        pywin32_bootstrap   win32netcon\n",
      "asyncore            jedi                pywin32_testutil    win32pdh\n",
      "atexit              jellyfish           pywintypes          win32pdhquery\n",
      "atomicwrites        jinja2              pywt                win32pdhutil\n",
      "attr                jinja2_time         qdarkstyle          win32pipe\n",
      "attrs               jmespath            qstylizer           win32print\n",
      "audioop             joblib              qtawesome           win32process\n",
      "automat             json                qtconsole           win32profile\n",
      "autopep8            json5               qtpy                win32ras\n",
      "babel               jsonpatch           queue               win32rcparser\n",
      "backcall            jsonpointer         queuelib            win32security\n",
      "backports           jsonschema          quopri              win32service\n",
      "base64              jupyter             random              win32serviceutil\n",
      "bcrypt              jupyter_client      rasutil             win32timezone\n",
      "bdb                 jupyter_console     re                  win32trace\n",
      "binaryornot         jupyter_core        regcheck            win32traceutil\n",
      "binascii            jupyter_server      regex               win32transaction\n",
      "binhex              jupyterlab          regutil             win32ts\n",
      "binstar_client      jupyterlab_plotly   repo_cli            win32ui\n",
      "bisect              jupyterlab_pygments reprlib             win32uiole\n",
      "black               jupyterlab_server   requests            win32verstamp\n",
      "blackd              jupyterlab_widgets  requests_file       win32wnet\n",
      "bleach              jwt                 requests_toolbelt   win_inet_pton\n",
      "blib2to3            kaggle              rlcompleter         wincertstore\n",
      "bokeh               keyring             rope                winerror\n",
      "boltons             keyword             rtree               winioctlcon\n",
      "bottleneck          kiwisolver          ruamel_yaml         winnt\n",
      "brotli              lazy_object_proxy   runpy               winperf\n",
      "bs4                 lib2to3             sched               winpty\n",
      "builtins            libarchive          scipy               winreg\n",
      "bz2                 libfuturize         scrapy              winsound\n",
      "cProfile            libpasteurize       seaborn             winxpgui\n",
      "caffe2              lief                secrets             winxptheme\n",
      "calendar            linecache           select              wordcloud\n",
      "certifi             llvmlite            selectors           wrapt\n",
      "cffi                locale              send2trash          wsgiref\n",
      "cgi                 locket              service_identity    xarray\n",
      "cgitb               logging             servicemanager      xdrlib\n",
      "chardet             lxml                setuptools          xlwings\n",
      "charset_normalizer  lz4                 shelve              xml\n",
      "chunk               lzma                shlex               xmlrpc\n",
      "click               mailbox             shutil              xxlimited\n",
      "cloudpickle         mailcap             signal              xxlimited_35\n",
      "clyent              markdown            sipbuild            xxsubtype\n",
      "cmath               markupsafe          site                yaml\n",
      "cmd                 marshal             six                 yapf\n",
      "code                math                skimage             yapftests\n",
      "codecs              matplotlib          sklearn             ydata_profiling\n",
      "codeop              matplotlib_inline   sklearnex           zict\n",
      "collections         mccabe              slugify             zipapp\n",
      "colorama            menuinst            smart_open          zipfile\n",
      "colorcet            mimetypes           smtpd               zipimport\n",
      "colorsys            mistune             smtplib             zipp\n",
      "comm                mkl                 snappy              zlib\n",
      "commctrl            mkl_fft             sndhdr              zmq\n",
      "compileall          mkl_random          sniffio             zoneinfo\n",
      "concurrent          mmap                snowballstemmer     zope\n",
      "conda               mmapfile            socket              zstandard\n",
      "conda_build         mmsystem            socketserver        \n",
      "conda_content_trust mock                socks               \n",
      "\n",
      "Enter any module name to get more help.  Or, type \"modules spam\" to search\n",
      "for modules whose name or summary contain the string \"spam\".\n",
      "\n"
     ]
    }
   ],
   "source": [
    "help('modules')"
   ]
  },
  {
   "cell_type": "markdown",
   "id": "7961b35e",
   "metadata": {},
   "source": [
    "### 12.loops"
   ]
  },
  {
   "cell_type": "markdown",
   "id": "7fa23f49",
   "metadata": {},
   "source": [
    "- while loop\n",
    "- for loop"
   ]
  },
  {
   "cell_type": "code",
   "execution_count": 2,
   "id": "2f5d38e2",
   "metadata": {},
   "outputs": [
    {
     "name": "stdout",
     "output_type": "stream",
     "text": [
      "Enter number: 12\n",
      "12 X 1 = 12\n",
      "12 X 2 = 24\n",
      "12 X 3 = 36\n",
      "12 X 4 = 48\n",
      "12 X 5 = 60\n",
      "12 X 6 = 72\n",
      "12 X 7 = 84\n",
      "12 X 8 = 96\n",
      "12 X 9 = 108\n",
      "12 X 10 = 120\n"
     ]
    }
   ],
   "source": [
    "num=int(input(\"Enter number: \"))\n",
    "\n",
    "i=1\n",
    "while i<11:\n",
    "    print(num,\"X\",i,\"=\",num*i)\n",
    "    i+=1"
   ]
  },
  {
   "cell_type": "code",
   "execution_count": 4,
   "id": "2f9ef388",
   "metadata": {},
   "outputs": [
    {
     "name": "stdout",
     "output_type": "stream",
     "text": [
      "1\n",
      "2\n",
      "Limit crossed\n"
     ]
    }
   ],
   "source": [
    "# while loop with else\n",
    "\n",
    "x=1\n",
    "\n",
    "while x<3:\n",
    "    print(x)\n",
    "    x+=1\n",
    "else:\n",
    "    print(\"Limit crossed\")"
   ]
  },
  {
   "cell_type": "code",
   "execution_count": 6,
   "id": "b1a5b61f",
   "metadata": {},
   "outputs": [
    {
     "name": "stdout",
     "output_type": "stream",
     "text": [
      "1\n",
      "2\n",
      "3\n",
      "4\n",
      "5\n",
      "6\n",
      "7\n",
      "8\n",
      "9\n",
      "10\n"
     ]
    }
   ],
   "source": [
    "for i in range(1,11):\n",
    "    print(i)"
   ]
  },
  {
   "cell_type": "code",
   "execution_count": 7,
   "id": "e630c03e",
   "metadata": {},
   "outputs": [
    {
     "name": "stdout",
     "output_type": "stream",
     "text": [
      "1\n",
      "3\n",
      "5\n",
      "7\n",
      "9\n"
     ]
    }
   ],
   "source": [
    "for i in range(1,11,2):\n",
    "    print(i)"
   ]
  },
  {
   "cell_type": "code",
   "execution_count": 7,
   "id": "bf6ef473",
   "metadata": {},
   "outputs": [
    {
     "name": "stdout",
     "output_type": "stream",
     "text": [
      "10 = 10000\n",
      "9 = 9090.90909090909\n",
      "8 = 8264.462809917353\n",
      "7 = 7513.148009015775\n",
      "6 = 6830.134553650703\n",
      "5 = 6209.213230591548\n",
      "4 = 5644.739300537771\n",
      "3 = 5131.5811823070635\n",
      "2 = 4665.07380209733\n",
      "1 = 4240.976183724845\n"
     ]
    }
   ],
   "source": [
    "current=10000\n",
    "\n",
    "for i in range(10,0,-1):\n",
    "    print(i,\"=\",current)\n",
    "    current=current/1.1\n",
    "    \n",
    "    \n",
    "\n",
    "# (x) + (10 % of x) = 10000\n",
    "# x + 0.1x = 10000\n",
    "# 1.1x = 10000\n",
    "# x=(10000/1.1)\n"
   ]
  },
  {
   "cell_type": "code",
   "execution_count": 16,
   "id": "eb69e146",
   "metadata": {},
   "outputs": [
    {
     "name": "stdout",
     "output_type": "stream",
     "text": [
      "Enter number: 5\n",
      "2.708333333333333\n"
     ]
    }
   ],
   "source": [
    "# sequence sum\n",
    "\n",
    "n=int(input(\"Enter number: \"))\n",
    "\n",
    "result=0\n",
    "fact=1\n",
    "\n",
    "for i in range(1,n+1):\n",
    "    fact=fact*i\n",
    "    result=(result+(i/fact))\n",
    "\n",
    "print(result)"
   ]
  },
  {
   "cell_type": "markdown",
   "id": "9f584032",
   "metadata": {},
   "source": [
    "# Nested loops"
   ]
  },
  {
   "cell_type": "code",
   "execution_count": 17,
   "id": "e6fd1905",
   "metadata": {},
   "outputs": [
    {
     "name": "stdout",
     "output_type": "stream",
     "text": [
      "1 1\n",
      "1 2\n",
      "1 3\n",
      "1 4\n",
      "2 1\n",
      "2 2\n",
      "2 3\n",
      "2 4\n",
      "3 1\n",
      "3 2\n",
      "3 3\n",
      "3 4\n",
      "4 1\n",
      "4 2\n",
      "4 3\n",
      "4 4\n"
     ]
    }
   ],
   "source": [
    "for i in range(1,5):\n",
    "    for j in range(1,5):\n",
    "        print(i,j)"
   ]
  },
  {
   "cell_type": "code",
   "execution_count": 25,
   "id": "39480464",
   "metadata": {},
   "outputs": [
    {
     "name": "stdout",
     "output_type": "stream",
     "text": [
      "Enter rows: 12\n",
      "* \n",
      "* * \n",
      "* * * \n",
      "* * * * \n",
      "* * * * * \n",
      "* * * * * * \n",
      "* * * * * * * \n",
      "* * * * * * * * \n",
      "* * * * * * * * * \n",
      "* * * * * * * * * * \n",
      "* * * * * * * * * * * \n",
      "* * * * * * * * * * * * \n"
     ]
    }
   ],
   "source": [
    "rows=int(input(\"Enter rows: \"))\n",
    "for i in range(1,rows+1):\n",
    "    for j in range(1,i+1):\n",
    "        print('*',end=\" \")\n",
    "    print()"
   ]
  },
  {
   "cell_type": "code",
   "execution_count": 29,
   "id": "286731aa",
   "metadata": {},
   "outputs": [
    {
     "name": "stdout",
     "output_type": "stream",
     "text": [
      "Enter rows: 10\n",
      "1 \n",
      "1 2 \n",
      "1 2 3 \n",
      "1 2 3 4 \n",
      "1 2 3 4 5 \n",
      "1 2 3 4 5 6 \n",
      "1 2 3 4 5 6 7 \n",
      "1 2 3 4 5 6 7 8 \n",
      "1 2 3 4 5 6 7 8 9 \n",
      "1 2 3 4 5 6 7 8 9 10 \n"
     ]
    }
   ],
   "source": [
    "rows=int(input(\"Enter rows: \"))\n",
    "for i in range(1,rows+1):\n",
    "    for j in range(1,i+1):\n",
    "        print(j,end=\" \")\n",
    "    print()"
   ]
  },
  {
   "cell_type": "code",
   "execution_count": 8,
   "id": "2d70e74a",
   "metadata": {},
   "outputs": [
    {
     "name": "stdout",
     "output_type": "stream",
     "text": [
      "Enter rows: 10\n",
      "1 \n",
      "1 2 1 \n",
      "1 2 3 2 1 \n",
      "1 2 3 4 3 2 1 \n",
      "1 2 3 4 5 4 3 2 1 \n",
      "1 2 3 4 5 6 5 4 3 2 1 \n",
      "1 2 3 4 5 6 7 6 5 4 3 2 1 \n",
      "1 2 3 4 5 6 7 8 7 6 5 4 3 2 1 \n",
      "1 2 3 4 5 6 7 8 9 8 7 6 5 4 3 2 1 \n",
      "1 2 3 4 5 6 7 8 9 10 9 8 7 6 5 4 3 2 1 \n"
     ]
    }
   ],
   "source": [
    "rows=int(input(\"Enter rows: \"))\n",
    "\n",
    "for i in range(1,rows+1):\n",
    "    for j in range(1,i+1):\n",
    "        print(j,end=\" \")\n",
    "    for k in range(i-1,0,-1):\n",
    "        print(k,end=\" \")\n",
    "    print()   "
   ]
  },
  {
   "cell_type": "markdown",
   "id": "86b5c154",
   "metadata": {},
   "source": [
    "## loop control statement"
   ]
  },
  {
   "cell_type": "markdown",
   "id": "98936f66",
   "metadata": {},
   "source": [
    "### break"
   ]
  },
  {
   "cell_type": "markdown",
   "id": "2f350650",
   "metadata": {},
   "source": [
    "### continue"
   ]
  },
  {
   "cell_type": "markdown",
   "id": "379c9735",
   "metadata": {},
   "source": [
    "### pass"
   ]
  },
  {
   "cell_type": "code",
   "execution_count": 38,
   "id": "986f871c",
   "metadata": {},
   "outputs": [
    {
     "name": "stdout",
     "output_type": "stream",
     "text": [
      "1\n",
      "2\n",
      "3\n",
      "4\n"
     ]
    }
   ],
   "source": [
    "for i in range(1,10):\n",
    "    if i==5:\n",
    "        break\n",
    "    print(i)\n",
    "# e.g database system"
   ]
  },
  {
   "cell_type": "code",
   "execution_count": 9,
   "id": "11d1b37f",
   "metadata": {},
   "outputs": [
    {
     "name": "stdout",
     "output_type": "stream",
     "text": [
      "1\n",
      "2\n",
      "3\n",
      "4\n",
      "-\n",
      "6\n",
      "7\n",
      "8\n",
      "9\n"
     ]
    }
   ],
   "source": [
    "for i in range(1,10):\n",
    "    if i==5:\n",
    "        print(\"-\")\n",
    "        continue\n",
    "    print(i)\n",
    "# e.g. in s/w where particular product stock empty"
   ]
  },
  {
   "cell_type": "code",
   "execution_count": 2,
   "id": "3489a3ba",
   "metadata": {},
   "outputs": [
    {
     "name": "stdout",
     "output_type": "stream",
     "text": [
      "Enter lower range: 2\n",
      "Enter upper range: 11\n",
      "2\n",
      "3\n",
      "5\n",
      "7\n",
      "11\n"
     ]
    }
   ],
   "source": [
    "lower=int(input(\"Enter lower range: \"))\n",
    "upper=int(input(\"Enter upper range: \"))\n",
    "\n",
    "for i in range(lower,upper+1):\n",
    "    for j in range(2,i):\n",
    "        if i%j==0:\n",
    "            break\n",
    "    else:\n",
    "        print(i)"
   ]
  },
  {
   "cell_type": "code",
   "execution_count": 46,
   "id": "0b8d896a",
   "metadata": {},
   "outputs": [],
   "source": [
    "for i in range(1,5):\n",
    "    pass"
   ]
  },
  {
   "cell_type": "markdown",
   "id": "293ea81f",
   "metadata": {},
   "source": [
    "## 13.Strings"
   ]
  },
  {
   "cell_type": "markdown",
   "id": "a0dbba74",
   "metadata": {},
   "source": [
    "### Strings are sequence of characters"
   ]
  },
  {
   "cell_type": "markdown",
   "id": "29548dce",
   "metadata": {},
   "source": [
    "### In python specifically, strings are a sequence of unicode characters"
   ]
  },
  {
   "cell_type": "markdown",
   "id": "41007554",
   "metadata": {},
   "source": [
    "Creating strings"
   ]
  },
  {
   "cell_type": "markdown",
   "id": "5d8198ad",
   "metadata": {},
   "source": [
    "Accessing string"
   ]
  },
  {
   "cell_type": "markdown",
   "id": "ceb6d0a5",
   "metadata": {},
   "source": [
    "Adding Chars to string"
   ]
  },
  {
   "cell_type": "markdown",
   "id": "f8308502",
   "metadata": {},
   "source": [
    "Editing string"
   ]
  },
  {
   "cell_type": "markdown",
   "id": "f93bb243",
   "metadata": {},
   "source": [
    "Deleting string"
   ]
  },
  {
   "cell_type": "markdown",
   "id": "504c7f62",
   "metadata": {},
   "source": [
    "operations on string"
   ]
  },
  {
   "cell_type": "markdown",
   "id": "3f4e271e",
   "metadata": {},
   "source": [
    "string function"
   ]
  },
  {
   "cell_type": "code",
   "execution_count": 20,
   "id": "dca7435c",
   "metadata": {},
   "outputs": [
    {
     "name": "stdout",
     "output_type": "stream",
     "text": [
      "123\n"
     ]
    }
   ],
   "source": [
    "s='hello'\n",
    "s=\"hello\"\n",
    "s='''hello'''\n",
    "s=\"\"\"hello\"\"\"\n",
    "s=str(123)\n",
    "print(s)"
   ]
  },
  {
   "cell_type": "code",
   "execution_count": 10,
   "id": "fdbbcdc1",
   "metadata": {},
   "outputs": [
    {
     "name": "stdout",
     "output_type": "stream",
     "text": [
      "H\n",
      "W\n",
      "d\n",
      "o\n"
     ]
    }
   ],
   "source": [
    "s=\"Hello World\"\n",
    "\n",
    "# positive indexing\n",
    "print(s[0])\n",
    "print(s[6])\n",
    "\n",
    "# negative indexing\n",
    "print(s[-1])\n",
    "print(s[-4])"
   ]
  },
  {
   "cell_type": "code",
   "execution_count": 26,
   "id": "45ad3b7d",
   "metadata": {},
   "outputs": [
    {
     "name": "stdout",
     "output_type": "stream",
     "text": [
      "ello\n"
     ]
    }
   ],
   "source": [
    "# slicing\n",
    "s=\"Hello World\"\n",
    "\n",
    "print(s[1:5])"
   ]
  },
  {
   "cell_type": "code",
   "execution_count": 27,
   "id": "87cf6fea",
   "metadata": {},
   "outputs": [
    {
     "name": "stdout",
     "output_type": "stream",
     "text": [
      "Hello\n"
     ]
    }
   ],
   "source": [
    "print(s[0:5])"
   ]
  },
  {
   "cell_type": "code",
   "execution_count": 28,
   "id": "c945edfe",
   "metadata": {},
   "outputs": [
    {
     "name": "stdout",
     "output_type": "stream",
     "text": [
      "W olle\n"
     ]
    }
   ],
   "source": [
    "print(s[6:0:-1])"
   ]
  },
  {
   "cell_type": "code",
   "execution_count": 29,
   "id": "c5347e18",
   "metadata": {},
   "outputs": [
    {
     "name": "stdout",
     "output_type": "stream",
     "text": [
      "llo World\n"
     ]
    }
   ],
   "source": [
    "print(s[2:])"
   ]
  },
  {
   "cell_type": "code",
   "execution_count": 30,
   "id": "c1d74557",
   "metadata": {},
   "outputs": [
    {
     "name": "stdout",
     "output_type": "stream",
     "text": [
      "Hell\n"
     ]
    }
   ],
   "source": [
    "print(s[:4])"
   ]
  },
  {
   "cell_type": "code",
   "execution_count": 31,
   "id": "ca0dffac",
   "metadata": {},
   "outputs": [
    {
     "name": "stdout",
     "output_type": "stream",
     "text": [
      "l\n"
     ]
    }
   ],
   "source": [
    "print(s[2:3])"
   ]
  },
  {
   "cell_type": "code",
   "execution_count": 32,
   "id": "562727d7",
   "metadata": {},
   "outputs": [
    {
     "name": "stdout",
     "output_type": "stream",
     "text": [
      "Hello World\n"
     ]
    }
   ],
   "source": [
    "print(s[:])"
   ]
  },
  {
   "cell_type": "code",
   "execution_count": 33,
   "id": "444e6bc6",
   "metadata": {},
   "outputs": [
    {
     "name": "stdout",
     "output_type": "stream",
     "text": [
      "Hlo\n"
     ]
    }
   ],
   "source": [
    "print(s[0:6:2])"
   ]
  },
  {
   "cell_type": "code",
   "execution_count": 34,
   "id": "3248b7ff",
   "metadata": {},
   "outputs": [
    {
     "name": "stdout",
     "output_type": "stream",
     "text": [
      "dlroW olle\n"
     ]
    }
   ],
   "source": [
    "print(s[-1:0:-1])"
   ]
  },
  {
   "cell_type": "code",
   "execution_count": 35,
   "id": "3126a0e9",
   "metadata": {},
   "outputs": [
    {
     "name": "stdout",
     "output_type": "stream",
     "text": [
      "Wol\n"
     ]
    }
   ],
   "source": [
    "print(s[6:0:-2])"
   ]
  },
  {
   "cell_type": "code",
   "execution_count": 36,
   "id": "5d1dea63",
   "metadata": {},
   "outputs": [
    {
     "name": "stdout",
     "output_type": "stream",
     "text": [
      "Hello Worl\n"
     ]
    }
   ],
   "source": [
    "print(s[0:-1])"
   ]
  },
  {
   "cell_type": "code",
   "execution_count": 37,
   "id": "05d3a2a1",
   "metadata": {},
   "outputs": [
    {
     "name": "stdout",
     "output_type": "stream",
     "text": [
      "dlroW olleH\n"
     ]
    }
   ],
   "source": [
    "print(s[::-1])"
   ]
  },
  {
   "cell_type": "code",
   "execution_count": 38,
   "id": "afdadf77",
   "metadata": {},
   "outputs": [
    {
     "name": "stdout",
     "output_type": "stream",
     "text": [
      "World\n"
     ]
    }
   ],
   "source": [
    "print(s[-5:])"
   ]
  },
  {
   "cell_type": "code",
   "execution_count": 39,
   "id": "86681d7c",
   "metadata": {
    "scrolled": true
   },
   "outputs": [
    {
     "name": "stdout",
     "output_type": "stream",
     "text": [
      "dlroW\n"
     ]
    }
   ],
   "source": [
    "print(s[-1:-6:-1])"
   ]
  },
  {
   "cell_type": "code",
   "execution_count": 3,
   "id": "1b566647",
   "metadata": {
    "scrolled": true
   },
   "outputs": [
    {
     "ename": "TypeError",
     "evalue": "'str' object does not support item assignment",
     "output_type": "error",
     "traceback": [
      "\u001b[1;31m---------------------------------------------------------------------------\u001b[0m",
      "\u001b[1;31mTypeError\u001b[0m                                 Traceback (most recent call last)",
      "Cell \u001b[1;32mIn[3], line 3\u001b[0m\n\u001b[0;32m      1\u001b[0m \u001b[38;5;66;03m# edit\u001b[39;00m\n\u001b[0;32m      2\u001b[0m s\u001b[38;5;241m=\u001b[39m\u001b[38;5;124m\"\u001b[39m\u001b[38;5;124mHello World\u001b[39m\u001b[38;5;124m\"\u001b[39m\n\u001b[1;32m----> 3\u001b[0m s[\u001b[38;5;241m0\u001b[39m]\u001b[38;5;241m=\u001b[39m\u001b[38;5;124m'\u001b[39m\u001b[38;5;124mf\u001b[39m\u001b[38;5;124m'\u001b[39m\n",
      "\u001b[1;31mTypeError\u001b[0m: 'str' object does not support item assignment"
     ]
    }
   ],
   "source": [
    "# edit\n",
    "s=\"Hello World\"\n",
    "s[0]='f'\n",
    "# this is not possible because string is immutable"
   ]
  },
  {
   "cell_type": "code",
   "execution_count": 82,
   "id": "cda2feff",
   "metadata": {},
   "outputs": [
    {
     "ename": "NameError",
     "evalue": "name 's' is not defined",
     "output_type": "error",
     "traceback": [
      "\u001b[1;31m---------------------------------------------------------------------------\u001b[0m",
      "\u001b[1;31mNameError\u001b[0m                                 Traceback (most recent call last)",
      "Cell \u001b[1;32mIn[82], line 3\u001b[0m\n\u001b[0;32m      1\u001b[0m s\u001b[38;5;241m=\u001b[39m\u001b[38;5;124m\"\u001b[39m\u001b[38;5;124mHello World\u001b[39m\u001b[38;5;124m\"\u001b[39m\n\u001b[0;32m      2\u001b[0m \u001b[38;5;28;01mdel\u001b[39;00m s\n\u001b[1;32m----> 3\u001b[0m \u001b[38;5;28mprint\u001b[39m(\u001b[43ms\u001b[49m)\n",
      "\u001b[1;31mNameError\u001b[0m: name 's' is not defined"
     ]
    }
   ],
   "source": [
    "# delete\n",
    "s=\"Hello World\"\n",
    "del s  # by using del \n",
    "print(s)"
   ]
  },
  {
   "cell_type": "code",
   "execution_count": 84,
   "id": "15ccc2c9",
   "metadata": {},
   "outputs": [
    {
     "ename": "TypeError",
     "evalue": "'str' object does not support item deletion",
     "output_type": "error",
     "traceback": [
      "\u001b[1;31m---------------------------------------------------------------------------\u001b[0m",
      "\u001b[1;31mTypeError\u001b[0m                                 Traceback (most recent call last)",
      "Cell \u001b[1;32mIn[84], line 2\u001b[0m\n\u001b[0;32m      1\u001b[0m s\u001b[38;5;241m=\u001b[39m\u001b[38;5;124m\"\u001b[39m\u001b[38;5;124mHello World\u001b[39m\u001b[38;5;124m\"\u001b[39m\n\u001b[1;32m----> 2\u001b[0m \u001b[38;5;28;01mdel\u001b[39;00m s[\u001b[38;5;241m-\u001b[39m\u001b[38;5;241m1\u001b[39m:\u001b[38;5;241m-\u001b[39m\u001b[38;5;241m5\u001b[39m:\u001b[38;5;241m2\u001b[39m]\n\u001b[0;32m      3\u001b[0m \u001b[38;5;28mprint\u001b[39m(s)\n",
      "\u001b[1;31mTypeError\u001b[0m: 'str' object does not support item deletion"
     ]
    }
   ],
   "source": [
    "# we cannot delete particular part of string.\n",
    "s=\"Hello World\"\n",
    "del s[-1:-5:2]\n",
    "print(s)"
   ]
  },
  {
   "cell_type": "code",
   "execution_count": 90,
   "id": "701ad503",
   "metadata": {},
   "outputs": [],
   "source": [
    "# operation on string\n",
    "# arithmetic\n",
    "# relational\n",
    "# logical\n",
    "# loops on string\n",
    "# membership"
   ]
  },
  {
   "cell_type": "code",
   "execution_count": 96,
   "id": "b81df6a7",
   "metadata": {},
   "outputs": [
    {
     "name": "stdout",
     "output_type": "stream",
     "text": [
      "hello world\n"
     ]
    }
   ],
   "source": [
    "print('hello'+\" \"+'world')"
   ]
  },
  {
   "cell_type": "code",
   "execution_count": 97,
   "id": "45ed9063",
   "metadata": {},
   "outputs": [
    {
     "name": "stdout",
     "output_type": "stream",
     "text": [
      "hellohellohellohellohello\n"
     ]
    }
   ],
   "source": [
    "print('hello'*5)"
   ]
  },
  {
   "cell_type": "code",
   "execution_count": 98,
   "id": "70aada27",
   "metadata": {},
   "outputs": [
    {
     "name": "stdout",
     "output_type": "stream",
     "text": [
      "**************************************************\n"
     ]
    }
   ],
   "source": [
    "print('*'*50)"
   ]
  },
  {
   "cell_type": "code",
   "execution_count": 99,
   "id": "d31575e5",
   "metadata": {},
   "outputs": [
    {
     "data": {
      "text/plain": [
       "True"
      ]
     },
     "execution_count": 99,
     "metadata": {},
     "output_type": "execute_result"
    }
   ],
   "source": [
    "'delhi'=='delhi'"
   ]
  },
  {
   "cell_type": "code",
   "execution_count": 100,
   "id": "00d5f796",
   "metadata": {},
   "outputs": [
    {
     "data": {
      "text/plain": [
       "False"
      ]
     },
     "execution_count": 100,
     "metadata": {},
     "output_type": "execute_result"
    }
   ],
   "source": [
    "'delhi'!='delhi'"
   ]
  },
  {
   "cell_type": "code",
   "execution_count": 102,
   "id": "954fc8a7",
   "metadata": {},
   "outputs": [
    {
     "data": {
      "text/plain": [
       "False"
      ]
     },
     "execution_count": 102,
     "metadata": {},
     "output_type": "execute_result"
    }
   ],
   "source": [
    "'mumbai'>'pune'\n",
    "# lexiographically"
   ]
  },
  {
   "cell_type": "code",
   "execution_count": 104,
   "id": "498f240c",
   "metadata": {},
   "outputs": [
    {
     "data": {
      "text/plain": [
       "True"
      ]
     },
     "execution_count": 104,
     "metadata": {},
     "output_type": "execute_result"
    }
   ],
   "source": [
    "'PUNE'<'pune'"
   ]
  },
  {
   "cell_type": "code",
   "execution_count": 107,
   "id": "d66051b2",
   "metadata": {},
   "outputs": [
    {
     "data": {
      "text/plain": [
       "'world'"
      ]
     },
     "execution_count": 107,
     "metadata": {},
     "output_type": "execute_result"
    }
   ],
   "source": [
    "# empty string=false\n",
    "# string with char=True\n",
    "'hello' and 'world'"
   ]
  },
  {
   "cell_type": "code",
   "execution_count": 108,
   "id": "1b58117f",
   "metadata": {},
   "outputs": [
    {
     "data": {
      "text/plain": [
       "'hello'"
      ]
     },
     "execution_count": 108,
     "metadata": {},
     "output_type": "execute_result"
    }
   ],
   "source": [
    "'hello' or 'world'"
   ]
  },
  {
   "cell_type": "code",
   "execution_count": 110,
   "id": "7c3df735",
   "metadata": {},
   "outputs": [
    {
     "data": {
      "text/plain": [
       "''"
      ]
     },
     "execution_count": 110,
     "metadata": {},
     "output_type": "execute_result"
    }
   ],
   "source": [
    "# F and T = F\n",
    "'' and 'hello'"
   ]
  },
  {
   "cell_type": "code",
   "execution_count": 111,
   "id": "4e354092",
   "metadata": {},
   "outputs": [
    {
     "data": {
      "text/plain": [
       "'hello'"
      ]
     },
     "execution_count": 111,
     "metadata": {},
     "output_type": "execute_result"
    }
   ],
   "source": [
    "# F or T = T\n",
    "'' or 'hello'"
   ]
  },
  {
   "cell_type": "code",
   "execution_count": 113,
   "id": "fe7321d7",
   "metadata": {},
   "outputs": [
    {
     "data": {
      "text/plain": [
       "'hello'"
      ]
     },
     "execution_count": 113,
     "metadata": {},
     "output_type": "execute_result"
    }
   ],
   "source": [
    "'hello' or 'world'"
   ]
  },
  {
   "cell_type": "code",
   "execution_count": 114,
   "id": "d66561af",
   "metadata": {},
   "outputs": [
    {
     "data": {
      "text/plain": [
       "'world'"
      ]
     },
     "execution_count": 114,
     "metadata": {},
     "output_type": "execute_result"
    }
   ],
   "source": [
    "'hello' and 'world'"
   ]
  },
  {
   "cell_type": "code",
   "execution_count": 115,
   "id": "d7f89bc4",
   "metadata": {},
   "outputs": [
    {
     "data": {
      "text/plain": [
       "True"
      ]
     },
     "execution_count": 115,
     "metadata": {},
     "output_type": "execute_result"
    }
   ],
   "source": [
    "not ''"
   ]
  },
  {
   "cell_type": "code",
   "execution_count": 116,
   "id": "64f63a2d",
   "metadata": {},
   "outputs": [
    {
     "data": {
      "text/plain": [
       "False"
      ]
     },
     "execution_count": 116,
     "metadata": {},
     "output_type": "execute_result"
    }
   ],
   "source": [
    "not 'hello'"
   ]
  },
  {
   "cell_type": "code",
   "execution_count": 117,
   "id": "8d4d7575",
   "metadata": {},
   "outputs": [
    {
     "name": "stdout",
     "output_type": "stream",
     "text": [
      "h\n",
      "e\n",
      "l\n",
      "l\n",
      "o\n"
     ]
    }
   ],
   "source": [
    "for i in 'hello':\n",
    "    print(i)"
   ]
  },
  {
   "cell_type": "code",
   "execution_count": 118,
   "id": "6c28e4dd",
   "metadata": {},
   "outputs": [
    {
     "name": "stdout",
     "output_type": "stream",
     "text": [
      "pune\n",
      "pune\n",
      "pune\n",
      "pune\n",
      "pune\n"
     ]
    }
   ],
   "source": [
    "for i in 'delhi':\n",
    "    print('pune')"
   ]
  },
  {
   "cell_type": "code",
   "execution_count": 119,
   "id": "6d3a86e1",
   "metadata": {},
   "outputs": [
    {
     "data": {
      "text/plain": [
       "True"
      ]
     },
     "execution_count": 119,
     "metadata": {},
     "output_type": "execute_result"
    }
   ],
   "source": [
    "'D' in 'Delhi'"
   ]
  },
  {
   "cell_type": "code",
   "execution_count": 21,
   "id": "9ea37232",
   "metadata": {},
   "outputs": [
    {
     "data": {
      "text/plain": [
       "True"
      ]
     },
     "execution_count": 21,
     "metadata": {},
     "output_type": "execute_result"
    }
   ],
   "source": [
    "'d' not in 'Delhi'"
   ]
  },
  {
   "cell_type": "code",
   "execution_count": 128,
   "id": "d89afc0e",
   "metadata": {},
   "outputs": [],
   "source": [
    "# common functions (this work with all)"
   ]
  },
  {
   "cell_type": "code",
   "execution_count": 129,
   "id": "52ceb8c4",
   "metadata": {},
   "outputs": [
    {
     "data": {
      "text/plain": [
       "5"
      ]
     },
     "execution_count": 129,
     "metadata": {},
     "output_type": "execute_result"
    }
   ],
   "source": [
    "len('hello')"
   ]
  },
  {
   "cell_type": "code",
   "execution_count": 130,
   "id": "2e9d79dc",
   "metadata": {},
   "outputs": [
    {
     "data": {
      "text/plain": [
       "'o'"
      ]
     },
     "execution_count": 130,
     "metadata": {},
     "output_type": "execute_result"
    }
   ],
   "source": [
    "max('hello')"
   ]
  },
  {
   "cell_type": "code",
   "execution_count": 131,
   "id": "09b981e0",
   "metadata": {},
   "outputs": [
    {
     "data": {
      "text/plain": [
       "'e'"
      ]
     },
     "execution_count": 131,
     "metadata": {},
     "output_type": "execute_result"
    }
   ],
   "source": [
    "min('hello')"
   ]
  },
  {
   "cell_type": "code",
   "execution_count": 132,
   "id": "c478af2e",
   "metadata": {},
   "outputs": [
    {
     "data": {
      "text/plain": [
       "['a', 'b', 'h', 'h', 'n', 's', 'u']"
      ]
     },
     "execution_count": 132,
     "metadata": {},
     "output_type": "execute_result"
    }
   ],
   "source": [
    "sorted('bhushan')"
   ]
  },
  {
   "cell_type": "code",
   "execution_count": 133,
   "id": "1732eefc",
   "metadata": {},
   "outputs": [
    {
     "data": {
      "text/plain": [
       "['u', 's', 'n', 'h', 'h', 'b', 'a']"
      ]
     },
     "execution_count": 133,
     "metadata": {},
     "output_type": "execute_result"
    }
   ],
   "source": [
    "sorted('bhushan',reverse=True)"
   ]
  },
  {
   "cell_type": "code",
   "execution_count": 137,
   "id": "5e8d1795",
   "metadata": {},
   "outputs": [],
   "source": [
    "# capitalze/title/upper/lower/swapcase (this work only on string)\n",
    "s='hello world'"
   ]
  },
  {
   "cell_type": "code",
   "execution_count": 4,
   "id": "1a0aa34f",
   "metadata": {},
   "outputs": [
    {
     "data": {
      "text/plain": [
       "'Hello world'"
      ]
     },
     "execution_count": 4,
     "metadata": {},
     "output_type": "execute_result"
    }
   ],
   "source": [
    "s.capitalize() # capital string first letter"
   ]
  },
  {
   "cell_type": "code",
   "execution_count": 5,
   "id": "1170b2c0",
   "metadata": {},
   "outputs": [
    {
     "data": {
      "text/plain": [
       "'Hello World'"
      ]
     },
     "execution_count": 5,
     "metadata": {},
     "output_type": "execute_result"
    }
   ],
   "source": [
    "s.title() # capital every word first letter"
   ]
  },
  {
   "cell_type": "code",
   "execution_count": 140,
   "id": "e1be6033",
   "metadata": {},
   "outputs": [
    {
     "data": {
      "text/plain": [
       "'HELLO WORLD'"
      ]
     },
     "execution_count": 140,
     "metadata": {},
     "output_type": "execute_result"
    }
   ],
   "source": [
    "s.upper()"
   ]
  },
  {
   "cell_type": "code",
   "execution_count": 143,
   "id": "f4acb658",
   "metadata": {},
   "outputs": [
    {
     "data": {
      "text/plain": [
       "'hello bhushan'"
      ]
     },
     "execution_count": 143,
     "metadata": {},
     "output_type": "execute_result"
    }
   ],
   "source": [
    "'HELLO BHUSHAN'.lower()"
   ]
  },
  {
   "cell_type": "code",
   "execution_count": 144,
   "id": "bcb0a217",
   "metadata": {},
   "outputs": [
    {
     "data": {
      "text/plain": [
       "'HeLlo wOrLD'"
      ]
     },
     "execution_count": 144,
     "metadata": {},
     "output_type": "execute_result"
    }
   ],
   "source": [
    "'hElLO WoRld'.swapcase()"
   ]
  },
  {
   "cell_type": "code",
   "execution_count": 145,
   "id": "acf9540e",
   "metadata": {},
   "outputs": [],
   "source": [
    "# count/find/index"
   ]
  },
  {
   "cell_type": "code",
   "execution_count": 146,
   "id": "a33ec40b",
   "metadata": {},
   "outputs": [
    {
     "data": {
      "text/plain": [
       "2"
      ]
     },
     "execution_count": 146,
     "metadata": {},
     "output_type": "execute_result"
    }
   ],
   "source": [
    "'my name is bhushan'.count('h')"
   ]
  },
  {
   "cell_type": "code",
   "execution_count": 148,
   "id": "bdb8df4f",
   "metadata": {},
   "outputs": [
    {
     "data": {
      "text/plain": [
       "8"
      ]
     },
     "execution_count": 148,
     "metadata": {},
     "output_type": "execute_result"
    }
   ],
   "source": [
    "'my name is bhushan'.find('is')"
   ]
  },
  {
   "cell_type": "code",
   "execution_count": 151,
   "id": "399e5615",
   "metadata": {},
   "outputs": [
    {
     "data": {
      "text/plain": [
       "-1"
      ]
     },
     "execution_count": 151,
     "metadata": {},
     "output_type": "execute_result"
    }
   ],
   "source": [
    "'my name is bhushan'.find('z')"
   ]
  },
  {
   "cell_type": "code",
   "execution_count": 153,
   "id": "1cdd04b7",
   "metadata": {},
   "outputs": [
    {
     "ename": "ValueError",
     "evalue": "substring not found",
     "output_type": "error",
     "traceback": [
      "\u001b[1;31m---------------------------------------------------------------------------\u001b[0m",
      "\u001b[1;31mValueError\u001b[0m                                Traceback (most recent call last)",
      "Cell \u001b[1;32mIn[153], line 1\u001b[0m\n\u001b[1;32m----> 1\u001b[0m \u001b[38;5;124;43m'\u001b[39;49m\u001b[38;5;124;43mmy name is bhushan\u001b[39;49m\u001b[38;5;124;43m'\u001b[39;49m\u001b[38;5;241;43m.\u001b[39;49m\u001b[43mindex\u001b[49m\u001b[43m(\u001b[49m\u001b[38;5;124;43m'\u001b[39;49m\u001b[38;5;124;43mz\u001b[39;49m\u001b[38;5;124;43m'\u001b[39;49m\u001b[43m)\u001b[49m\n",
      "\u001b[1;31mValueError\u001b[0m: substring not found"
     ]
    }
   ],
   "source": [
    "'my name is bhushan'.index('z')"
   ]
  },
  {
   "cell_type": "code",
   "execution_count": 154,
   "id": "da274d15",
   "metadata": {},
   "outputs": [
    {
     "data": {
      "text/plain": [
       "8"
      ]
     },
     "execution_count": 154,
     "metadata": {},
     "output_type": "execute_result"
    }
   ],
   "source": [
    "'my name is bhushan'.index('i')"
   ]
  },
  {
   "cell_type": "code",
   "execution_count": 40,
   "id": "6be1bb55",
   "metadata": {},
   "outputs": [],
   "source": [
    "# endswith/startswith"
   ]
  },
  {
   "cell_type": "code",
   "execution_count": 44,
   "id": "ba8daa5a",
   "metadata": {},
   "outputs": [
    {
     "data": {
      "text/plain": [
       "True"
      ]
     },
     "execution_count": 44,
     "metadata": {},
     "output_type": "execute_result"
    }
   ],
   "source": [
    "'my name is bhushan'.endswith('an')"
   ]
  },
  {
   "cell_type": "code",
   "execution_count": 45,
   "id": "3477e937",
   "metadata": {},
   "outputs": [
    {
     "data": {
      "text/plain": [
       "False"
      ]
     },
     "execution_count": 45,
     "metadata": {},
     "output_type": "execute_result"
    }
   ],
   "source": [
    "'my name is bhushan'.startswith('an')"
   ]
  },
  {
   "cell_type": "code",
   "execution_count": 46,
   "id": "1254f325",
   "metadata": {},
   "outputs": [],
   "source": [
    "# format"
   ]
  },
  {
   "cell_type": "code",
   "execution_count": 48,
   "id": "d511fb13",
   "metadata": {},
   "outputs": [],
   "source": [
    "name='BHUSHAN'\n",
    "gender='MALE'"
   ]
  },
  {
   "cell_type": "code",
   "execution_count": 57,
   "id": "827ca13a",
   "metadata": {},
   "outputs": [
    {
     "data": {
      "text/plain": [
       "'my name is BHUSHAN and i am a MALE'"
      ]
     },
     "execution_count": 57,
     "metadata": {},
     "output_type": "execute_result"
    }
   ],
   "source": [
    "'my name is {} and i am a {}'.format(name,gender)"
   ]
  },
  {
   "cell_type": "code",
   "execution_count": 58,
   "id": "e2a1a9a7",
   "metadata": {},
   "outputs": [
    {
     "data": {
      "text/plain": [
       "'my name is MALE and i am a BHUSHAN'"
      ]
     },
     "execution_count": 58,
     "metadata": {},
     "output_type": "execute_result"
    }
   ],
   "source": [
    "'my name is {} and i am a {}'.format(gender,name)"
   ]
  },
  {
   "cell_type": "code",
   "execution_count": 59,
   "id": "4e273dc2",
   "metadata": {},
   "outputs": [
    {
     "data": {
      "text/plain": [
       "'my name is BHUSHAN and i am a MALE'"
      ]
     },
     "execution_count": 59,
     "metadata": {},
     "output_type": "execute_result"
    }
   ],
   "source": [
    "'my name is {1} and i am a {0}'.format(gender,name)"
   ]
  },
  {
   "cell_type": "code",
   "execution_count": 60,
   "id": "a6bd70be",
   "metadata": {},
   "outputs": [
    {
     "data": {
      "text/plain": [
       "'my name is BHUSHAN and i am a MALE'"
      ]
     },
     "execution_count": 60,
     "metadata": {},
     "output_type": "execute_result"
    }
   ],
   "source": [
    "'my name is {0} and i am a {1}'.format(name,gender)"
   ]
  },
  {
   "cell_type": "code",
   "execution_count": 61,
   "id": "746e4be0",
   "metadata": {},
   "outputs": [],
   "source": [
    "# isalnum/isalpha/isdigit/isidentifier"
   ]
  },
  {
   "cell_type": "code",
   "execution_count": 63,
   "id": "e9959395",
   "metadata": {},
   "outputs": [
    {
     "data": {
      "text/plain": [
       "True"
      ]
     },
     "execution_count": 63,
     "metadata": {},
     "output_type": "execute_result"
    }
   ],
   "source": [
    "'bhushan1207'.isalnum()"
   ]
  },
  {
   "cell_type": "code",
   "execution_count": 64,
   "id": "91a64d06",
   "metadata": {},
   "outputs": [
    {
     "data": {
      "text/plain": [
       "False"
      ]
     },
     "execution_count": 64,
     "metadata": {},
     "output_type": "execute_result"
    }
   ],
   "source": [
    "'bhushan1207%'.isalnum()"
   ]
  },
  {
   "cell_type": "code",
   "execution_count": 65,
   "id": "9e20afe2",
   "metadata": {},
   "outputs": [
    {
     "data": {
      "text/plain": [
       "True"
      ]
     },
     "execution_count": 65,
     "metadata": {},
     "output_type": "execute_result"
    }
   ],
   "source": [
    "'bhushan'.isalpha()"
   ]
  },
  {
   "cell_type": "code",
   "execution_count": 66,
   "id": "e1561aa3",
   "metadata": {},
   "outputs": [
    {
     "data": {
      "text/plain": [
       "True"
      ]
     },
     "execution_count": 66,
     "metadata": {},
     "output_type": "execute_result"
    }
   ],
   "source": [
    "'1207'.isdigit()"
   ]
  },
  {
   "cell_type": "code",
   "execution_count": 67,
   "id": "4d340039",
   "metadata": {},
   "outputs": [
    {
     "data": {
      "text/plain": [
       "True"
      ]
     },
     "execution_count": 67,
     "metadata": {},
     "output_type": "execute_result"
    }
   ],
   "source": [
    "'_'.isidentifier()"
   ]
  },
  {
   "cell_type": "code",
   "execution_count": 68,
   "id": "8fdf5dac",
   "metadata": {},
   "outputs": [
    {
     "data": {
      "text/plain": [
       "False"
      ]
     },
     "execution_count": 68,
     "metadata": {},
     "output_type": "execute_result"
    }
   ],
   "source": [
    "'12abc'.isidentifier()"
   ]
  },
  {
   "cell_type": "code",
   "execution_count": 69,
   "id": "9caa9aae",
   "metadata": {},
   "outputs": [],
   "source": [
    "# split,join"
   ]
  },
  {
   "cell_type": "code",
   "execution_count": 74,
   "id": "d59ffe24",
   "metadata": {},
   "outputs": [
    {
     "data": {
      "text/plain": [
       "['my', 'name', 'is', 'bhushan']"
      ]
     },
     "execution_count": 74,
     "metadata": {},
     "output_type": "execute_result"
    }
   ],
   "source": [
    "'my name is bhushan'.split()"
   ]
  },
  {
   "cell_type": "code",
   "execution_count": 77,
   "id": "9350b776",
   "metadata": {},
   "outputs": [
    {
     "data": {
      "text/plain": [
       "['my name ', 's bhushan']"
      ]
     },
     "execution_count": 77,
     "metadata": {},
     "output_type": "execute_result"
    }
   ],
   "source": [
    "'my name is bhushan'.split('i')"
   ]
  },
  {
   "cell_type": "code",
   "execution_count": 78,
   "id": "9f9faebb",
   "metadata": {},
   "outputs": [
    {
     "data": {
      "text/plain": [
       "['my name ', ' bhushan']"
      ]
     },
     "execution_count": 78,
     "metadata": {},
     "output_type": "execute_result"
    }
   ],
   "source": [
    "'my name is bhushan'.split('is')"
   ]
  },
  {
   "cell_type": "code",
   "execution_count": 81,
   "id": "20317430",
   "metadata": {},
   "outputs": [
    {
     "data": {
      "text/plain": [
       "'my name is bhushan'"
      ]
     },
     "execution_count": 81,
     "metadata": {},
     "output_type": "execute_result"
    }
   ],
   "source": [
    "\" \".join(['my', 'name', 'is', 'bhushan'])"
   ]
  },
  {
   "cell_type": "code",
   "execution_count": 82,
   "id": "4f26a273",
   "metadata": {},
   "outputs": [
    {
     "data": {
      "text/plain": [
       "'my-name-is-bhushan'"
      ]
     },
     "execution_count": 82,
     "metadata": {},
     "output_type": "execute_result"
    }
   ],
   "source": [
    "\"-\".join(['my', 'name', 'is', 'bhushan'])"
   ]
  },
  {
   "cell_type": "code",
   "execution_count": 83,
   "id": "f299f37c",
   "metadata": {},
   "outputs": [],
   "source": [
    "# replace"
   ]
  },
  {
   "cell_type": "code",
   "execution_count": 84,
   "id": "6707102c",
   "metadata": {},
   "outputs": [
    {
     "data": {
      "text/plain": [
       "'my name is shubham'"
      ]
     },
     "execution_count": 84,
     "metadata": {},
     "output_type": "execute_result"
    }
   ],
   "source": [
    "'my name is bhushan'.replace('bhushan','shubham')"
   ]
  },
  {
   "cell_type": "code",
   "execution_count": 90,
   "id": "148e640d",
   "metadata": {},
   "outputs": [],
   "source": [
    "# strip"
   ]
  },
  {
   "cell_type": "code",
   "execution_count": 91,
   "id": "ed478b11",
   "metadata": {},
   "outputs": [
    {
     "data": {
      "text/plain": [
       "'bhushan'"
      ]
     },
     "execution_count": 91,
     "metadata": {},
     "output_type": "execute_result"
    }
   ],
   "source": [
    "'bhushan                                     '.strip()"
   ]
  },
  {
   "cell_type": "markdown",
   "id": "82a8f265",
   "metadata": {},
   "source": [
    "# programming problem on Strings"
   ]
  },
  {
   "cell_type": "code",
   "execution_count": 95,
   "id": "f354f6f3",
   "metadata": {},
   "outputs": [
    {
     "name": "stdout",
     "output_type": "stream",
     "text": [
      "Enter the string: bhushan\n",
      "The length of string:  7\n"
     ]
    }
   ],
   "source": [
    "s=input(\"Enter the string: \")\n",
    "\n",
    "counter=0\n",
    "\n",
    "for i in s:\n",
    "    counter+=1\n",
    "\n",
    "print(\"The length of string: \",counter)"
   ]
  },
  {
   "cell_type": "code",
   "execution_count": 96,
   "id": "45c3983d",
   "metadata": {},
   "outputs": [
    {
     "name": "stdout",
     "output_type": "stream",
     "text": [
      "Enter the email: bhushan@gmail.com\n",
      "bhushan\n"
     ]
    }
   ],
   "source": [
    "s=input(\"Enter the email: \")\n",
    "\n",
    "pos=s.index('@')\n",
    "print(s[0:pos])"
   ]
  },
  {
   "cell_type": "code",
   "execution_count": 97,
   "id": "ce48944d",
   "metadata": {},
   "outputs": [
    {
     "name": "stdout",
     "output_type": "stream",
     "text": [
      "Enter string: bhushanramchandrachitte\n",
      "What would like to search for: a\n",
      "Frequency:  4\n"
     ]
    }
   ],
   "source": [
    "s=input(\"Enter string: \")\n",
    "term=input(\"What would like to search for: \")\n",
    "\n",
    "counter=0\n",
    "\n",
    "for i in s:\n",
    "    if i==term:\n",
    "        counter+=1\n",
    "\n",
    "print(\"Frequency: \",counter)"
   ]
  },
  {
   "cell_type": "code",
   "execution_count": 98,
   "id": "d6c9c9de",
   "metadata": {},
   "outputs": [
    {
     "name": "stdout",
     "output_type": "stream",
     "text": [
      "Enter string: bhushan\n",
      "What would like to remove: a\n",
      "bhushn\n"
     ]
    }
   ],
   "source": [
    "s=input(\"Enter string: \")\n",
    "term=input(\"What would like to remove: \")\n",
    "\n",
    "result=\"\"\n",
    "\n",
    "for i in s:\n",
    "    if i!=term:\n",
    "        result=result+i\n",
    "        \n",
    "print(result)"
   ]
  },
  {
   "cell_type": "code",
   "execution_count": 100,
   "id": "4ab7948c",
   "metadata": {},
   "outputs": [
    {
     "name": "stdout",
     "output_type": "stream",
     "text": [
      "Enter string: mum\n",
      "Palindrome\n"
     ]
    }
   ],
   "source": [
    "s=input(\"Enter string: \")\n",
    "\n",
    "flag=True\n",
    "\n",
    "for i in range(0,len(s)//2):\n",
    "    if s[i]!=s[len(s)-i-1]:\n",
    "        flag=False\n",
    "        print(\"Not a Palindrome\")\n",
    "        break\n",
    "\n",
    "if flag:\n",
    "    print(\"Palindrome\")"
   ]
  },
  {
   "cell_type": "code",
   "execution_count": 101,
   "id": "2494dd1e",
   "metadata": {},
   "outputs": [
    {
     "name": "stdout",
     "output_type": "stream",
     "text": [
      "Enter string: hi how are you\n",
      "['hi', 'how', 'are', 'you']\n"
     ]
    }
   ],
   "source": [
    "s=input(\"Enter string: \")\n",
    "l=[]\n",
    "temp=\"\"\n",
    "\n",
    "for i in s:\n",
    "    if i!=\" \":\n",
    "        temp=temp+i\n",
    "    else:\n",
    "        l.append(temp)\n",
    "        temp=\"\"\n",
    "        \n",
    "l.append(temp)\n",
    "print(l)"
   ]
  },
  {
   "cell_type": "code",
   "execution_count": 105,
   "id": "3519afc1",
   "metadata": {},
   "outputs": [
    {
     "name": "stdout",
     "output_type": "stream",
     "text": [
      "Enter string: hi how are you\n",
      "Hi How Are You\n"
     ]
    }
   ],
   "source": [
    "s=input(\"Enter string: \")\n",
    "l=[]\n",
    "\n",
    "for i in s.split():\n",
    "    l.append(i[0].upper()+i[1:].lower())\n",
    "    \n",
    "print(\" \".join(l)) "
   ]
  },
  {
   "cell_type": "code",
   "execution_count": 108,
   "id": "d49013c9",
   "metadata": {},
   "outputs": [
    {
     "name": "stdout",
     "output_type": "stream",
     "text": [
      "Enter number: 345\n",
      "345\n",
      "<class 'str'>\n"
     ]
    }
   ],
   "source": [
    "num=int(input(\"Enter number: \"))\n",
    "\n",
    "digits='0123456789'\n",
    "result=''\n",
    "\n",
    "while num!=0:\n",
    "    result=digits[num%10]+result\n",
    "    num=num//10\n",
    "\n",
    "print(result)\n",
    "print(type(result))"
   ]
  },
  {
   "cell_type": "markdown",
   "id": "5d46fc14",
   "metadata": {},
   "source": [
    "# google used PageRank Algo"
   ]
  },
  {
   "cell_type": "markdown",
   "id": "c57ca442",
   "metadata": {},
   "source": [
    "## 14.Time and Space Complexity"
   ]
  },
  {
   "cell_type": "code",
   "execution_count": 2,
   "id": "8557a57d",
   "metadata": {},
   "outputs": [],
   "source": [
    "# time complexity\n",
    "# technique"
   ]
  },
  {
   "cell_type": "code",
   "execution_count": 11,
   "id": "612d9d68",
   "metadata": {},
   "outputs": [
    {
     "name": "stdout",
     "output_type": "stream",
     "text": [
      "***************************************************************************************************0.001066446304321289\n"
     ]
    }
   ],
   "source": [
    "# a) measuring time to execute\n",
    "import time\n",
    "start=time.time()\n",
    "for i in range(1,100):\n",
    "    print('*',end='')\n",
    "end=time.time()\n",
    "print(end-start)\n",
    "# b) counting operations involved\n",
    "# c) abstract notion of order of growth"
   ]
  },
  {
   "cell_type": "code",
   "execution_count": 13,
   "id": "f00424da",
   "metadata": {},
   "outputs": [],
   "source": [
    "# b) counting operations involved"
   ]
  },
  {
   "cell_type": "code",
   "execution_count": 1,
   "id": "e713690d",
   "metadata": {},
   "outputs": [],
   "source": [
    "# c) abstract notion of order of growth\n",
    "# types of order of growth\n",
    "# a)constant\n",
    "# b)linear\n",
    "# c)quadratic\n",
    "# d)logarithmic\n",
    "# e)nlogn\n",
    "# f)exponential"
   ]
  },
  {
   "cell_type": "markdown",
   "id": "1f047821",
   "metadata": {},
   "source": [
    "## 15.Python list"
   ]
  },
  {
   "cell_type": "markdown",
   "id": "af1617af",
   "metadata": {},
   "source": [
    "1)what are lists?\n",
    "- list is a data type where you can store multiple items under single variable"
   ]
  },
  {
   "cell_type": "markdown",
   "id": "c95b2d34",
   "metadata": {},
   "source": [
    "2)array vs list\n",
    "- fixed vs dynamic size\n",
    "- convenience->heterogeneous\n",
    "- speed of execution\n",
    "- memory"
   ]
  },
  {
   "cell_type": "markdown",
   "id": "7d8e3150",
   "metadata": {},
   "source": [
    "3)characteristics of a list\n",
    "- ordered,mutable,heterogeneous,duplicate,dynamic,nested,items can be accessed,can contain any kind of objects in python"
   ]
  },
  {
   "cell_type": "markdown",
   "id": "ba4a6875",
   "metadata": {},
   "source": [
    "4)how to create a list"
   ]
  },
  {
   "cell_type": "code",
   "execution_count": 16,
   "id": "236a0144",
   "metadata": {},
   "outputs": [
    {
     "name": "stdout",
     "output_type": "stream",
     "text": [
      "[]\n",
      "[1, 2, 3]\n",
      "[1, 2, [3, 4]]\n",
      "[[[1, 2], [3, 4]], [[5, 6], [7, 8]]]\n",
      "[1, True, 1.1, 'hello']\n",
      "['h', 'e', 'l', 'l', 'o']\n"
     ]
    }
   ],
   "source": [
    "# empty\n",
    "print([])\n",
    "\n",
    "#1d\n",
    "print([1,2,3])\n",
    "\n",
    "#2d\n",
    "print([1,2,[3,4]]) # heterogeneous list:- int and list combination\n",
    "\n",
    "# 3d\n",
    "print([[[1,2],[3,4]],[[5,6],[7,8]]])\n",
    "\n",
    "# heterogeneous\n",
    "print([1,True,1.1,'hello'])\n",
    "\n",
    "# using type conversion\n",
    "print(list('hello'))"
   ]
  },
  {
   "cell_type": "markdown",
   "id": "50f268ef",
   "metadata": {},
   "source": [
    "5)access items from a list"
   ]
  },
  {
   "cell_type": "code",
   "execution_count": 33,
   "id": "0fb2ed7c",
   "metadata": {},
   "outputs": [
    {
     "name": "stdout",
     "output_type": "stream",
     "text": [
      "1\n",
      "5\n",
      "5\n",
      "1\n"
     ]
    }
   ],
   "source": [
    "l=[1,2,3,4,5]\n",
    "\n",
    "# 1d indexing\n",
    "print(l[0])\n",
    "print(l[4])\n",
    "print(l[-1])\n",
    "print(l[-5])"
   ]
  },
  {
   "cell_type": "code",
   "execution_count": 34,
   "id": "43aa4db9",
   "metadata": {},
   "outputs": [
    {
     "name": "stdout",
     "output_type": "stream",
     "text": [
      "3\n",
      "4\n",
      "4\n",
      "3\n"
     ]
    }
   ],
   "source": [
    "l=[1,2,[3,4]]\n",
    "\n",
    "# 2d indexing\n",
    "print(l[2][0])\n",
    "print(l[2][1])\n",
    "print(l[-1][-1])\n",
    "print(l[-1][-2])"
   ]
  },
  {
   "cell_type": "code",
   "execution_count": 35,
   "id": "7fd01eb5",
   "metadata": {},
   "outputs": [
    {
     "name": "stdout",
     "output_type": "stream",
     "text": [
      "1\n",
      "2\n",
      "3\n",
      "4\n",
      "5\n",
      "6\n",
      "7\n",
      "8\n"
     ]
    }
   ],
   "source": [
    "l=[[[1, 2], [3, 4]], [[5, 6], [7, 8]]]\n",
    "\n",
    "# 3d indexing\n",
    "print(l[0][0][0])\n",
    "print(l[0][0][1])\n",
    "print(l[0][1][0])\n",
    "print(l[0][1][1])\n",
    "print(l[1][0][0])\n",
    "print(l[1][0][1])\n",
    "print(l[1][1][0])\n",
    "print(l[1][1][1])"
   ]
  },
  {
   "cell_type": "code",
   "execution_count": 4,
   "id": "8f53852b",
   "metadata": {},
   "outputs": [
    {
     "name": "stdout",
     "output_type": "stream",
     "text": [
      "[1, 2, 3]\n",
      "[3, 4]\n",
      "[3, 4, 5]\n",
      "[1, 2, 3, 4, 5]\n",
      "[1, 3, 5]\n",
      "[2, 4]\n",
      "[5, 4, 3, 2, 1]\n"
     ]
    }
   ],
   "source": [
    "l=[1,2,3,4,5]\n",
    "\n",
    "# slicing\n",
    "print(l[0:3])\n",
    "print(l[-3:-1])\n",
    "print(l[-3:])\n",
    "print(l[0:])\n",
    "print(l[0::2])\n",
    "print(l[-4:-1:2])\n",
    "print(l[::-1])"
   ]
  },
  {
   "cell_type": "markdown",
   "id": "5ca2219f",
   "metadata": {},
   "source": [
    "6)Adding items to a list"
   ]
  },
  {
   "cell_type": "code",
   "execution_count": 53,
   "id": "463a7b89",
   "metadata": {},
   "outputs": [
    {
     "name": "stdout",
     "output_type": "stream",
     "text": [
      "[1, 2, 3, 4]\n",
      "[1, 2, 3, 4, [4, 5, 6]]\n"
     ]
    }
   ],
   "source": [
    "# append(single item)\n",
    "l=[1,2,3]\n",
    "\n",
    "l.append(4)\n",
    "print(l)\n",
    "\n",
    "l.append([4,5,6])\n",
    "print(l)"
   ]
  },
  {
   "cell_type": "code",
   "execution_count": 54,
   "id": "c1f8fdab",
   "metadata": {},
   "outputs": [
    {
     "name": "stdout",
     "output_type": "stream",
     "text": [
      "[1, 2, 3, 4, 5, 6]\n",
      "[1, 2, 3, 4, 5, 6, 'm', 'u', 'm', 'b', 'a', 'i']\n"
     ]
    }
   ],
   "source": [
    "# extend(multiple item)\n",
    "l=[1,2,3]\n",
    "\n",
    "l.extend([4,5,6])\n",
    "print(l)\n",
    "\n",
    "l.extend('mumbai')\n",
    "print(l)"
   ]
  },
  {
   "cell_type": "code",
   "execution_count": 56,
   "id": "fff6c02e",
   "metadata": {},
   "outputs": [
    {
     "name": "stdout",
     "output_type": "stream",
     "text": [
      "[1, 2, 100, 3, 4]\n"
     ]
    }
   ],
   "source": [
    "# insert\n",
    "l=[1,2,3,4]\n",
    "\n",
    "l.insert(2,100) #insert(pos,item)\n",
    "print(l)"
   ]
  },
  {
   "cell_type": "markdown",
   "id": "aa0d0711",
   "metadata": {},
   "source": [
    "7)editing items in a list"
   ]
  },
  {
   "cell_type": "code",
   "execution_count": 60,
   "id": "cf6c2819",
   "metadata": {},
   "outputs": [
    {
     "name": "stdout",
     "output_type": "stream",
     "text": [
      "[1, 2, 3, 4, 0]\n",
      "[0, 2, 3, 4, 0]\n",
      "[0, 200, 300, 400, 0]\n"
     ]
    }
   ],
   "source": [
    "l=[1,2,3,4,5]\n",
    "\n",
    "# editing with indexing\n",
    "l[-1]=0\n",
    "print(l)\n",
    "\n",
    "l[0]=0\n",
    "print(l)\n",
    "\n",
    "# editing with slicing\n",
    "l[1:4]=[200,300,400]\n",
    "print(l)"
   ]
  },
  {
   "cell_type": "markdown",
   "id": "145dc823",
   "metadata": {},
   "source": [
    "8)deleting items from a list"
   ]
  },
  {
   "cell_type": "code",
   "execution_count": 73,
   "id": "ee04bee5",
   "metadata": {},
   "outputs": [
    {
     "name": "stdout",
     "output_type": "stream",
     "text": [
      "[1, 2, 3, 4]\n",
      "[1, 4]\n"
     ]
    }
   ],
   "source": [
    "# del(used when actually item index position know)\n",
    "l=[1,2,3,4,5]\n",
    "#del l\n",
    "\n",
    "# del with indexing\n",
    "del l[-1]\n",
    "print(l)\n",
    "\n",
    "# del with slicing\n",
    "del l[1:3]\n",
    "print(l)"
   ]
  },
  {
   "cell_type": "code",
   "execution_count": 74,
   "id": "7d99f97f",
   "metadata": {},
   "outputs": [
    {
     "name": "stdout",
     "output_type": "stream",
     "text": [
      "[1, 2, 3, 4]\n"
     ]
    }
   ],
   "source": [
    "# remove(used when item index position not know)\n",
    "l=[1,2,3,4,5]\n",
    "\n",
    "l.remove(5)\n",
    "\n",
    "print(l)"
   ]
  },
  {
   "cell_type": "code",
   "execution_count": 79,
   "id": "025bd65a",
   "metadata": {},
   "outputs": [
    {
     "name": "stdout",
     "output_type": "stream",
     "text": [
      "[2, 3, 4, 5]\n",
      "[1, 2, 3, 4]\n"
     ]
    }
   ],
   "source": [
    "# pop\n",
    "l=[1,2,3,4,5]\n",
    "l.pop(0)  # provide index pos\n",
    "print(l)\n",
    "\n",
    "l=[1,2,3,4,5]\n",
    "l.pop()  # default del the last item\n",
    "print(l)"
   ]
  },
  {
   "cell_type": "code",
   "execution_count": 80,
   "id": "93815fa7",
   "metadata": {},
   "outputs": [
    {
     "name": "stdout",
     "output_type": "stream",
     "text": [
      "[]\n"
     ]
    }
   ],
   "source": [
    "# clear\n",
    "l=[1,2,3,4,5]\n",
    "\n",
    "l.clear()\n",
    "\n",
    "print(l)"
   ]
  },
  {
   "cell_type": "markdown",
   "id": "a1d367b6",
   "metadata": {},
   "source": [
    "9)operations on lists"
   ]
  },
  {
   "cell_type": "code",
   "execution_count": 6,
   "id": "6167caa5",
   "metadata": {},
   "outputs": [
    {
     "name": "stdout",
     "output_type": "stream",
     "text": [
      "[1, 2, 3, 4, 5, 6]\n",
      "[1, 2, 3, 1, 2, 3, 1, 2, 3]\n"
     ]
    }
   ],
   "source": [
    "# arithmetic(+ *)\n",
    "l1=[1,2,3]\n",
    "l2=[4,5,6]\n",
    "\n",
    "print(l1+l2)\n",
    "print(l1*3)"
   ]
  },
  {
   "cell_type": "code",
   "execution_count": 7,
   "id": "749c70bc",
   "metadata": {},
   "outputs": [
    {
     "name": "stdout",
     "output_type": "stream",
     "text": [
      "True\n",
      "False\n",
      "False\n",
      "True\n"
     ]
    }
   ],
   "source": [
    "# membership\n",
    "l1=[1,2,3]\n",
    "l2=[4,5,6,[1,2]]\n",
    "\n",
    "print(5 in l2)\n",
    "print(5 not in l2)\n",
    "print(1 in l2)\n",
    "print([1,2] in l2)"
   ]
  },
  {
   "cell_type": "code",
   "execution_count": 8,
   "id": "4843588e",
   "metadata": {},
   "outputs": [
    {
     "name": "stdout",
     "output_type": "stream",
     "text": [
      "1\n",
      "2\n",
      "3\n",
      "4\n",
      "5\n",
      "6\n"
     ]
    }
   ],
   "source": [
    "# loop\n",
    "l=[1,2,3,4,5,6]\n",
    "\n",
    "for i in l:\n",
    "    print(i)"
   ]
  },
  {
   "cell_type": "code",
   "execution_count": 9,
   "id": "7d7a49d2",
   "metadata": {},
   "outputs": [
    {
     "name": "stdout",
     "output_type": "stream",
     "text": [
      "1\n",
      "2\n",
      "[3, 4]\n"
     ]
    }
   ],
   "source": [
    "l=[1, 2, [3, 4]]\n",
    "\n",
    "for i in l:\n",
    "    print(i)"
   ]
  },
  {
   "cell_type": "code",
   "execution_count": 10,
   "id": "924a7626",
   "metadata": {},
   "outputs": [
    {
     "name": "stdout",
     "output_type": "stream",
     "text": [
      "[[1, 2], [3, 4]]\n",
      "[[5, 6], [7, 8]]\n"
     ]
    }
   ],
   "source": [
    "l=[[[1, 2], [3, 4]], [[5, 6], [7, 8]]]\n",
    "\n",
    "for i in l:\n",
    "    print(i)"
   ]
  },
  {
   "cell_type": "markdown",
   "id": "fe54480d",
   "metadata": {},
   "source": [
    "10)functions on lists"
   ]
  },
  {
   "cell_type": "code",
   "execution_count": 31,
   "id": "8ca460f9",
   "metadata": {},
   "outputs": [
    {
     "name": "stdout",
     "output_type": "stream",
     "text": [
      "6\n",
      "1\n",
      "6\n",
      "21\n",
      "[1, 2, 3, 4, 5, 6]\n",
      "[6, 5, 4, 3, 2, 1]\n"
     ]
    }
   ],
   "source": [
    "# len/min/max/sorted/sum\n",
    "l=[6,2,3,4,1,5]\n",
    "\n",
    "print(len(l))\n",
    "print(min(l))\n",
    "print(max(l))\n",
    "print(sum(l))\n",
    "\n",
    "# sorted=this is temporary operation\n",
    "print(sorted(l))\n",
    "print(sorted(l,reverse=True))"
   ]
  },
  {
   "cell_type": "code",
   "execution_count": 12,
   "id": "48845912",
   "metadata": {},
   "outputs": [
    {
     "name": "stdout",
     "output_type": "stream",
     "text": [
      "3\n",
      "1\n"
     ]
    }
   ],
   "source": [
    "# count\n",
    "l=[1,2,2,2,3,4,5,6]\n",
    "\n",
    "print(l.count(2))\n",
    "print(l.count(5))"
   ]
  },
  {
   "cell_type": "code",
   "execution_count": 13,
   "id": "f9abed90",
   "metadata": {},
   "outputs": [
    {
     "name": "stdout",
     "output_type": "stream",
     "text": [
      "1\n",
      "8\n",
      "2\n"
     ]
    }
   ],
   "source": [
    "# index\n",
    "l=[1,2,3,2,2,4,3,4,5,6]\n",
    "\n",
    "print(l.index(2))\n",
    "print(l.index(5))\n",
    "print(l.index(3))\n"
   ]
  },
  {
   "cell_type": "code",
   "execution_count": 14,
   "id": "1b2975e6",
   "metadata": {},
   "outputs": [
    {
     "name": "stdout",
     "output_type": "stream",
     "text": [
      "[6, 5, 4, 3, 4, 2, 2, 3, 2, 1]\n"
     ]
    }
   ],
   "source": [
    "# reverse\n",
    "l=[1,2,3,2,2,4,3,4,5,6]\n",
    "# this is permenent operation\n",
    "l.reverse()\n",
    "print(l)"
   ]
  },
  {
   "cell_type": "code",
   "execution_count": 15,
   "id": "56f904ce",
   "metadata": {},
   "outputs": [
    {
     "name": "stdout",
     "output_type": "stream",
     "text": [
      "[1, 2, 3, 4, 5, 6]\n"
     ]
    }
   ],
   "source": [
    "# sort (this is permenent operation)\n",
    "l=[6,2,3,4,1,5]\n",
    "l.sort()\n",
    "print(l)"
   ]
  },
  {
   "cell_type": "code",
   "execution_count": 16,
   "id": "d509f735",
   "metadata": {},
   "outputs": [
    {
     "name": "stdout",
     "output_type": "stream",
     "text": [
      "[6, 2, 3, 4, 1, 5]\n",
      "2543137162176\n",
      "[6, 2, 3, 4, 1, 5]\n",
      "2543137212864\n"
     ]
    }
   ],
   "source": [
    "# copy\n",
    "l=[6,2,3,4,1,5]\n",
    "print(l)\n",
    "print(id(l))\n",
    "l1=l.copy()\n",
    "print(l1)\n",
    "print(id(l1))"
   ]
  },
  {
   "cell_type": "markdown",
   "id": "e5ca1d8d",
   "metadata": {},
   "source": [
    "## List Comprehension"
   ]
  },
  {
   "cell_type": "markdown",
   "id": "5b4be3fb",
   "metadata": {},
   "source": [
    "### newlist=[expression for item in iterable if condition==True]"
   ]
  },
  {
   "cell_type": "markdown",
   "id": "b156c15e",
   "metadata": {},
   "source": [
    "### Advantages of list comprehension"
   ]
  },
  {
   "cell_type": "markdown",
   "id": "ca104971",
   "metadata": {},
   "source": [
    "- more time efficient and space efficient than loops\n",
    "- require fewer lines of code\n",
    "- transform iterative statement into a formula"
   ]
  },
  {
   "cell_type": "code",
   "execution_count": 2,
   "id": "b8e632a0",
   "metadata": {},
   "outputs": [
    {
     "data": {
      "text/plain": [
       "[1, 2, 3, 4, 5, 6, 7, 8, 9, 10]"
      ]
     },
     "execution_count": 2,
     "metadata": {},
     "output_type": "execute_result"
    }
   ],
   "source": [
    "l=[i for i in range(1,11)]\n",
    "l"
   ]
  },
  {
   "cell_type": "code",
   "execution_count": 20,
   "id": "27bd3980",
   "metadata": {},
   "outputs": [
    {
     "data": {
      "text/plain": [
       "[-6, -9, -12]"
      ]
     },
     "execution_count": 20,
     "metadata": {},
     "output_type": "execute_result"
    }
   ],
   "source": [
    "v=[2,3,4]\n",
    "s=-3\n",
    "\n",
    "[s*i for i in v]"
   ]
  },
  {
   "cell_type": "code",
   "execution_count": 26,
   "id": "435eca8e",
   "metadata": {},
   "outputs": [
    {
     "data": {
      "text/plain": [
       "[1, 4, 9, 16, 25]"
      ]
     },
     "execution_count": 26,
     "metadata": {},
     "output_type": "execute_result"
    }
   ],
   "source": [
    "l=[1,2,3,4,5]\n",
    "[i**2 for i in l]"
   ]
  },
  {
   "cell_type": "code",
   "execution_count": 27,
   "id": "f611f4fb",
   "metadata": {},
   "outputs": [
    {
     "data": {
      "text/plain": [
       "[5, 10, 15, 20, 25, 30, 35, 40, 45, 50]"
      ]
     },
     "execution_count": 27,
     "metadata": {},
     "output_type": "execute_result"
    }
   ],
   "source": [
    "[i for i in range(1,51) if i%5==0]"
   ]
  },
  {
   "cell_type": "code",
   "execution_count": 32,
   "id": "7d4cb6ed",
   "metadata": {},
   "outputs": [
    {
     "data": {
      "text/plain": [
       "['python', 'php']"
      ]
     },
     "execution_count": 32,
     "metadata": {},
     "output_type": "execute_result"
    }
   ],
   "source": [
    "lang=['java','python','php','c','javascript']\n",
    "[i for i in lang if i.startswith('p')]\n",
    "#[lang for lang in lang if lang.startswith('p')]"
   ]
  },
  {
   "cell_type": "code",
   "execution_count": 33,
   "id": "7e7f3098",
   "metadata": {},
   "outputs": [
    {
     "data": {
      "text/plain": [
       "['apple']"
      ]
     },
     "execution_count": 33,
     "metadata": {},
     "output_type": "execute_result"
    }
   ],
   "source": [
    "basket=['apple','grapes','guava','cherry','banana']\n",
    "my_fruits=['apple','kiwi','banana','grapes']\n",
    "\n",
    "[fruit for fruit in my_fruits if fruit in basket if fruit.startswith('a')]"
   ]
  },
  {
   "cell_type": "code",
   "execution_count": 34,
   "id": "e8db7d4b",
   "metadata": {},
   "outputs": [
    {
     "data": {
      "text/plain": [
       "[[1, 2, 3], [2, 4, 6], [3, 6, 9]]"
      ]
     },
     "execution_count": 34,
     "metadata": {},
     "output_type": "execute_result"
    }
   ],
   "source": [
    "[[i*j for i in range(1,4)] for j in range(1,4)]"
   ]
  },
  {
   "cell_type": "code",
   "execution_count": 35,
   "id": "fbcf9e2e",
   "metadata": {},
   "outputs": [
    {
     "data": {
      "text/plain": [
       "[5, 6, 7, 8, 10, 12, 14, 16, 15, 18, 21, 24, 20, 24, 28, 32]"
      ]
     },
     "execution_count": 35,
     "metadata": {},
     "output_type": "execute_result"
    }
   ],
   "source": [
    "l1=[1,2,3,4]\n",
    "l2=[5,6,7,8]\n",
    "[i*j for i in l1 for j in l2]"
   ]
  },
  {
   "cell_type": "markdown",
   "id": "81c2937a",
   "metadata": {},
   "source": [
    "### Two ways to traverse a list"
   ]
  },
  {
   "cell_type": "markdown",
   "id": "93975bd0",
   "metadata": {},
   "source": [
    "- itemwise\n",
    "- indexwise"
   ]
  },
  {
   "cell_type": "code",
   "execution_count": 36,
   "id": "5acb917c",
   "metadata": {},
   "outputs": [
    {
     "name": "stdout",
     "output_type": "stream",
     "text": [
      "1\n",
      "2\n",
      "3\n",
      "4\n"
     ]
    }
   ],
   "source": [
    "# itemwise\n",
    "l=[1,2,3,4]\n",
    "\n",
    "for i in l:\n",
    "    print(i)"
   ]
  },
  {
   "cell_type": "code",
   "execution_count": 39,
   "id": "4572a67d",
   "metadata": {},
   "outputs": [
    {
     "name": "stdout",
     "output_type": "stream",
     "text": [
      "0\n",
      "1\n",
      "2\n",
      "3\n"
     ]
    }
   ],
   "source": [
    "# indexwise\n",
    "l=[1,2,3,4]\n",
    "\n",
    "for i in range(0,len(l)):\n",
    "    print(i)"
   ]
  },
  {
   "cell_type": "code",
   "execution_count": 41,
   "id": "c4a9b57d",
   "metadata": {},
   "outputs": [
    {
     "name": "stdout",
     "output_type": "stream",
     "text": [
      "1\n",
      "2\n",
      "3\n",
      "4\n"
     ]
    }
   ],
   "source": [
    "l=[1,2,3,4]\n",
    "\n",
    "for i in range(0,len(l)):\n",
    "    print(l[i])"
   ]
  },
  {
   "cell_type": "code",
   "execution_count": 42,
   "id": "019af230",
   "metadata": {},
   "outputs": [
    {
     "name": "stdout",
     "output_type": "stream",
     "text": [
      "0 = 1\n",
      "1 = 2\n",
      "2 = 3\n",
      "3 = 4\n"
     ]
    }
   ],
   "source": [
    "l=[1,2,3,4]\n",
    "\n",
    "for i in range(0,len(l)):\n",
    "    print(i,'=',l[i])"
   ]
  },
  {
   "cell_type": "markdown",
   "id": "a66784ac",
   "metadata": {},
   "source": [
    "## Zip"
   ]
  },
  {
   "cell_type": "code",
   "execution_count": 44,
   "id": "d2a7c163",
   "metadata": {},
   "outputs": [
    {
     "data": {
      "text/plain": [
       "<zip at 0x25020060d00>"
      ]
     },
     "execution_count": 44,
     "metadata": {},
     "output_type": "execute_result"
    }
   ],
   "source": [
    "l1=[1,2,3,4]\n",
    "l2=[-1,-2,-3,-4]\n",
    "\n",
    "zip(l1,l2)"
   ]
  },
  {
   "cell_type": "code",
   "execution_count": 46,
   "id": "c6b559c6",
   "metadata": {},
   "outputs": [
    {
     "data": {
      "text/plain": [
       "[(1, -1), (2, -2), (3, -3), (4, -4)]"
      ]
     },
     "execution_count": 46,
     "metadata": {},
     "output_type": "execute_result"
    }
   ],
   "source": [
    "l1=[1,2,3,4]\n",
    "l2=[-1,-2,-3,-4]\n",
    "\n",
    "list(zip(l1,l2))"
   ]
  },
  {
   "cell_type": "code",
   "execution_count": 5,
   "id": "ccfdfe8e",
   "metadata": {},
   "outputs": [
    {
     "data": {
      "text/plain": [
       "[0, 0, 0, 0]"
      ]
     },
     "execution_count": 5,
     "metadata": {},
     "output_type": "execute_result"
    }
   ],
   "source": [
    "l1=[1,2,3,4]\n",
    "l2=[-1,-2,-3,-4]\n",
    "\n",
    "[(i+j) for i,j in zip(l1,l2)]"
   ]
  },
  {
   "cell_type": "markdown",
   "id": "9dcd0114",
   "metadata": {},
   "source": [
    "## Disadvantages of python lists\n",
    "- slow\n",
    "- Risky usage\n",
    "- eat up more memory"
   ]
  },
  {
   "cell_type": "markdown",
   "id": "bb7fa229",
   "metadata": {},
   "source": [
    "# 16.Python Tuple"
   ]
  },
  {
   "cell_type": "markdown",
   "id": "8c5169a1",
   "metadata": {},
   "source": [
    "- A tuple in python is similar to a list.a tuple is immutable"
   ]
  },
  {
   "cell_type": "markdown",
   "id": "9bdb2aaa",
   "metadata": {},
   "source": [
    "### characteristics:"
   ]
  },
  {
   "cell_type": "markdown",
   "id": "ae6dc1a2",
   "metadata": {},
   "source": [
    "- ordered"
   ]
  },
  {
   "cell_type": "markdown",
   "id": "33991cfa",
   "metadata": {},
   "source": [
    "- unchangeble"
   ]
  },
  {
   "cell_type": "markdown",
   "id": "debe96ad",
   "metadata": {},
   "source": [
    "- allow duplicate"
   ]
  },
  {
   "cell_type": "markdown",
   "id": "21330245",
   "metadata": {},
   "source": [
    "### 1.creating a tuple"
   ]
  },
  {
   "cell_type": "code",
   "execution_count": 2,
   "id": "adbc0375",
   "metadata": {},
   "outputs": [
    {
     "name": "stdout",
     "output_type": "stream",
     "text": [
      "()\n",
      "(1, 2, 3, 4, 5)\n",
      "(1, 2.5, True, 'hello')\n",
      "(1, 2, (3, 4))\n",
      "('h', 'e', 'l', 'l', 'o')\n"
     ]
    }
   ],
   "source": [
    "# empty\n",
    "print(())\n",
    "\n",
    "# homo\n",
    "t1=(1,2,3,4,5)\n",
    "print(t1)\n",
    "\n",
    "# hetro\n",
    "t1=(1,2.5,True,'hello')\n",
    "print(t1)\n",
    "\n",
    "# 2d tuple\n",
    "t1=(1,2,(3,4))\n",
    "print(t1)\n",
    "\n",
    "# using type conversion\n",
    "t1=tuple('hello')\n",
    "print(t1)"
   ]
  },
  {
   "cell_type": "code",
   "execution_count": 3,
   "id": "1a7ab904",
   "metadata": {},
   "outputs": [
    {
     "name": "stdout",
     "output_type": "stream",
     "text": [
      "hello\n",
      "<class 'str'>\n",
      "('hello',)\n",
      "<class 'tuple'>\n"
     ]
    }
   ],
   "source": [
    "# creating a tuple with a single item\n",
    "t1=('hello')   # this create a string not a tuple\n",
    "print(t1)\n",
    "print(type(t1))\n",
    "\n",
    "t1=('hello',)   # this create tuple with single item\n",
    "print(t1)\n",
    "print(type(t1))"
   ]
  },
  {
   "cell_type": "markdown",
   "id": "c12f1fa7",
   "metadata": {},
   "source": [
    "### 2.accessing items"
   ]
  },
  {
   "cell_type": "code",
   "execution_count": 12,
   "id": "4f0d6078",
   "metadata": {},
   "outputs": [
    {
     "name": "stdout",
     "output_type": "stream",
     "text": [
      "1\n",
      "5\n",
      "(2, 3)\n",
      "(5, 4, 3, 2, 1)\n",
      "(5, 4, 3, 2)\n"
     ]
    }
   ],
   "source": [
    "t=(1,2,3,4,5)\n",
    "\n",
    "# indexing\n",
    "print(t[0])\n",
    "print(t[-1])\n",
    "\n",
    "# slicing\n",
    "print(t[1:3])\n",
    "print(t[::-1])\n",
    "print(t[-1:-5:-1])"
   ]
  },
  {
   "cell_type": "markdown",
   "id": "d44d3d50",
   "metadata": {},
   "source": [
    "### 3.editing items"
   ]
  },
  {
   "cell_type": "code",
   "execution_count": 14,
   "id": "2a9d8a8b",
   "metadata": {},
   "outputs": [
    {
     "ename": "TypeError",
     "evalue": "'tuple' object does not support item assignment",
     "output_type": "error",
     "traceback": [
      "\u001b[1;31m---------------------------------------------------------------------------\u001b[0m",
      "\u001b[1;31mTypeError\u001b[0m                                 Traceback (most recent call last)",
      "Cell \u001b[1;32mIn[14], line 3\u001b[0m\n\u001b[0;32m      1\u001b[0m t\u001b[38;5;241m=\u001b[39m(\u001b[38;5;241m1\u001b[39m,\u001b[38;5;241m2\u001b[39m,\u001b[38;5;241m3\u001b[39m,\u001b[38;5;241m4\u001b[39m,\u001b[38;5;241m5\u001b[39m) \u001b[38;5;66;03m# this not happen bacause tuple immutable\u001b[39;00m\n\u001b[1;32m----> 3\u001b[0m t[\u001b[38;5;241m0\u001b[39m]\u001b[38;5;241m=\u001b[39m\u001b[38;5;241m0\u001b[39m\n\u001b[0;32m      4\u001b[0m \u001b[38;5;28mprint\u001b[39m(t)\n",
      "\u001b[1;31mTypeError\u001b[0m: 'tuple' object does not support item assignment"
     ]
    }
   ],
   "source": [
    "t=(1,2,3,4,5) # this not happen bacause tuple immutable\n",
    "\n",
    "t[0]=0\n",
    "print(t)"
   ]
  },
  {
   "cell_type": "markdown",
   "id": "e387cf55",
   "metadata": {},
   "source": [
    "### 4.adding items"
   ]
  },
  {
   "cell_type": "code",
   "execution_count": 15,
   "id": "2f2e32bd",
   "metadata": {},
   "outputs": [],
   "source": [
    "t=(1,2,3,4,5)\n",
    "# not possible"
   ]
  },
  {
   "cell_type": "markdown",
   "id": "73e895d9",
   "metadata": {},
   "source": [
    "### 5.deleting items"
   ]
  },
  {
   "cell_type": "code",
   "execution_count": 18,
   "id": "e282b792",
   "metadata": {},
   "outputs": [
    {
     "ename": "NameError",
     "evalue": "name 't' is not defined",
     "output_type": "error",
     "traceback": [
      "\u001b[1;31m---------------------------------------------------------------------------\u001b[0m",
      "\u001b[1;31mNameError\u001b[0m                                 Traceback (most recent call last)",
      "Cell \u001b[1;32mIn[18], line 5\u001b[0m\n\u001b[0;32m      3\u001b[0m \u001b[38;5;28;01mdel\u001b[39;00m t\n\u001b[0;32m      4\u001b[0m \u001b[38;5;66;03m# del t[0]\u001b[39;00m\n\u001b[1;32m----> 5\u001b[0m \u001b[38;5;28mprint\u001b[39m(\u001b[43mt\u001b[49m)\n",
      "\u001b[1;31mNameError\u001b[0m: name 't' is not defined"
     ]
    }
   ],
   "source": [
    "# in tuple we can delete whole tuple but not particular item \n",
    "t=(1,2,3,4,5)\n",
    "del t\n",
    "# del t[0]\n",
    "print(t)"
   ]
  },
  {
   "cell_type": "markdown",
   "id": "678b1f64",
   "metadata": {},
   "source": [
    "### 6.operations on tuple"
   ]
  },
  {
   "cell_type": "code",
   "execution_count": 20,
   "id": "e0c9bf05",
   "metadata": {},
   "outputs": [
    {
     "name": "stdout",
     "output_type": "stream",
     "text": [
      "(1, 2, 3, 4, 5, 6)\n",
      "(1, 2, 3, 1, 2, 3, 1, 2, 3)\n"
     ]
    }
   ],
   "source": [
    "# + and *\n",
    "t1=(1,2,3)\n",
    "t2=(4,5,6)\n",
    "\n",
    "print(t1+t2)\n",
    "print(t1*3)"
   ]
  },
  {
   "cell_type": "code",
   "execution_count": 22,
   "id": "3374f1bd",
   "metadata": {},
   "outputs": [
    {
     "name": "stdout",
     "output_type": "stream",
     "text": [
      "True\n",
      "False\n"
     ]
    }
   ],
   "source": [
    "# membership\n",
    "t=(1,2,3,4,5)\n",
    "print(3 in t)\n",
    "print(5 not in t)"
   ]
  },
  {
   "cell_type": "code",
   "execution_count": 23,
   "id": "19fa2014",
   "metadata": {},
   "outputs": [
    {
     "name": "stdout",
     "output_type": "stream",
     "text": [
      "1\n",
      "2\n",
      "3\n",
      "4\n",
      "5\n"
     ]
    }
   ],
   "source": [
    "# iteration\n",
    "t=(1,2,3,4,5)\n",
    "\n",
    "for i in t:\n",
    "    print(i)"
   ]
  },
  {
   "cell_type": "markdown",
   "id": "3afec227",
   "metadata": {},
   "source": [
    "### 7.tuple functions"
   ]
  },
  {
   "cell_type": "code",
   "execution_count": 26,
   "id": "00b42b54",
   "metadata": {},
   "outputs": [
    {
     "name": "stdout",
     "output_type": "stream",
     "text": [
      "6\n",
      "1\n",
      "6\n",
      "21\n",
      "[1, 2, 3, 4, 5, 6]\n",
      "[6, 5, 4, 3, 2, 1]\n"
     ]
    }
   ],
   "source": [
    "# len/min/max/sorted/sum\n",
    "t=(6,1,5,2,4,3)\n",
    "\n",
    "print(len(t))\n",
    "print(min(t))\n",
    "print(max(t))\n",
    "print(sum(t))\n",
    "print(sorted(t))\n",
    "print(sorted(t,reverse=True))"
   ]
  },
  {
   "cell_type": "code",
   "execution_count": 29,
   "id": "ee43475d",
   "metadata": {},
   "outputs": [
    {
     "data": {
      "text/plain": [
       "1"
      ]
     },
     "execution_count": 29,
     "metadata": {},
     "output_type": "execute_result"
    }
   ],
   "source": [
    "# count\n",
    "t=(1,2,3,4,5)\n",
    "t.count(5)"
   ]
  },
  {
   "cell_type": "code",
   "execution_count": 6,
   "id": "1f388590",
   "metadata": {},
   "outputs": [
    {
     "data": {
      "text/plain": [
       "4"
      ]
     },
     "execution_count": 6,
     "metadata": {},
     "output_type": "execute_result"
    }
   ],
   "source": [
    "# index\n",
    "t=(1,2,3,4,5)\n",
    "t.index(5)"
   ]
  },
  {
   "cell_type": "markdown",
   "id": "ced0983c",
   "metadata": {},
   "source": [
    "## Difference between list and tuple"
   ]
  },
  {
   "cell_type": "markdown",
   "id": "841c616c",
   "metadata": {},
   "source": [
    "- syntax"
   ]
  },
  {
   "cell_type": "code",
   "execution_count": 32,
   "id": "ed54480b",
   "metadata": {},
   "outputs": [],
   "source": [
    "list=[]\n",
    "tuple=()"
   ]
  },
  {
   "cell_type": "markdown",
   "id": "9420af47",
   "metadata": {},
   "source": [
    "- mutability"
   ]
  },
  {
   "cell_type": "code",
   "execution_count": 34,
   "id": "c34b9b5f",
   "metadata": {},
   "outputs": [],
   "source": [
    "#list=mutable\n",
    "#tuple=immutable"
   ]
  },
  {
   "cell_type": "markdown",
   "id": "d5be0a93",
   "metadata": {},
   "source": [
    "- speed"
   ]
  },
  {
   "cell_type": "code",
   "execution_count": 6,
   "id": "ccebc205",
   "metadata": {},
   "outputs": [
    {
     "name": "stdout",
     "output_type": "stream",
     "text": [
      "list time:  1.4696216583251953\n",
      "tuple time:  1.4568612575531006\n"
     ]
    }
   ],
   "source": [
    "# tuple faster than list (generally immutable data type faster than mutable data type)\n",
    "import time \n",
    "\n",
    "l=list(range(10000000))\n",
    "t=tuple(range(10000000))\n",
    "\n",
    "start=time.time()\n",
    "\n",
    "for i in l:\n",
    "    i*5\n",
    "print(\"list time: \",time.time()-start)\n",
    "\n",
    "\n",
    "start=time.time()\n",
    "\n",
    "for i in t:\n",
    "    i*5\n",
    "print(\"tuple time: \",time.time()-start)"
   ]
  },
  {
   "cell_type": "markdown",
   "id": "93bb19ca",
   "metadata": {},
   "source": [
    "- memory"
   ]
  },
  {
   "cell_type": "code",
   "execution_count": 3,
   "id": "48f4cd1e",
   "metadata": {},
   "outputs": [
    {
     "name": "stdout",
     "output_type": "stream",
     "text": [
      "list size: 8000056\n",
      "tuple size: 8000040\n"
     ]
    }
   ],
   "source": [
    "import sys\n",
    "\n",
    "l=list(range(1000000))\n",
    "t=tuple(range(1000000))\n",
    "\n",
    "print(\"list size:\",sys.getsizeof(l))\n",
    "print(\"tuple size:\",sys.getsizeof(t))"
   ]
  },
  {
   "cell_type": "markdown",
   "id": "03d755a2",
   "metadata": {},
   "source": [
    "- built in functionality"
   ]
  },
  {
   "cell_type": "markdown",
   "id": "dd99db20",
   "metadata": {},
   "source": [
    "- error prone"
   ]
  },
  {
   "cell_type": "markdown",
   "id": "d9841976",
   "metadata": {},
   "source": [
    "- usability"
   ]
  },
  {
   "cell_type": "markdown",
   "id": "5f23c810",
   "metadata": {},
   "source": [
    "# Special Syntax"
   ]
  },
  {
   "cell_type": "code",
   "execution_count": 60,
   "id": "e65f7db0",
   "metadata": {},
   "outputs": [
    {
     "name": "stdout",
     "output_type": "stream",
     "text": [
      "1 2 3\n"
     ]
    }
   ],
   "source": [
    "# tuple unpacking\n",
    "a,b,c=(1,2,3)\n",
    "print(a,b,c)"
   ]
  },
  {
   "cell_type": "code",
   "execution_count": 61,
   "id": "9046dd44",
   "metadata": {},
   "outputs": [
    {
     "ename": "ValueError",
     "evalue": "too many values to unpack (expected 2)",
     "output_type": "error",
     "traceback": [
      "\u001b[1;31m---------------------------------------------------------------------------\u001b[0m",
      "\u001b[1;31mValueError\u001b[0m                                Traceback (most recent call last)",
      "Cell \u001b[1;32mIn[61], line 1\u001b[0m\n\u001b[1;32m----> 1\u001b[0m a,b\u001b[38;5;241m=\u001b[39m(\u001b[38;5;241m1\u001b[39m,\u001b[38;5;241m2\u001b[39m,\u001b[38;5;241m3\u001b[39m)\n\u001b[0;32m      2\u001b[0m \u001b[38;5;28mprint\u001b[39m(a,b)\n",
      "\u001b[1;31mValueError\u001b[0m: too many values to unpack (expected 2)"
     ]
    }
   ],
   "source": [
    "a,b=(1,2,3)\n",
    "print(a,b)"
   ]
  },
  {
   "cell_type": "code",
   "execution_count": 64,
   "id": "729540d3",
   "metadata": {},
   "outputs": [
    {
     "name": "stdout",
     "output_type": "stream",
     "text": [
      "2\n",
      "1\n"
     ]
    }
   ],
   "source": [
    "a=1\n",
    "b=2\n",
    "\n",
    "a,b=b,a\n",
    "\n",
    "print(a)\n",
    "print(b)"
   ]
  },
  {
   "cell_type": "code",
   "execution_count": 65,
   "id": "e6f8df0b",
   "metadata": {},
   "outputs": [
    {
     "name": "stdout",
     "output_type": "stream",
     "text": [
      "1\n",
      "2\n",
      "[3, 4]\n"
     ]
    }
   ],
   "source": [
    "a,b,*others=(1,2,3,4)\n",
    "print(a)\n",
    "print(b)\n",
    "print(others)"
   ]
  },
  {
   "cell_type": "code",
   "execution_count": 68,
   "id": "c64e6970",
   "metadata": {},
   "outputs": [
    {
     "data": {
      "text/plain": [
       "<zip at 0x20881677740>"
      ]
     },
     "execution_count": 68,
     "metadata": {},
     "output_type": "execute_result"
    }
   ],
   "source": [
    "# zip tuple\n",
    "a=(1,2,3)\n",
    "b=(4,5,6)\n",
    "\n",
    "zip(a,b)"
   ]
  },
  {
   "cell_type": "code",
   "execution_count": 1,
   "id": "f9eab531",
   "metadata": {},
   "outputs": [
    {
     "data": {
      "text/plain": [
       "((1, 4), (2, 5), (3, 6))"
      ]
     },
     "execution_count": 1,
     "metadata": {},
     "output_type": "execute_result"
    }
   ],
   "source": [
    "a=(1,2,3)\n",
    "b=(4,5,6)\n",
    "\n",
    "tuple(zip(a,b))"
   ]
  },
  {
   "cell_type": "markdown",
   "id": "cff21dfb",
   "metadata": {},
   "source": [
    "# 17.Sets"
   ]
  },
  {
   "cell_type": "markdown",
   "id": "8467da61",
   "metadata": {},
   "source": [
    "A set is an unordered collection of items.Every set element is unique (no duplicates) and must be immutable (cannot be changed).\n",
    "however,a set itself is mutable. we can add or remove items from it.\n",
    "sets can also be used to perform mathematical set operation like union,intersection,symmetric difference,etc"
   ]
  },
  {
   "cell_type": "markdown",
   "id": "5adbe6fa",
   "metadata": {},
   "source": [
    "### - characteristics:"
   ]
  },
  {
   "cell_type": "markdown",
   "id": "065cfd15",
   "metadata": {},
   "source": [
    "- unordered"
   ]
  },
  {
   "cell_type": "markdown",
   "id": "ce7a63bf",
   "metadata": {},
   "source": [
    "- mutable"
   ]
  },
  {
   "cell_type": "markdown",
   "id": "9876546f",
   "metadata": {},
   "source": [
    "- no duplicate"
   ]
  },
  {
   "cell_type": "markdown",
   "id": "b7c63079",
   "metadata": {},
   "source": [
    "- can't contain mutable data types"
   ]
  },
  {
   "cell_type": "markdown",
   "id": "2753e9db",
   "metadata": {},
   "source": [
    "### 1.creating a sets"
   ]
  },
  {
   "cell_type": "code",
   "execution_count": 15,
   "id": "d01ae72a",
   "metadata": {},
   "outputs": [
    {
     "name": "stdout",
     "output_type": "stream",
     "text": [
      "{}\n",
      "<class 'dict'>\n",
      "set()\n",
      "<class 'set'>\n"
     ]
    }
   ],
   "source": [
    "# empty\n",
    "s={}  # this create an empty dict\n",
    "print(s)\n",
    "print(type(s))\n",
    "\n",
    "s=set()\n",
    "print(s)\n",
    "print(type(s))"
   ]
  },
  {
   "cell_type": "code",
   "execution_count": 18,
   "id": "595b7bd8",
   "metadata": {},
   "outputs": [
    {
     "name": "stdout",
     "output_type": "stream",
     "text": [
      "{1, 2, 3}\n"
     ]
    }
   ],
   "source": [
    "# 1d & 2d\n",
    "s={1,2,3}\n",
    "print(s)\n",
    "\n",
    "#s={1,2,{3,4}}  this not possible"
   ]
  },
  {
   "cell_type": "code",
   "execution_count": 25,
   "id": "b7cf69e8",
   "metadata": {},
   "outputs": [
    {
     "name": "stdout",
     "output_type": "stream",
     "text": [
      "{1, 2, 'hello'}\n",
      "{1, 2, 'hello'}\n",
      "{1, 2, (1, 2), 'hello'}\n"
     ]
    }
   ],
   "source": [
    "# homo and hetero\n",
    "s={1,2,'hello'}\n",
    "print(s)\n",
    "\n",
    "s={1,2,'hello',True}  # True=1\n",
    "print(s)\n",
    "\n",
    "s={1,2,'hello',(1,2)}\n",
    "print(s)"
   ]
  },
  {
   "cell_type": "code",
   "execution_count": 26,
   "id": "bf00db46",
   "metadata": {},
   "outputs": [
    {
     "name": "stdout",
     "output_type": "stream",
     "text": [
      "{1, 2, 3}\n"
     ]
    }
   ],
   "source": [
    "# using type conversion\n",
    "s=set([1,2,3])\n",
    "print(s)"
   ]
  },
  {
   "cell_type": "code",
   "execution_count": 27,
   "id": "c758dc69",
   "metadata": {},
   "outputs": [
    {
     "name": "stdout",
     "output_type": "stream",
     "text": [
      "{1, 2, 3, 4, 5}\n"
     ]
    }
   ],
   "source": [
    "# duplicate not allow\n",
    "s={1,1,2,3,3,4,5,5}\n",
    "print(s)"
   ]
  },
  {
   "cell_type": "code",
   "execution_count": 1,
   "id": "19b4c3bf",
   "metadata": {},
   "outputs": [
    {
     "ename": "TypeError",
     "evalue": "unhashable type: 'list'",
     "output_type": "error",
     "traceback": [
      "\u001b[1;31m---------------------------------------------------------------------------\u001b[0m",
      "\u001b[1;31mTypeError\u001b[0m                                 Traceback (most recent call last)",
      "Cell \u001b[1;32mIn[1], line 3\u001b[0m\n\u001b[0;32m      1\u001b[0m \u001b[38;5;66;03m# set can't have mutable items (set is mutable but it cannot have mutable data type)\u001b[39;00m\n\u001b[1;32m----> 3\u001b[0m s\u001b[38;5;241m=\u001b[39m{\u001b[38;5;241m1\u001b[39m,\u001b[38;5;241m2\u001b[39m,\u001b[38;5;124m'\u001b[39m\u001b[38;5;124mhello\u001b[39m\u001b[38;5;124m'\u001b[39m,[\u001b[38;5;241m1\u001b[39m,\u001b[38;5;241m2\u001b[39m]}\n\u001b[0;32m      4\u001b[0m \u001b[38;5;28mprint\u001b[39m(s)\n",
      "\u001b[1;31mTypeError\u001b[0m: unhashable type: 'list'"
     ]
    }
   ],
   "source": [
    "# set can't have mutable items (set is mutable but it cannot have mutable data type)\n",
    "\n",
    "s={1,2,'hello',[1,2]}\n",
    "print(s)"
   ]
  },
  {
   "cell_type": "code",
   "execution_count": 2,
   "id": "91ee5532",
   "metadata": {},
   "outputs": [
    {
     "name": "stdout",
     "output_type": "stream",
     "text": [
      "True\n"
     ]
    }
   ],
   "source": [
    "s1={1,2,3}\n",
    "s2={3,1,2}\n",
    "print(s1==s2)"
   ]
  },
  {
   "cell_type": "markdown",
   "id": "ae3819df",
   "metadata": {},
   "source": [
    "### 2.Accessing items"
   ]
  },
  {
   "cell_type": "code",
   "execution_count": 4,
   "id": "7133761b",
   "metadata": {},
   "outputs": [
    {
     "ename": "TypeError",
     "evalue": "'set' object is not subscriptable",
     "output_type": "error",
     "traceback": [
      "\u001b[1;31m---------------------------------------------------------------------------\u001b[0m",
      "\u001b[1;31mTypeError\u001b[0m                                 Traceback (most recent call last)",
      "Cell \u001b[1;32mIn[4], line 2\u001b[0m\n\u001b[0;32m      1\u001b[0m s\u001b[38;5;241m=\u001b[39m{\u001b[38;5;241m1\u001b[39m,\u001b[38;5;241m2\u001b[39m,\u001b[38;5;241m3\u001b[39m,\u001b[38;5;241m4\u001b[39m,\u001b[38;5;241m5\u001b[39m}\n\u001b[1;32m----> 2\u001b[0m \u001b[38;5;28mprint\u001b[39m(\u001b[43ms\u001b[49m\u001b[43m[\u001b[49m\u001b[38;5;241;43m0\u001b[39;49m\u001b[43m]\u001b[49m)\n\u001b[0;32m      3\u001b[0m \u001b[38;5;28mprint\u001b[39m(s[\u001b[38;5;241m0\u001b[39m:\u001b[38;5;241m3\u001b[39m])\n",
      "\u001b[1;31mTypeError\u001b[0m: 'set' object is not subscriptable"
     ]
    }
   ],
   "source": [
    "s={1,2,3,4,5}\n",
    "print(s[0])\n",
    "print(s[0:3])\n",
    "# indexing and slicing not allow, we cannot change the items of set"
   ]
  },
  {
   "cell_type": "markdown",
   "id": "3e8394ba",
   "metadata": {},
   "source": [
    "### 3.Editing items"
   ]
  },
  {
   "cell_type": "code",
   "execution_count": 6,
   "id": "462295f4",
   "metadata": {},
   "outputs": [
    {
     "ename": "TypeError",
     "evalue": "'set' object does not support item assignment",
     "output_type": "error",
     "traceback": [
      "\u001b[1;31m---------------------------------------------------------------------------\u001b[0m",
      "\u001b[1;31mTypeError\u001b[0m                                 Traceback (most recent call last)",
      "Cell \u001b[1;32mIn[6], line 2\u001b[0m\n\u001b[0;32m      1\u001b[0m s\u001b[38;5;241m=\u001b[39m{\u001b[38;5;241m1\u001b[39m,\u001b[38;5;241m2\u001b[39m,\u001b[38;5;241m3\u001b[39m}\n\u001b[1;32m----> 2\u001b[0m s[\u001b[38;5;241m0\u001b[39m]\u001b[38;5;241m=\u001b[39m\u001b[38;5;241m0\u001b[39m\n\u001b[0;32m      3\u001b[0m \u001b[38;5;28mprint\u001b[39m(s)\n",
      "\u001b[1;31mTypeError\u001b[0m: 'set' object does not support item assignment"
     ]
    }
   ],
   "source": [
    "s={1,2,3}\n",
    "s[0]=0\n",
    "print(s)\n",
    "# this not happen in set"
   ]
  },
  {
   "cell_type": "markdown",
   "id": "a193a723",
   "metadata": {},
   "source": [
    "### 4.Adding items"
   ]
  },
  {
   "cell_type": "code",
   "execution_count": 8,
   "id": "67fb9756",
   "metadata": {},
   "outputs": [
    {
     "name": "stdout",
     "output_type": "stream",
     "text": [
      "{0, 1, 2, 3}\n"
     ]
    }
   ],
   "source": [
    "s={1,2,3}\n",
    "# add\n",
    "s.add(0)\n",
    "print(s)"
   ]
  },
  {
   "cell_type": "code",
   "execution_count": 10,
   "id": "80440a17",
   "metadata": {},
   "outputs": [
    {
     "name": "stdout",
     "output_type": "stream",
     "text": [
      "{1, 2, 3, 4, 5, 6}\n"
     ]
    }
   ],
   "source": [
    "s={1,2,3}\n",
    "# update\n",
    "s.update([4,5,6])\n",
    "print(s)"
   ]
  },
  {
   "cell_type": "markdown",
   "id": "722d2caf",
   "metadata": {},
   "source": [
    "### 5.deleting items"
   ]
  },
  {
   "cell_type": "code",
   "execution_count": 13,
   "id": "cf64c754",
   "metadata": {},
   "outputs": [
    {
     "name": "stdout",
     "output_type": "stream",
     "text": [
      "{1, 2, 3}\n"
     ]
    },
    {
     "ename": "NameError",
     "evalue": "name 's' is not defined",
     "output_type": "error",
     "traceback": [
      "\u001b[1;31m---------------------------------------------------------------------------\u001b[0m",
      "\u001b[1;31mNameError\u001b[0m                                 Traceback (most recent call last)",
      "Cell \u001b[1;32mIn[13], line 6\u001b[0m\n\u001b[0;32m      4\u001b[0m \u001b[38;5;66;03m# del\u001b[39;00m\n\u001b[0;32m      5\u001b[0m \u001b[38;5;28;01mdel\u001b[39;00m s\n\u001b[1;32m----> 6\u001b[0m \u001b[38;5;28mprint\u001b[39m(\u001b[43ms\u001b[49m)\n",
      "\u001b[1;31mNameError\u001b[0m: name 's' is not defined"
     ]
    }
   ],
   "source": [
    "s={1,2,3}\n",
    "\n",
    "print(s)\n",
    "# del\n",
    "del s\n",
    "print(s)"
   ]
  },
  {
   "cell_type": "code",
   "execution_count": 15,
   "id": "bb56a6d3",
   "metadata": {},
   "outputs": [
    {
     "name": "stdout",
     "output_type": "stream",
     "text": [
      "{1, 2}\n",
      "{1, 2}\n"
     ]
    }
   ],
   "source": [
    "s={1,2,3}\n",
    "\n",
    "# discard\n",
    "s.discard(3)\n",
    "print(s)\n",
    "\n",
    "s.discard(30)\n",
    "print(s)"
   ]
  },
  {
   "cell_type": "code",
   "execution_count": 17,
   "id": "14994948",
   "metadata": {},
   "outputs": [
    {
     "name": "stdout",
     "output_type": "stream",
     "text": [
      "{1, 2}\n"
     ]
    },
    {
     "ename": "KeyError",
     "evalue": "50",
     "output_type": "error",
     "traceback": [
      "\u001b[1;31m---------------------------------------------------------------------------\u001b[0m",
      "\u001b[1;31mKeyError\u001b[0m                                  Traceback (most recent call last)",
      "Cell \u001b[1;32mIn[17], line 7\u001b[0m\n\u001b[0;32m      4\u001b[0m s\u001b[38;5;241m.\u001b[39mremove(\u001b[38;5;241m3\u001b[39m)\n\u001b[0;32m      5\u001b[0m \u001b[38;5;28mprint\u001b[39m(s)\n\u001b[1;32m----> 7\u001b[0m \u001b[43ms\u001b[49m\u001b[38;5;241;43m.\u001b[39;49m\u001b[43mremove\u001b[49m\u001b[43m(\u001b[49m\u001b[38;5;241;43m50\u001b[39;49m\u001b[43m)\u001b[49m\n\u001b[0;32m      8\u001b[0m \u001b[38;5;28mprint\u001b[39m(s)\n",
      "\u001b[1;31mKeyError\u001b[0m: 50"
     ]
    }
   ],
   "source": [
    "s={1,2,3}\n",
    "\n",
    "# remove\n",
    "s.remove(3)\n",
    "print(s)\n",
    "\n",
    "s.remove(50)\n",
    "print(s)"
   ]
  },
  {
   "cell_type": "code",
   "execution_count": 19,
   "id": "bf2c9898",
   "metadata": {},
   "outputs": [
    {
     "name": "stdout",
     "output_type": "stream",
     "text": [
      "{2, 3}\n"
     ]
    }
   ],
   "source": [
    "s={1,2,3}\n",
    "\n",
    "# pop (randomly delete items)\n",
    "s.pop()\n",
    "print(s)"
   ]
  },
  {
   "cell_type": "code",
   "execution_count": 20,
   "id": "6c45f639",
   "metadata": {},
   "outputs": [
    {
     "name": "stdout",
     "output_type": "stream",
     "text": [
      "set()\n"
     ]
    }
   ],
   "source": [
    "s={1,2,3}\n",
    "\n",
    "# clear\n",
    "s.clear()\n",
    "print(s)"
   ]
  },
  {
   "cell_type": "markdown",
   "id": "660f7e79",
   "metadata": {},
   "source": [
    "### 6.Set operation"
   ]
  },
  {
   "cell_type": "code",
   "execution_count": 22,
   "id": "70703e91",
   "metadata": {},
   "outputs": [],
   "source": [
    "s1={1,2,3,4,5}\n",
    "s2={3,4,5,6,7}"
   ]
  },
  {
   "cell_type": "code",
   "execution_count": 23,
   "id": "32da0bcf",
   "metadata": {},
   "outputs": [
    {
     "data": {
      "text/plain": [
       "{1, 2, 3, 4, 5, 6, 7}"
      ]
     },
     "execution_count": 23,
     "metadata": {},
     "output_type": "execute_result"
    }
   ],
   "source": [
    "# union\n",
    "s1|s2"
   ]
  },
  {
   "cell_type": "code",
   "execution_count": 25,
   "id": "d8782b78",
   "metadata": {},
   "outputs": [
    {
     "data": {
      "text/plain": [
       "{3, 4, 5}"
      ]
     },
     "execution_count": 25,
     "metadata": {},
     "output_type": "execute_result"
    }
   ],
   "source": [
    "# intersection\n",
    "s1&s2"
   ]
  },
  {
   "cell_type": "code",
   "execution_count": 28,
   "id": "228de64f",
   "metadata": {},
   "outputs": [
    {
     "name": "stdout",
     "output_type": "stream",
     "text": [
      "{1, 2}\n",
      "{6, 7}\n"
     ]
    }
   ],
   "source": [
    "# difference\n",
    "print(s1-s2)\n",
    "print(s2-s1)"
   ]
  },
  {
   "cell_type": "code",
   "execution_count": 30,
   "id": "ccef6d44",
   "metadata": {},
   "outputs": [
    {
     "data": {
      "text/plain": [
       "{1, 2, 6, 7}"
      ]
     },
     "execution_count": 30,
     "metadata": {},
     "output_type": "execute_result"
    }
   ],
   "source": [
    "# symmetric diff\n",
    "s1^s2"
   ]
  },
  {
   "cell_type": "code",
   "execution_count": 33,
   "id": "9b6d12d6",
   "metadata": {},
   "outputs": [
    {
     "name": "stdout",
     "output_type": "stream",
     "text": [
      "True\n",
      "False\n",
      "False\n"
     ]
    }
   ],
   "source": [
    "# membership\n",
    "print(1 in s1)\n",
    "print(1 in s2)\n",
    "print(1 not in s1)"
   ]
  },
  {
   "cell_type": "code",
   "execution_count": 34,
   "id": "253b5890",
   "metadata": {},
   "outputs": [
    {
     "name": "stdout",
     "output_type": "stream",
     "text": [
      "1\n",
      "2\n",
      "3\n",
      "4\n",
      "5\n"
     ]
    }
   ],
   "source": [
    "# iteration\n",
    "s={1,2,3,4,5}\n",
    "\n",
    "for i in s:\n",
    "    print(i)"
   ]
  },
  {
   "cell_type": "markdown",
   "id": "7e44f018",
   "metadata": {},
   "source": [
    "### 7.Set function"
   ]
  },
  {
   "cell_type": "code",
   "execution_count": 35,
   "id": "7c85249e",
   "metadata": {},
   "outputs": [
    {
     "name": "stdout",
     "output_type": "stream",
     "text": [
      "5\n",
      "1\n",
      "5\n",
      "15\n",
      "[1, 2, 3, 4, 5]\n",
      "[5, 4, 3, 2, 1]\n"
     ]
    }
   ],
   "source": [
    "# len/min/max/sum/sorted\n",
    "s={4,5,3,1,2}\n",
    "\n",
    "print(len(s))\n",
    "print(min(s))\n",
    "print(max(s))\n",
    "print(sum(s))\n",
    "print(sorted(s))\n",
    "print(sorted(s,reverse=True))\n"
   ]
  },
  {
   "cell_type": "code",
   "execution_count": 65,
   "id": "e11edafd",
   "metadata": {},
   "outputs": [
    {
     "data": {
      "text/plain": [
       "{1, 2, 3, 4, 5, 6, 7, 8}"
      ]
     },
     "execution_count": 65,
     "metadata": {},
     "output_type": "execute_result"
    }
   ],
   "source": [
    "# union\n",
    "s1={1,2,3,4,5}\n",
    "s2={4,5,6,7,8}\n",
    "\n",
    "s1.union(s2)"
   ]
  },
  {
   "cell_type": "code",
   "execution_count": 39,
   "id": "f2669aa7",
   "metadata": {},
   "outputs": [
    {
     "name": "stdout",
     "output_type": "stream",
     "text": [
      "{1, 2, 3, 4, 5, 6, 7, 8}\n",
      "{4, 5, 6, 7, 8}\n"
     ]
    }
   ],
   "source": [
    "# update\n",
    "s1={1,2,3,4,5}\n",
    "s2={4,5,6,7,8}\n",
    "\n",
    "s1.update(s2)  # s1 update with s2\n",
    "print(s1)\n",
    "print(s2)"
   ]
  },
  {
   "cell_type": "code",
   "execution_count": 40,
   "id": "920947d9",
   "metadata": {},
   "outputs": [
    {
     "data": {
      "text/plain": [
       "{4, 5}"
      ]
     },
     "execution_count": 40,
     "metadata": {},
     "output_type": "execute_result"
    }
   ],
   "source": [
    "# intersection\n",
    "s1={1,2,3,4,5}\n",
    "s2={4,5,6,7,8}\n",
    "\n",
    "s1.intersection(s2)"
   ]
  },
  {
   "cell_type": "code",
   "execution_count": 43,
   "id": "36dc65e5",
   "metadata": {},
   "outputs": [
    {
     "name": "stdout",
     "output_type": "stream",
     "text": [
      "{4, 5}\n",
      "{4, 5, 6, 7, 8}\n"
     ]
    }
   ],
   "source": [
    "# intersection_update\n",
    "s1={1,2,3,4,5}\n",
    "s2={4,5,6,7,8}\n",
    "\n",
    "s1.intersection_update(s2)\n",
    "print(s1)\n",
    "print(s2)"
   ]
  },
  {
   "cell_type": "code",
   "execution_count": 48,
   "id": "69541808",
   "metadata": {},
   "outputs": [
    {
     "data": {
      "text/plain": [
       "{1, 2, 3}"
      ]
     },
     "execution_count": 48,
     "metadata": {},
     "output_type": "execute_result"
    }
   ],
   "source": [
    "# difference\n",
    "s1={1,2,3,4,5}\n",
    "s2={4,5,6,7,8}\n",
    "\n",
    "s1.difference(s2)"
   ]
  },
  {
   "cell_type": "code",
   "execution_count": 50,
   "id": "75a5515b",
   "metadata": {},
   "outputs": [
    {
     "name": "stdout",
     "output_type": "stream",
     "text": [
      "{1, 2, 3}\n",
      "{4, 5, 6, 7, 8}\n"
     ]
    }
   ],
   "source": [
    "# difference_update\n",
    "s1={1,2,3,4,5}\n",
    "s2={4,5,6,7,8}\n",
    "\n",
    "s1.difference_update(s2)\n",
    "print(s1)\n",
    "print(s2)"
   ]
  },
  {
   "cell_type": "code",
   "execution_count": 52,
   "id": "60ac4f75",
   "metadata": {},
   "outputs": [
    {
     "data": {
      "text/plain": [
       "{1, 2, 3, 6, 7, 8}"
      ]
     },
     "execution_count": 52,
     "metadata": {},
     "output_type": "execute_result"
    }
   ],
   "source": [
    "# symmetric_difference\n",
    "s1={1,2,3,4,5}\n",
    "s2={4,5,6,7,8}\n",
    "\n",
    "s1.symmetric_difference(s2)"
   ]
  },
  {
   "cell_type": "code",
   "execution_count": 53,
   "id": "a2d9cc5d",
   "metadata": {},
   "outputs": [
    {
     "name": "stdout",
     "output_type": "stream",
     "text": [
      "{1, 2, 3, 6, 7, 8}\n",
      "{4, 5, 6, 7, 8}\n"
     ]
    }
   ],
   "source": [
    "# symmetric_difference_update\n",
    "s1={1,2,3,4,5}\n",
    "s2={4,5,6,7,8}\n",
    "\n",
    "s1.symmetric_difference_update(s2)\n",
    "print(s1)\n",
    "print(s2)"
   ]
  },
  {
   "cell_type": "code",
   "execution_count": 55,
   "id": "3515347d",
   "metadata": {},
   "outputs": [
    {
     "data": {
      "text/plain": [
       "True"
      ]
     },
     "execution_count": 55,
     "metadata": {},
     "output_type": "execute_result"
    }
   ],
   "source": [
    "# isdisjoint\n",
    "s1={1,2,3}\n",
    "s2={4,5,6}\n",
    "\n",
    "s1.isdisjoint(s2)"
   ]
  },
  {
   "cell_type": "code",
   "execution_count": 60,
   "id": "623abd91",
   "metadata": {},
   "outputs": [
    {
     "data": {
      "text/plain": [
       "True"
      ]
     },
     "execution_count": 60,
     "metadata": {},
     "output_type": "execute_result"
    }
   ],
   "source": [
    "# issubset\n",
    "s1={1,2,3,4,5}\n",
    "s2={2,3,4}\n",
    "\n",
    "s2.issubset(s1)"
   ]
  },
  {
   "cell_type": "code",
   "execution_count": 61,
   "id": "d2b08dfc",
   "metadata": {},
   "outputs": [
    {
     "data": {
      "text/plain": [
       "True"
      ]
     },
     "execution_count": 61,
     "metadata": {},
     "output_type": "execute_result"
    }
   ],
   "source": [
    "# issuperset\n",
    "s1={1,2,3,4,5}\n",
    "s2={2,3,4}\n",
    "\n",
    "s1.issuperset(s2)"
   ]
  },
  {
   "cell_type": "code",
   "execution_count": 63,
   "id": "17bdcdf9",
   "metadata": {},
   "outputs": [
    {
     "name": "stdout",
     "output_type": "stream",
     "text": [
      "{1, 2, 3}\n",
      "{1, 2, 3}\n"
     ]
    }
   ],
   "source": [
    "# copy\n",
    "s1={1,2,3}\n",
    "\n",
    "s2=s1.copy()\n",
    "print(s1)\n",
    "print(s2)"
   ]
  },
  {
   "cell_type": "markdown",
   "id": "2fb8949e",
   "metadata": {},
   "source": [
    "# 18.Frozenset"
   ]
  },
  {
   "cell_type": "markdown",
   "id": "426a85bc",
   "metadata": {},
   "source": [
    "- frozen set is just an immutable version of a python set object"
   ]
  },
  {
   "cell_type": "markdown",
   "id": "17d5eb7d",
   "metadata": {},
   "source": [
    "### 1.create frozenset"
   ]
  },
  {
   "cell_type": "code",
   "execution_count": 64,
   "id": "011ed281",
   "metadata": {},
   "outputs": [
    {
     "data": {
      "text/plain": [
       "frozenset({1, 2, 3})"
      ]
     },
     "execution_count": 64,
     "metadata": {},
     "output_type": "execute_result"
    }
   ],
   "source": [
    "fs=frozenset([1,2,3])\n",
    "fs"
   ]
  },
  {
   "cell_type": "code",
   "execution_count": 66,
   "id": "ce667176",
   "metadata": {},
   "outputs": [],
   "source": [
    "# frozenset works with all read functions and don't work with write functions"
   ]
  },
  {
   "cell_type": "code",
   "execution_count": 67,
   "id": "4670a165",
   "metadata": {},
   "outputs": [
    {
     "data": {
      "text/plain": [
       "frozenset({1, 2, frozenset({3, 4})})"
      ]
     },
     "execution_count": 67,
     "metadata": {},
     "output_type": "execute_result"
    }
   ],
   "source": [
    "# 2d set\n",
    "fs=frozenset([1,2,frozenset([3,4])])\n",
    "fs"
   ]
  },
  {
   "cell_type": "markdown",
   "id": "aad1a509",
   "metadata": {},
   "source": [
    "## Set comprehension"
   ]
  },
  {
   "cell_type": "code",
   "execution_count": 71,
   "id": "ee4a4504",
   "metadata": {},
   "outputs": [
    {
     "data": {
      "text/plain": [
       "{1, 2, 3, 4, 5, 6, 7, 8, 9, 10}"
      ]
     },
     "execution_count": 71,
     "metadata": {},
     "output_type": "execute_result"
    }
   ],
   "source": [
    "{i for i in range(1,11)}"
   ]
  },
  {
   "cell_type": "code",
   "execution_count": 72,
   "id": "9fa66689",
   "metadata": {},
   "outputs": [
    {
     "data": {
      "text/plain": [
       "{2, 4, 6, 8, 10}"
      ]
     },
     "execution_count": 72,
     "metadata": {},
     "output_type": "execute_result"
    }
   ],
   "source": [
    "{i for i in range(1,11) if i%2==0}"
   ]
  },
  {
   "cell_type": "code",
   "execution_count": 73,
   "id": "a0d69449",
   "metadata": {},
   "outputs": [
    {
     "data": {
      "text/plain": [
       "{1, 4, 9, 16, 25, 36, 49, 64, 81, 100}"
      ]
     },
     "execution_count": 73,
     "metadata": {},
     "output_type": "execute_result"
    }
   ],
   "source": [
    "{i**2 for i in range(1,11)}"
   ]
  },
  {
   "cell_type": "markdown",
   "id": "ceafb243",
   "metadata": {},
   "source": [
    "# 19.Dictionary"
   ]
  },
  {
   "cell_type": "markdown",
   "id": "61800b8b",
   "metadata": {},
   "source": [
    "- Dict in python is a collection of keys values, used to store data values like a map, which unlike other data types which hold only a single value as an element"
   ]
  },
  {
   "cell_type": "markdown",
   "id": "6983a089",
   "metadata": {},
   "source": [
    "### - characteristics"
   ]
  },
  {
   "cell_type": "markdown",
   "id": "6d6486d1",
   "metadata": {},
   "source": [
    "- Mutable"
   ]
  },
  {
   "cell_type": "markdown",
   "id": "34956bf9",
   "metadata": {},
   "source": [
    "- indexing has no meaning"
   ]
  },
  {
   "cell_type": "markdown",
   "id": "9412f3be",
   "metadata": {},
   "source": [
    "- keys can't duplicated"
   ]
  },
  {
   "cell_type": "markdown",
   "id": "2fbc9a81",
   "metadata": {},
   "source": [
    "- keys can't be mutable items"
   ]
  },
  {
   "cell_type": "markdown",
   "id": "7e1265f4",
   "metadata": {},
   "source": [
    "### 1.create dict"
   ]
  },
  {
   "cell_type": "code",
   "execution_count": 74,
   "id": "8cf3604c",
   "metadata": {},
   "outputs": [
    {
     "name": "stdout",
     "output_type": "stream",
     "text": [
      "{}\n"
     ]
    }
   ],
   "source": [
    "# empty dict\n",
    "d={}\n",
    "print(d)"
   ]
  },
  {
   "cell_type": "code",
   "execution_count": 75,
   "id": "94b15530",
   "metadata": {},
   "outputs": [
    {
     "name": "stdout",
     "output_type": "stream",
     "text": [
      "{'name': 'bhushan', 'age': 20}\n"
     ]
    }
   ],
   "source": [
    "# 1D\n",
    "d={'name':'bhushan','age':20}\n",
    "print(d)"
   ]
  },
  {
   "cell_type": "code",
   "execution_count": 77,
   "id": "09f7e3e8",
   "metadata": {},
   "outputs": [
    {
     "data": {
      "text/plain": [
       "{(1, 2, 3): 1, 'hello': 'world'}"
      ]
     },
     "execution_count": 77,
     "metadata": {},
     "output_type": "execute_result"
    }
   ],
   "source": [
    "# with mixed keys\n",
    "d={(1,2,3):1,'hello':'world'}\n",
    "d"
   ]
  },
  {
   "cell_type": "code",
   "execution_count": 78,
   "id": "09e3dae2",
   "metadata": {},
   "outputs": [
    {
     "data": {
      "text/plain": [
       "{'name': 'bhushan',\n",
       " 'college': 'MET',\n",
       " 'sem': 4,\n",
       " 'subjects': {'DSA': 90, 'STAT': 90, 'IOT': 90}}"
      ]
     },
     "execution_count": 78,
     "metadata": {},
     "output_type": "execute_result"
    }
   ],
   "source": [
    "# 2D\n",
    "d={\n",
    "    'name':'bhushan',\n",
    "    'college':'MET',\n",
    "    'sem':4,\n",
    "    'subjects':{\n",
    "        'DSA':90,\n",
    "        'STAT':90,\n",
    "        'IOT':90\n",
    "    }\n",
    "}\n",
    "\n",
    "d"
   ]
  },
  {
   "cell_type": "code",
   "execution_count": 81,
   "id": "53d5bfc6",
   "metadata": {},
   "outputs": [
    {
     "name": "stdout",
     "output_type": "stream",
     "text": [
      "{1: 1, 2: 2, 3: 3}\n",
      "{'name': 'bhushan', 'age': 2, 3: 3}\n"
     ]
    }
   ],
   "source": [
    "# using sequence and dict functions\n",
    "d=dict([(1,1),(2,2),(3,3)])  # list of tuple\n",
    "print(d)\n",
    "\n",
    "d=dict([('name','bhushan'),('age',2),(3,3)])\n",
    "print(d)"
   ]
  },
  {
   "cell_type": "code",
   "execution_count": 84,
   "id": "fc61a707",
   "metadata": {},
   "outputs": [
    {
     "data": {
      "text/plain": [
       "{'name': 'shubham'}"
      ]
     },
     "execution_count": 84,
     "metadata": {},
     "output_type": "execute_result"
    }
   ],
   "source": [
    "# duplicate keys not allow\n",
    "d={'name':'bhushan','name':'shubham'}\n",
    "d"
   ]
  },
  {
   "cell_type": "code",
   "execution_count": 85,
   "id": "3132b135",
   "metadata": {},
   "outputs": [
    {
     "ename": "TypeError",
     "evalue": "unhashable type: 'list'",
     "output_type": "error",
     "traceback": [
      "\u001b[1;31m---------------------------------------------------------------------------\u001b[0m",
      "\u001b[1;31mTypeError\u001b[0m                                 Traceback (most recent call last)",
      "Cell \u001b[1;32mIn[85], line 2\u001b[0m\n\u001b[0;32m      1\u001b[0m \u001b[38;5;66;03m# mutable items as key not allow\u001b[39;00m\n\u001b[1;32m----> 2\u001b[0m d\u001b[38;5;241m=\u001b[39m{\u001b[38;5;124m'\u001b[39m\u001b[38;5;124mname\u001b[39m\u001b[38;5;124m'\u001b[39m:\u001b[38;5;124m'\u001b[39m\u001b[38;5;124mbhushan\u001b[39m\u001b[38;5;124m'\u001b[39m,[\u001b[38;5;241m1\u001b[39m,\u001b[38;5;241m2\u001b[39m,\u001b[38;5;241m3\u001b[39m]:\u001b[38;5;241m1\u001b[39m}\n\u001b[0;32m      3\u001b[0m d\n",
      "\u001b[1;31mTypeError\u001b[0m: unhashable type: 'list'"
     ]
    }
   ],
   "source": [
    "# mutable items as key not allow\n",
    "d={'name':'bhushan',[1,2,3]:1}\n",
    "d"
   ]
  },
  {
   "cell_type": "markdown",
   "id": "760a1d4d",
   "metadata": {},
   "source": [
    "### 2.Accessing items"
   ]
  },
  {
   "cell_type": "code",
   "execution_count": 87,
   "id": "8b40a804",
   "metadata": {},
   "outputs": [
    {
     "ename": "KeyError",
     "evalue": "0",
     "output_type": "error",
     "traceback": [
      "\u001b[1;31m---------------------------------------------------------------------------\u001b[0m",
      "\u001b[1;31mKeyError\u001b[0m                                  Traceback (most recent call last)",
      "Cell \u001b[1;32mIn[87], line 2\u001b[0m\n\u001b[0;32m      1\u001b[0m d\u001b[38;5;241m=\u001b[39m{\u001b[38;5;124m'\u001b[39m\u001b[38;5;124mname\u001b[39m\u001b[38;5;124m'\u001b[39m:\u001b[38;5;124m'\u001b[39m\u001b[38;5;124mbhushan\u001b[39m\u001b[38;5;124m'\u001b[39m,\u001b[38;5;124m'\u001b[39m\u001b[38;5;124mage\u001b[39m\u001b[38;5;124m'\u001b[39m:\u001b[38;5;241m20\u001b[39m}\n\u001b[1;32m----> 2\u001b[0m \u001b[43md\u001b[49m\u001b[43m[\u001b[49m\u001b[38;5;241;43m0\u001b[39;49m\u001b[43m]\u001b[49m\n",
      "\u001b[1;31mKeyError\u001b[0m: 0"
     ]
    }
   ],
   "source": [
    "d={'name':'bhushan','age':20}\n",
    "d[0] # this not allow"
   ]
  },
  {
   "cell_type": "code",
   "execution_count": 90,
   "id": "4cfbde6d",
   "metadata": {},
   "outputs": [
    {
     "name": "stdout",
     "output_type": "stream",
     "text": [
      "bhushan\n",
      "20\n"
     ]
    }
   ],
   "source": [
    "d={'name':'bhushan','age':20}\n",
    "\n",
    "# []\n",
    "print(d['name'])\n",
    "print(d['age'])"
   ]
  },
  {
   "cell_type": "code",
   "execution_count": 92,
   "id": "1d223f4c",
   "metadata": {},
   "outputs": [
    {
     "name": "stdout",
     "output_type": "stream",
     "text": [
      "bhushan\n",
      "20\n"
     ]
    }
   ],
   "source": [
    "# get\n",
    "print(d.get('name'))\n",
    "print(d.get('age'))"
   ]
  },
  {
   "cell_type": "code",
   "execution_count": 113,
   "id": "68fd7c21",
   "metadata": {},
   "outputs": [
    {
     "data": {
      "text/plain": [
       "90"
      ]
     },
     "execution_count": 113,
     "metadata": {},
     "output_type": "execute_result"
    }
   ],
   "source": [
    "d={'name': 'bhushan',\n",
    " 'college': 'MET',\n",
    " 'sem': 4,\n",
    " 'subjects': {'DSA': 90, 'STAT': 90, 'IOT': 90}}\n",
    "\n",
    "d['subjects']['DSA']"
   ]
  },
  {
   "cell_type": "markdown",
   "id": "e2eaf897",
   "metadata": {},
   "source": [
    "### 3.Adding key-value pair"
   ]
  },
  {
   "cell_type": "code",
   "execution_count": 94,
   "id": "f8cdf43b",
   "metadata": {},
   "outputs": [
    {
     "name": "stdout",
     "output_type": "stream",
     "text": [
      "{'name': 'bhushan', 'age': 20, 'gender': 'male', 'clg': 'MET'}\n"
     ]
    }
   ],
   "source": [
    "d={'name':'bhushan','age':20}\n",
    "\n",
    "d['gender']='male'\n",
    "d['clg']='MET'\n",
    "print(d)"
   ]
  },
  {
   "cell_type": "code",
   "execution_count": 114,
   "id": "948a5484",
   "metadata": {},
   "outputs": [
    {
     "data": {
      "text/plain": [
       "{'name': 'bhushan',\n",
       " 'college': 'MET',\n",
       " 'sem': 4,\n",
       " 'subjects': {'DSA': 90, 'STAT': 90, 'IOT': 90, 'SE': 90}}"
      ]
     },
     "execution_count": 114,
     "metadata": {},
     "output_type": "execute_result"
    }
   ],
   "source": [
    "d={'name': 'bhushan',\n",
    " 'college': 'MET',\n",
    " 'sem': 4,\n",
    " 'subjects': {'DSA': 90, 'STAT': 90, 'IOT': 90}}\n",
    "\n",
    "d['subjects']['SE']=90\n",
    "d"
   ]
  },
  {
   "cell_type": "markdown",
   "id": "99d41810",
   "metadata": {},
   "source": [
    "### 4.Remove key-value pair"
   ]
  },
  {
   "cell_type": "code",
   "execution_count": 106,
   "id": "648eabb5",
   "metadata": {},
   "outputs": [
    {
     "data": {
      "text/plain": [
       "{'name': 'bhushan', 'age': 20, 'clg': 'MET'}"
      ]
     },
     "execution_count": 106,
     "metadata": {},
     "output_type": "execute_result"
    }
   ],
   "source": [
    "d={'name': 'bhushan', 'age': 20, 'gender': 'male', 'clg': 'MET'}\n",
    "\n",
    "# pop\n",
    "d.pop('gender')\n",
    "d"
   ]
  },
  {
   "cell_type": "code",
   "execution_count": 109,
   "id": "7a6aa719",
   "metadata": {},
   "outputs": [
    {
     "name": "stdout",
     "output_type": "stream",
     "text": [
      "{'name': 'bhushan', 'age': 20, 'gender': 'male'}\n"
     ]
    }
   ],
   "source": [
    "d={'name': 'bhushan', 'age': 20, 'gender': 'male', 'clg': 'MET'}\n",
    "\n",
    "# popitem (last item remove)\n",
    "d.popitem()\n",
    "print(d)"
   ]
  },
  {
   "cell_type": "code",
   "execution_count": 111,
   "id": "11004875",
   "metadata": {},
   "outputs": [
    {
     "name": "stdout",
     "output_type": "stream",
     "text": [
      "{'age': 20, 'gender': 'male', 'clg': 'MET'}\n"
     ]
    }
   ],
   "source": [
    "d={'name': 'bhushan', 'age': 20, 'gender': 'male', 'clg': 'MET'}\n",
    "\n",
    "# del\n",
    "del d['name']\n",
    "print(d)"
   ]
  },
  {
   "cell_type": "code",
   "execution_count": 112,
   "id": "667ef749",
   "metadata": {},
   "outputs": [
    {
     "name": "stdout",
     "output_type": "stream",
     "text": [
      "{}\n"
     ]
    }
   ],
   "source": [
    "d={'name': 'bhushan', 'age': 20, 'gender': 'male', 'clg': 'MET'}\n",
    "\n",
    "# clear\n",
    "d.clear()\n",
    "print(d)"
   ]
  },
  {
   "cell_type": "code",
   "execution_count": 117,
   "id": "46dd480b",
   "metadata": {},
   "outputs": [
    {
     "data": {
      "text/plain": [
       "{'name': 'bhushan',\n",
       " 'college': 'MET',\n",
       " 'sem': 4,\n",
       " 'subjects': {'DSA': 90, 'IOT': 90, 'SE': 90}}"
      ]
     },
     "execution_count": 117,
     "metadata": {},
     "output_type": "execute_result"
    }
   ],
   "source": [
    "d={'name': 'bhushan',\n",
    " 'college': 'MET',\n",
    " 'sem': 4,\n",
    " 'subjects': {'DSA': 90, 'STAT': 90, 'IOT': 90, 'SE': 90}}\n",
    "\n",
    "del d['subjects']['STAT']\n",
    "d"
   ]
  },
  {
   "cell_type": "markdown",
   "id": "f55b6475",
   "metadata": {},
   "source": [
    "### 5.Editing key-value pair"
   ]
  },
  {
   "cell_type": "code",
   "execution_count": 119,
   "id": "51f49738",
   "metadata": {},
   "outputs": [
    {
     "data": {
      "text/plain": [
       "{'name': 'bhushan',\n",
       " 'college': 'MET',\n",
       " 'sem': 5,\n",
       " 'subjects': {'DSA': 90, 'STAT': 99, 'IOT': 90, 'SE': 90}}"
      ]
     },
     "execution_count": 119,
     "metadata": {},
     "output_type": "execute_result"
    }
   ],
   "source": [
    "d={'name': 'bhushan',\n",
    " 'college': 'MET',\n",
    " 'sem': 4,\n",
    " 'subjects': {'DSA': 90, 'STAT': 90, 'IOT': 90, 'SE': 90}}\n",
    "\n",
    "d['sem']=5\n",
    "d['subjects']['STAT']=99\n",
    "d"
   ]
  },
  {
   "cell_type": "markdown",
   "id": "327dba50",
   "metadata": {},
   "source": [
    "### 6.Dict operation"
   ]
  },
  {
   "cell_type": "code",
   "execution_count": 123,
   "id": "bbaec970",
   "metadata": {},
   "outputs": [
    {
     "name": "stdout",
     "output_type": "stream",
     "text": [
      "False\n",
      "True\n"
     ]
    }
   ],
   "source": [
    "# membership\n",
    "d={'name': 'bhushan',\n",
    " 'college': 'MET',\n",
    " 'sem': 4,\n",
    " 'subjects': {'DSA': 90, 'STAT': 90, 'IOT': 90, 'SE': 90}}\n",
    "\n",
    "print('bhushan'in d) # this give false because this operation check the key not value\n",
    "print('name' in d)"
   ]
  },
  {
   "cell_type": "code",
   "execution_count": 125,
   "id": "f721b1c2",
   "metadata": {},
   "outputs": [
    {
     "name": "stdout",
     "output_type": "stream",
     "text": [
      "name bhushan\n",
      "college MET\n",
      "sem 4\n",
      "DSA 90\n"
     ]
    }
   ],
   "source": [
    "# iteration\n",
    "d={'name': 'bhushan',\n",
    " 'college': 'MET',\n",
    " 'sem': 4,\n",
    " 'DSA': 90\n",
    "  }\n",
    "\n",
    "for i in d:\n",
    "    print(i,d[i])\n"
   ]
  },
  {
   "cell_type": "markdown",
   "id": "2cca9f71",
   "metadata": {},
   "source": [
    "### 7.Dict func"
   ]
  },
  {
   "cell_type": "code",
   "execution_count": 131,
   "id": "0a547d92",
   "metadata": {},
   "outputs": [
    {
     "name": "stdout",
     "output_type": "stream",
     "text": [
      "4\n",
      "['DSA', 'college', 'name', 'sem']\n",
      "['sem', 'name', 'college', 'DSA']\n",
      "sem\n",
      "DSA\n"
     ]
    }
   ],
   "source": [
    "# len/sorted\n",
    "d={'name': 'bhushan',\n",
    " 'college': 'MET',\n",
    " 'sem': 4,\n",
    " 'DSA': 90\n",
    "  }\n",
    "\n",
    "print(len(d))\n",
    "print(sorted(d))\n",
    "print(sorted(d,reverse=True))\n",
    "print(max(d))\n",
    "print(min(d))"
   ]
  },
  {
   "cell_type": "code",
   "execution_count": 133,
   "id": "9c2fcecc",
   "metadata": {},
   "outputs": [
    {
     "data": {
      "text/plain": [
       "dict_items([('name', 'bhushan'), ('college', 'MET'), ('sem', 4), ('DSA', 90)])"
      ]
     },
     "execution_count": 133,
     "metadata": {},
     "output_type": "execute_result"
    }
   ],
   "source": [
    "d={'name': 'bhushan',\n",
    " 'college': 'MET',\n",
    " 'sem': 4,\n",
    " 'DSA': 90\n",
    "  }\n",
    "\n",
    "# items  (create a list in the form of tuple of key-value pair)\n",
    "d.items()"
   ]
  },
  {
   "cell_type": "code",
   "execution_count": 134,
   "id": "2ab372cf",
   "metadata": {},
   "outputs": [
    {
     "data": {
      "text/plain": [
       "dict_keys(['name', 'college', 'sem', 'DSA'])"
      ]
     },
     "execution_count": 134,
     "metadata": {},
     "output_type": "execute_result"
    }
   ],
   "source": [
    "d={'name': 'bhushan',\n",
    " 'college': 'MET',\n",
    " 'sem': 4,\n",
    " 'DSA': 90\n",
    "  }\n",
    "\n",
    "# keys\n",
    "d.keys()"
   ]
  },
  {
   "cell_type": "code",
   "execution_count": 135,
   "id": "ca6b8e6a",
   "metadata": {},
   "outputs": [
    {
     "data": {
      "text/plain": [
       "dict_values(['bhushan', 'MET', 4, 90])"
      ]
     },
     "execution_count": 135,
     "metadata": {},
     "output_type": "execute_result"
    }
   ],
   "source": [
    "d={'name': 'bhushan',\n",
    " 'college': 'MET',\n",
    " 'sem': 4,\n",
    " 'DSA': 90\n",
    "  }\n",
    "\n",
    "# values\n",
    "d.values()"
   ]
  },
  {
   "cell_type": "code",
   "execution_count": 138,
   "id": "211d0e3a",
   "metadata": {},
   "outputs": [
    {
     "name": "stdout",
     "output_type": "stream",
     "text": [
      "{1: 2, 3: 4, 4: 5}\n",
      "{4: 7, 6: 8}\n",
      "{1: 2, 3: 4, 4: 7, 6: 8}\n"
     ]
    }
   ],
   "source": [
    "# update\n",
    "d1={1:2,3:4,4:5}\n",
    "d2={4:7,6:8}\n",
    "\n",
    "print(d1)\n",
    "print(d2)\n",
    "\n",
    "d1.update(d2)\n",
    "print(d1)"
   ]
  },
  {
   "cell_type": "markdown",
   "id": "ff11b1fc",
   "metadata": {},
   "source": [
    "## Dict comprehension"
   ]
  },
  {
   "cell_type": "markdown",
   "id": "aaf62d08",
   "metadata": {},
   "source": [
    "### { key : value for vars in iterable }"
   ]
  },
  {
   "cell_type": "code",
   "execution_count": 139,
   "id": "a4153b09",
   "metadata": {},
   "outputs": [
    {
     "data": {
      "text/plain": [
       "{1: 1, 2: 4, 3: 9, 4: 16, 5: 25, 6: 36, 7: 49, 8: 64, 9: 81, 10: 100}"
      ]
     },
     "execution_count": 139,
     "metadata": {},
     "output_type": "execute_result"
    }
   ],
   "source": [
    "{ i:i**2 for i in range(1,11)}"
   ]
  },
  {
   "cell_type": "code",
   "execution_count": 140,
   "id": "60e7c157",
   "metadata": {},
   "outputs": [
    {
     "data": {
      "text/plain": [
       "{'delhi': 620.0, 'mumbai': 1240.0, 'nashik': 1860.0}"
      ]
     },
     "execution_count": 140,
     "metadata": {},
     "output_type": "execute_result"
    }
   ],
   "source": [
    "d={'delhi':1000,'mumbai':2000,'nashik':3000}\n",
    "{key:value*0.62 for (key,value) in d.items()}"
   ]
  },
  {
   "cell_type": "markdown",
   "id": "57d88d2f",
   "metadata": {},
   "source": [
    "### Zip"
   ]
  },
  {
   "cell_type": "code",
   "execution_count": 141,
   "id": "e7df4f53",
   "metadata": {},
   "outputs": [
    {
     "data": {
      "text/plain": [
       "{'sun': 32, 'wed': 33, 'thur': 34, 'mon': 35, 'sat': 36, 'tues': 30, 'fri': 31}"
      ]
     },
     "execution_count": 141,
     "metadata": {},
     "output_type": "execute_result"
    }
   ],
   "source": [
    "d={'sun','mon','tues','wed','thur','fri','sat'}\n",
    "t={30,31,32,33,34,35,36}\n",
    "\n",
    "{i:j for (i,j) in zip(d,t)}"
   ]
  },
  {
   "cell_type": "code",
   "execution_count": 142,
   "id": "72499d29",
   "metadata": {},
   "outputs": [
    {
     "data": {
      "text/plain": [
       "{'phone': 10, 'charger': 31}"
      ]
     },
     "execution_count": 142,
     "metadata": {},
     "output_type": "execute_result"
    }
   ],
   "source": [
    "prod={'phone':10,'laptop':0,'charger':31,'tablet':0}\n",
    "{key:value for (key,value) in prod.items() if value>0}"
   ]
  },
  {
   "cell_type": "code",
   "execution_count": 143,
   "id": "a2962d6d",
   "metadata": {},
   "outputs": [
    {
     "data": {
      "text/plain": [
       "{2: {1: 2, 2: 4, 3: 6, 4: 8, 5: 10, 6: 12, 7: 14, 8: 16, 9: 18, 10: 20},\n",
       " 3: {1: 3, 2: 6, 3: 9, 4: 12, 5: 15, 6: 18, 7: 21, 8: 24, 9: 27, 10: 30},\n",
       " 4: {1: 4, 2: 8, 3: 12, 4: 16, 5: 20, 6: 24, 7: 28, 8: 32, 9: 36, 10: 40}}"
      ]
     },
     "execution_count": 143,
     "metadata": {},
     "output_type": "execute_result"
    }
   ],
   "source": [
    "{i:{j:i*j for j in range(1,11)} for i in range(2,5)}"
   ]
  },
  {
   "cell_type": "markdown",
   "id": "024cb993",
   "metadata": {},
   "source": [
    "# 20.Function in python"
   ]
  },
  {
   "cell_type": "markdown",
   "id": "c8627c20",
   "metadata": {},
   "source": [
    "- Abstraction"
   ]
  },
  {
   "cell_type": "markdown",
   "id": "7511456f",
   "metadata": {},
   "source": [
    "- decomposition"
   ]
  },
  {
   "cell_type": "markdown",
   "id": "ffb72211",
   "metadata": {},
   "source": [
    "### 1.create func "
   ]
  },
  {
   "cell_type": "code",
   "execution_count": 149,
   "id": "13f61145",
   "metadata": {},
   "outputs": [],
   "source": [
    "def is_even(num):\n",
    "    \"\"\"\n",
    "    This function return if a given number is odd or even\n",
    "    input-any valid integer\n",
    "    output-odd/even\n",
    "    created on-30th july 2023\n",
    "    created by-Bhushan VR Chitte\n",
    "    \"\"\"\n",
    "    if type(num)==int:\n",
    "        if num%2==0:\n",
    "            return 'Even'\n",
    "        else:\n",
    "            return 'Odd'\n",
    "    else:\n",
    "        return 'pagal hai kya ? !!!'"
   ]
  },
  {
   "cell_type": "code",
   "execution_count": 177,
   "id": "a613f720",
   "metadata": {},
   "outputs": [
    {
     "name": "stdout",
     "output_type": "stream",
     "text": [
      "\n",
      "    This function return if a given number is odd or even\n",
      "    input-any valid integer\n",
      "    output-odd/even\n",
      "    created on-30th july 2023\n",
      "    created by-Bhushan VR Chitte\n",
      "    \n"
     ]
    }
   ],
   "source": [
    "print(is_even.__doc__)"
   ]
  },
  {
   "cell_type": "code",
   "execution_count": 178,
   "id": "16a129e4",
   "metadata": {},
   "outputs": [
    {
     "name": "stdout",
     "output_type": "stream",
     "text": [
      "print(value, ..., sep=' ', end='\\n', file=sys.stdout, flush=False)\n",
      "\n",
      "Prints the values to a stream, or to sys.stdout by default.\n",
      "Optional keyword arguments:\n",
      "file:  a file-like object (stream); defaults to the current sys.stdout.\n",
      "sep:   string inserted between values, default a space.\n",
      "end:   string appended after the last value, default a newline.\n",
      "flush: whether to forcibly flush the stream.\n"
     ]
    }
   ],
   "source": [
    "print(print.__doc__)"
   ]
  },
  {
   "cell_type": "code",
   "execution_count": 150,
   "id": "dfd0b0f9",
   "metadata": {},
   "outputs": [
    {
     "name": "stdout",
     "output_type": "stream",
     "text": [
      "Odd\n",
      "Even\n",
      "Odd\n",
      "Even\n",
      "Odd\n",
      "Even\n",
      "Odd\n",
      "Even\n",
      "Odd\n",
      "Even\n"
     ]
    }
   ],
   "source": [
    "# func_name(input)\n",
    "for i in range(1,11):\n",
    "    x=is_even(i)\n",
    "    print(x)"
   ]
  },
  {
   "cell_type": "code",
   "execution_count": 151,
   "id": "5aff6200",
   "metadata": {},
   "outputs": [
    {
     "data": {
      "text/plain": [
       "'pagal hai kya ? !!!'"
      ]
     },
     "execution_count": 151,
     "metadata": {},
     "output_type": "execute_result"
    }
   ],
   "source": [
    "is_even('hello')"
   ]
  },
  {
   "cell_type": "markdown",
   "id": "7a73a0a4",
   "metadata": {},
   "source": [
    "### 2.Parameter vs Argument"
   ]
  },
  {
   "cell_type": "markdown",
   "id": "0b568294",
   "metadata": {},
   "source": [
    "- func created time it called parameter"
   ]
  },
  {
   "cell_type": "markdown",
   "id": "4bb1a43f",
   "metadata": {},
   "source": [
    "- func called time it called argument"
   ]
  },
  {
   "cell_type": "markdown",
   "id": "8b21b7bd",
   "metadata": {},
   "source": [
    "### 3.Types of Arguments"
   ]
  },
  {
   "cell_type": "markdown",
   "id": "5de2edda",
   "metadata": {},
   "source": [
    "- Default"
   ]
  },
  {
   "cell_type": "code",
   "execution_count": 159,
   "id": "41c21fa6",
   "metadata": {},
   "outputs": [],
   "source": [
    "def power(a=1,b=1):\n",
    "    return a**b"
   ]
  },
  {
   "cell_type": "code",
   "execution_count": 160,
   "id": "07f3b633",
   "metadata": {},
   "outputs": [
    {
     "data": {
      "text/plain": [
       "4"
      ]
     },
     "execution_count": 160,
     "metadata": {},
     "output_type": "execute_result"
    }
   ],
   "source": [
    "power(2,2)"
   ]
  },
  {
   "cell_type": "code",
   "execution_count": 162,
   "id": "a09081b6",
   "metadata": {},
   "outputs": [
    {
     "data": {
      "text/plain": [
       "2"
      ]
     },
     "execution_count": 162,
     "metadata": {},
     "output_type": "execute_result"
    }
   ],
   "source": [
    "power(2)"
   ]
  },
  {
   "cell_type": "code",
   "execution_count": 164,
   "id": "e0a9dc60",
   "metadata": {},
   "outputs": [
    {
     "data": {
      "text/plain": [
       "1"
      ]
     },
     "execution_count": 164,
     "metadata": {},
     "output_type": "execute_result"
    }
   ],
   "source": [
    "power()"
   ]
  },
  {
   "cell_type": "markdown",
   "id": "d84e9c41",
   "metadata": {},
   "source": [
    "- Positional"
   ]
  },
  {
   "cell_type": "code",
   "execution_count": 166,
   "id": "feeea247",
   "metadata": {},
   "outputs": [
    {
     "data": {
      "text/plain": [
       "8"
      ]
     },
     "execution_count": 166,
     "metadata": {},
     "output_type": "execute_result"
    }
   ],
   "source": [
    "power(2,3)  # a=2,b=3 this because form a seq of argument"
   ]
  },
  {
   "cell_type": "markdown",
   "id": "46ca3c8a",
   "metadata": {},
   "source": [
    "- Keyword"
   ]
  },
  {
   "cell_type": "code",
   "execution_count": 167,
   "id": "08b041b3",
   "metadata": {},
   "outputs": [
    {
     "data": {
      "text/plain": [
       "9"
      ]
     },
     "execution_count": 167,
     "metadata": {},
     "output_type": "execute_result"
    }
   ],
   "source": [
    "power(b=2,a=3)"
   ]
  },
  {
   "cell_type": "markdown",
   "id": "1c8d82a6",
   "metadata": {},
   "source": [
    "### 4.*args and **kwargs"
   ]
  },
  {
   "cell_type": "markdown",
   "id": "dbf74768",
   "metadata": {},
   "source": [
    "- This are special python keywords that are used to pass the variable length of arguments to a function"
   ]
  },
  {
   "cell_type": "code",
   "execution_count": 179,
   "id": "a7bcb37a",
   "metadata": {},
   "outputs": [],
   "source": [
    "# *args (we can also write it as a *bhushan,*clg,*shubham)\n",
    "# Allow us to pass a number of variable (non-keyword) to a function.\n",
    "# This stores the item in the (tuple)\n",
    "\n",
    "def multiply(*bhushan):\n",
    "    prod=1\n",
    "    \n",
    "    for i in bhushan:\n",
    "        prod=prod*i\n",
    "    \n",
    "    \n",
    "    print(bhushan)\n",
    "    print(type(bhushan))\n",
    "    return prod"
   ]
  },
  {
   "cell_type": "code",
   "execution_count": 180,
   "id": "ab1421a6",
   "metadata": {},
   "outputs": [
    {
     "name": "stdout",
     "output_type": "stream",
     "text": [
      "(1, 2, 3, 4, 5)\n",
      "<class 'tuple'>\n"
     ]
    },
    {
     "data": {
      "text/plain": [
       "120"
      ]
     },
     "execution_count": 180,
     "metadata": {},
     "output_type": "execute_result"
    }
   ],
   "source": [
    "multiply(1,2,3,4,5)"
   ]
  },
  {
   "cell_type": "code",
   "execution_count": 3,
   "id": "a08dbd5f",
   "metadata": {},
   "outputs": [],
   "source": [
    "# **kwargs\n",
    "# **kwargs allow us to pass any number of (keyword) arguments.\n",
    "# keyword arguments mean that they contain a key-value pair,like a python dict\n",
    "\n",
    "def display(**kwargs):\n",
    "    for (key,value) in kwargs.items():\n",
    "        print(key,'->',value)"
   ]
  },
  {
   "cell_type": "code",
   "execution_count": 4,
   "id": "c63c1e79",
   "metadata": {},
   "outputs": [
    {
     "name": "stdout",
     "output_type": "stream",
     "text": [
      "india -> delhi\n",
      "srilanka -> colombo\n",
      "nepal -> kathmandu\n"
     ]
    }
   ],
   "source": [
    "display(india='delhi',srilanka='colombo',nepal='kathmandu')"
   ]
  },
  {
   "cell_type": "markdown",
   "id": "771eb770",
   "metadata": {},
   "source": [
    "### Key Points:"
   ]
  },
  {
   "cell_type": "markdown",
   "id": "6a455d44",
   "metadata": {},
   "source": [
    "- order of the arguments matter( normal -> *args -> **kwargs )\n",
    "- The words 'args' and 'kwargs' are only a convention you can use any name of your choice"
   ]
  },
  {
   "cell_type": "markdown",
   "id": "410e251a",
   "metadata": {},
   "source": [
    "### 5.How func are executed in memory"
   ]
  },
  {
   "cell_type": "code",
   "execution_count": 189,
   "id": "6b4707a3",
   "metadata": {},
   "outputs": [
    {
     "name": "stdout",
     "output_type": "stream",
     "text": [
      "Odd\n"
     ]
    }
   ],
   "source": [
    "# Run this code on python tutor\n",
    "def is_even(num):\n",
    "    if num%2==0:\n",
    "        return 'Even'\n",
    "    else:\n",
    "        return 'Odd'\n",
    "\n",
    "\n",
    "print(is_even(7))"
   ]
  },
  {
   "cell_type": "markdown",
   "id": "beeea2f1",
   "metadata": {},
   "source": [
    "### 6.Without return function"
   ]
  },
  {
   "cell_type": "code",
   "execution_count": 194,
   "id": "293627e6",
   "metadata": {},
   "outputs": [
    {
     "name": "stdout",
     "output_type": "stream",
     "text": [
      "Odd\n",
      "None\n"
     ]
    }
   ],
   "source": [
    "# Run this code on python tutor\n",
    "def is_even(num):\n",
    "    if num%2==0:\n",
    "        print('Even')\n",
    "    else:\n",
    "        print('Odd')\n",
    "\n",
    "# if we not write return in the func then python send default value None at the function calling position that print the None as a output\n",
    "print(is_even(7))\n",
    "# is_even(7)"
   ]
  },
  {
   "cell_type": "code",
   "execution_count": 195,
   "id": "f7bff642",
   "metadata": {},
   "outputs": [
    {
     "name": "stdout",
     "output_type": "stream",
     "text": [
      "None\n"
     ]
    }
   ],
   "source": [
    "l=[1,2,3]\n",
    "print(l.append(4))"
   ]
  },
  {
   "cell_type": "markdown",
   "id": "cd5b46b7",
   "metadata": {},
   "source": [
    "### 7.variable scope"
   ]
  },
  {
   "cell_type": "code",
   "execution_count": 197,
   "id": "b404fc1e",
   "metadata": {},
   "outputs": [
    {
     "name": "stdout",
     "output_type": "stream",
     "text": [
      "5\n",
      "6\n",
      "5\n"
     ]
    }
   ],
   "source": [
    "def g(y):\n",
    "    # local var\n",
    "    print(x)\n",
    "    print(x+1)\n",
    "\n",
    "# global var\n",
    "x=5\n",
    "g(x)\n",
    "print(x)"
   ]
  },
  {
   "cell_type": "code",
   "execution_count": 3,
   "id": "6f04b2dd",
   "metadata": {},
   "outputs": [
    {
     "name": "stdout",
     "output_type": "stream",
     "text": [
      "x=5 2278426083696\n",
      "x=1 2278426083568\n",
      "x=2 2278426083600\n",
      "2\n",
      "5\n",
      "x=5 2278426083696\n"
     ]
    }
   ],
   "source": [
    "# local and global are independent they can use same var name\n",
    "def f(y):\n",
    "    x=1\n",
    "    print('x=1',id(x))\n",
    "    x+=1\n",
    "    print('x=2',id(x))\n",
    "    print(x)\n",
    "\n",
    "x=5\n",
    "print('x=5',id(x))\n",
    "f(x)\n",
    "print(x)\n",
    "print('x=5',id(x))"
   ]
  },
  {
   "cell_type": "code",
   "execution_count": 202,
   "id": "3d4f6486",
   "metadata": {
    "scrolled": true
   },
   "outputs": [
    {
     "ename": "UnboundLocalError",
     "evalue": "local variable 'x' referenced before assignment",
     "output_type": "error",
     "traceback": [
      "\u001b[1;31m---------------------------------------------------------------------------\u001b[0m",
      "\u001b[1;31mUnboundLocalError\u001b[0m                         Traceback (most recent call last)",
      "Cell \u001b[1;32mIn[202], line 5\u001b[0m\n\u001b[0;32m      2\u001b[0m     x\u001b[38;5;241m+\u001b[39m\u001b[38;5;241m=\u001b[39m\u001b[38;5;241m1\u001b[39m  \u001b[38;5;66;03m# if var is not present in function then function use global var but function can not change it original value\u001b[39;00m\n\u001b[0;32m      4\u001b[0m x\u001b[38;5;241m=\u001b[39m\u001b[38;5;241m5\u001b[39m\n\u001b[1;32m----> 5\u001b[0m \u001b[43mh\u001b[49m\u001b[43m(\u001b[49m\u001b[43mx\u001b[49m\u001b[43m)\u001b[49m\n\u001b[0;32m      6\u001b[0m \u001b[38;5;28mprint\u001b[39m(x)\n",
      "Cell \u001b[1;32mIn[202], line 2\u001b[0m, in \u001b[0;36mh\u001b[1;34m(y)\u001b[0m\n\u001b[0;32m      1\u001b[0m \u001b[38;5;28;01mdef\u001b[39;00m \u001b[38;5;21mh\u001b[39m(y):\n\u001b[1;32m----> 2\u001b[0m     x\u001b[38;5;241m+\u001b[39m\u001b[38;5;241m=\u001b[39m\u001b[38;5;241m1\u001b[39m\n",
      "\u001b[1;31mUnboundLocalError\u001b[0m: local variable 'x' referenced before assignment"
     ]
    }
   ],
   "source": [
    "def h(y):\n",
    "    x+=1  # if var is not present in function then function use global var but function can not change it original value\n",
    "\n",
    "x=5\n",
    "h(x)\n",
    "print(x)"
   ]
  },
  {
   "cell_type": "code",
   "execution_count": 205,
   "id": "207cd39e",
   "metadata": {},
   "outputs": [
    {
     "name": "stdout",
     "output_type": "stream",
     "text": [
      "6\n"
     ]
    }
   ],
   "source": [
    "def h(y):\n",
    "    global x  # we change the value of global var by using global keyword\n",
    "    x+=1  \n",
    "\n",
    "x=5\n",
    "h(x)\n",
    "print(x)"
   ]
  },
  {
   "cell_type": "code",
   "execution_count": 206,
   "id": "99534f42",
   "metadata": {},
   "outputs": [
    {
     "name": "stdout",
     "output_type": "stream",
     "text": [
      "in func:  4\n",
      "main program scope:  4\n",
      "main program scope:  3\n"
     ]
    }
   ],
   "source": [
    "def f(x):\n",
    "    x=x+1\n",
    "    print('in func: ',x)\n",
    "    return x\n",
    "\n",
    "x=3\n",
    "z=f(x)\n",
    "print('main program scope: ',z)\n",
    "print('main program scope: ',x)"
   ]
  },
  {
   "cell_type": "markdown",
   "id": "8642e8f9",
   "metadata": {},
   "source": [
    "### 8.nested func"
   ]
  },
  {
   "cell_type": "code",
   "execution_count": 4,
   "id": "ced43812",
   "metadata": {},
   "outputs": [
    {
     "name": "stdout",
     "output_type": "stream",
     "text": [
      "inside g\n",
      "inside f\n"
     ]
    }
   ],
   "source": [
    "def f():\n",
    "    def g():\n",
    "        print('inside g')\n",
    "    g()\n",
    "    print('inside f')\n",
    "    \n",
    "f()"
   ]
  },
  {
   "cell_type": "code",
   "execution_count": 1,
   "id": "6c8b9f21",
   "metadata": {},
   "outputs": [
    {
     "data": {
      "text/plain": [
       "\"\\ndef f():\\n    def g():\\n        print('inside g')\\n        f()\\n    g()\\n    print('inside f')\\n    \\nf()\\n\""
      ]
     },
     "execution_count": 1,
     "metadata": {},
     "output_type": "execute_result"
    }
   ],
   "source": [
    "# infinite\n",
    "'''\n",
    "def f():\n",
    "    def g():\n",
    "        print('inside g')\n",
    "        f()\n",
    "    g()\n",
    "    print('inside f')\n",
    "    \n",
    "f()\n",
    "'''\n"
   ]
  },
  {
   "cell_type": "code",
   "execution_count": 7,
   "id": "70f68224",
   "metadata": {},
   "outputs": [
    {
     "name": "stdout",
     "output_type": "stream",
     "text": [
      "in g(x): x= 4\n",
      "4\n",
      "3\n"
     ]
    }
   ],
   "source": [
    "def g(x):\n",
    "    def h():\n",
    "        x='abc'\n",
    "    x=x+1\n",
    "    print('in g(x): x=',x)\n",
    "    h()\n",
    "    return x\n",
    "\n",
    "x=3\n",
    "print(g(x))\n",
    "print(x)"
   ]
  },
  {
   "cell_type": "markdown",
   "id": "a504b558",
   "metadata": {},
   "source": [
    "### 9.Functions are 1st class citizens"
   ]
  },
  {
   "cell_type": "code",
   "execution_count": 10,
   "id": "db1c6cd3",
   "metadata": {},
   "outputs": [
    {
     "name": "stdout",
     "output_type": "stream",
     "text": [
      "<class 'function'>\n",
      "2098554664080\n"
     ]
    }
   ],
   "source": [
    "# type and id\n",
    "def sq(num):\n",
    "    return num**2\n",
    "\n",
    "print(type(sq))\n",
    "print(id(sq))\n",
    "# python treat function like a data type"
   ]
  },
  {
   "cell_type": "code",
   "execution_count": 11,
   "id": "7f3541cd",
   "metadata": {},
   "outputs": [
    {
     "data": {
      "text/plain": [
       "9"
      ]
     },
     "execution_count": 11,
     "metadata": {},
     "output_type": "execute_result"
    }
   ],
   "source": [
    "# reassign\n",
    "x=sq(3)\n",
    "x"
   ]
  },
  {
   "cell_type": "code",
   "execution_count": 12,
   "id": "f4daf501",
   "metadata": {},
   "outputs": [
    {
     "data": {
      "text/plain": [
       "9"
      ]
     },
     "execution_count": 12,
     "metadata": {},
     "output_type": "execute_result"
    }
   ],
   "source": [
    "# reassign\n",
    "x=sq\n",
    "x(3)"
   ]
  },
  {
   "cell_type": "code",
   "execution_count": 13,
   "id": "aad41032",
   "metadata": {},
   "outputs": [],
   "source": [
    "# del func\n",
    "del sq"
   ]
  },
  {
   "cell_type": "code",
   "execution_count": 15,
   "id": "db255178",
   "metadata": {},
   "outputs": [
    {
     "ename": "NameError",
     "evalue": "name 'sq' is not defined",
     "output_type": "error",
     "traceback": [
      "\u001b[1;31m---------------------------------------------------------------------------\u001b[0m",
      "\u001b[1;31mNameError\u001b[0m                                 Traceback (most recent call last)",
      "Cell \u001b[1;32mIn[15], line 1\u001b[0m\n\u001b[1;32m----> 1\u001b[0m \u001b[43msq\u001b[49m()\n",
      "\u001b[1;31mNameError\u001b[0m: name 'sq' is not defined"
     ]
    }
   ],
   "source": [
    "sq()"
   ]
  },
  {
   "cell_type": "code",
   "execution_count": 16,
   "id": "c93cceea",
   "metadata": {},
   "outputs": [],
   "source": [
    "def sq(num):\n",
    "    return num**2"
   ]
  },
  {
   "cell_type": "code",
   "execution_count": 21,
   "id": "510ecc94",
   "metadata": {},
   "outputs": [
    {
     "name": "stdout",
     "output_type": "stream",
     "text": [
      "[1, 2, 3, <function sq at 0x000001E89B9AF520>]\n",
      "9\n"
     ]
    }
   ],
   "source": [
    "# storing\n",
    "l=[1,2,3,sq]\n",
    "print(l)\n",
    "print(l[-1](3))"
   ]
  },
  {
   "cell_type": "code",
   "execution_count": 23,
   "id": "bc838d27",
   "metadata": {},
   "outputs": [
    {
     "data": {
      "text/plain": [
       "{<function __main__.sq(num)>}"
      ]
     },
     "execution_count": 23,
     "metadata": {},
     "output_type": "execute_result"
    }
   ],
   "source": [
    "s={sq}\n",
    "s\n",
    "# set does not allow mutable data types but set allow immutable data types\n",
    "# function is immutable "
   ]
  },
  {
   "cell_type": "code",
   "execution_count": 25,
   "id": "308edcbb",
   "metadata": {},
   "outputs": [
    {
     "name": "stdout",
     "output_type": "stream",
     "text": [
      "7\n"
     ]
    }
   ],
   "source": [
    "# returning a func\n",
    "def f():\n",
    "    def x(a,b):\n",
    "        return a+b\n",
    "    return x\n",
    "\n",
    "val=f()(3,4)   # f()=x -->x(3,4)\n",
    "print(val)"
   ]
  },
  {
   "cell_type": "code",
   "execution_count": 27,
   "id": "0742c8e8",
   "metadata": {},
   "outputs": [
    {
     "name": "stdout",
     "output_type": "stream",
     "text": [
      "inside b\n",
      "inside a\n",
      "None\n"
     ]
    }
   ],
   "source": [
    "# func as a argument\n",
    "def func_a():\n",
    "    print('inside a')\n",
    "    \n",
    "def func_b(z):\n",
    "    print('inside b')\n",
    "    return z()\n",
    "\n",
    "print(func_b(func_a))"
   ]
  },
  {
   "cell_type": "markdown",
   "id": "f210a8b4",
   "metadata": {},
   "source": [
    "## Benefits of Function:"
   ]
  },
  {
   "cell_type": "markdown",
   "id": "d32b5326",
   "metadata": {},
   "source": [
    "- code modularity\n",
    "- code readibility\n",
    "- code reusability"
   ]
  },
  {
   "cell_type": "markdown",
   "id": "2ff24b3e",
   "metadata": {},
   "source": [
    "# Lambda Function"
   ]
  },
  {
   "cell_type": "markdown",
   "id": "b6aa0779",
   "metadata": {},
   "source": [
    "- A lambda function is a small anonymous function.\n",
    "- A lambda function can take any number of arguments but can only have one expression"
   ]
  },
  {
   "cell_type": "markdown",
   "id": "6b616702",
   "metadata": {},
   "source": [
    "### lambda a,b : a+b"
   ]
  },
  {
   "cell_type": "code",
   "execution_count": 29,
   "id": "3e93f0f2",
   "metadata": {},
   "outputs": [
    {
     "data": {
      "text/plain": [
       "4"
      ]
     },
     "execution_count": 29,
     "metadata": {},
     "output_type": "execute_result"
    }
   ],
   "source": [
    "a=lambda x:x**2\n",
    "a(2)"
   ]
  },
  {
   "cell_type": "code",
   "execution_count": 30,
   "id": "35e49458",
   "metadata": {},
   "outputs": [
    {
     "data": {
      "text/plain": [
       "11"
      ]
     },
     "execution_count": 30,
     "metadata": {},
     "output_type": "execute_result"
    }
   ],
   "source": [
    "a=lambda x,y:x+y\n",
    "a(5,6)"
   ]
  },
  {
   "cell_type": "markdown",
   "id": "b2a3df7e",
   "metadata": {},
   "source": [
    "### Difference bet lambda vs normal function"
   ]
  },
  {
   "cell_type": "markdown",
   "id": "df4569b1",
   "metadata": {},
   "source": [
    "- no name\n",
    "- lambda has no return value\n",
    "- lambda is written in single line\n",
    "- not reusable\n",
    "- lambda function used with higher order function(HOF)"
   ]
  },
  {
   "cell_type": "code",
   "execution_count": 31,
   "id": "f0115ded",
   "metadata": {},
   "outputs": [
    {
     "data": {
      "text/plain": [
       "True"
      ]
     },
     "execution_count": 31,
     "metadata": {},
     "output_type": "execute_result"
    }
   ],
   "source": [
    "a=lambda s:'a' in s\n",
    "a('bhushan')"
   ]
  },
  {
   "cell_type": "code",
   "execution_count": 33,
   "id": "a801fe14",
   "metadata": {},
   "outputs": [
    {
     "data": {
      "text/plain": [
       "'even'"
      ]
     },
     "execution_count": 33,
     "metadata": {},
     "output_type": "execute_result"
    }
   ],
   "source": [
    "a=lambda x:'even' if x%2==0 else 'odd'\n",
    "a(2)"
   ]
  },
  {
   "cell_type": "markdown",
   "id": "d5a0b971",
   "metadata": {},
   "source": [
    "## HOF"
   ]
  },
  {
   "cell_type": "markdown",
   "id": "dcc9be8e",
   "metadata": {},
   "source": [
    "- function which return other function or function get input as function"
   ]
  },
  {
   "cell_type": "code",
   "execution_count": 3,
   "id": "f87fcdd9",
   "metadata": {},
   "outputs": [
    {
     "name": "stdout",
     "output_type": "stream",
     "text": [
      "[1, 4, 9, 16, 25]\n"
     ]
    }
   ],
   "source": [
    "def sq(x):\n",
    "    return x**2\n",
    "\n",
    "# HOF\n",
    "def transform(f,l):\n",
    "    output=[]\n",
    "    for i in l:\n",
    "        output.append(f(i))\n",
    "    \n",
    "    print(output)\n",
    "\n",
    "\n",
    "l=[1,2,3,4,5]\n",
    "transform(sq,l)"
   ]
  },
  {
   "cell_type": "code",
   "execution_count": 6,
   "id": "8c3022f3",
   "metadata": {},
   "outputs": [
    {
     "name": "stdout",
     "output_type": "stream",
     "text": [
      "[1, 4, 9, 16, 25]\n",
      "[1, 8, 27, 64, 125]\n"
     ]
    }
   ],
   "source": [
    "# HOF\n",
    "def transform(f,l):\n",
    "    output=[]\n",
    "    for i in l:\n",
    "        output.append(f(i))\n",
    "    \n",
    "    print(output)\n",
    "\n",
    "\n",
    "l=[1,2,3,4,5]\n",
    "transform(lambda x:x**2,l)\n",
    "transform(lambda x:x**3,l)"
   ]
  },
  {
   "cell_type": "markdown",
   "id": "07235577",
   "metadata": {},
   "source": [
    "## Map"
   ]
  },
  {
   "cell_type": "code",
   "execution_count": 9,
   "id": "6cdd3fc6",
   "metadata": {
    "scrolled": true
   },
   "outputs": [
    {
     "data": {
      "text/plain": [
       "<map at 0x243844a3340>"
      ]
     },
     "execution_count": 9,
     "metadata": {},
     "output_type": "execute_result"
    }
   ],
   "source": [
    "map(lambda x:x**2,[1,2,3,4,5])"
   ]
  },
  {
   "cell_type": "code",
   "execution_count": 10,
   "id": "2ad5c2b5",
   "metadata": {},
   "outputs": [
    {
     "data": {
      "text/plain": [
       "[1, 4, 9, 16, 25]"
      ]
     },
     "execution_count": 10,
     "metadata": {},
     "output_type": "execute_result"
    }
   ],
   "source": [
    "list(map(lambda x:x**2,[1,2,3,4,5]))"
   ]
  },
  {
   "cell_type": "code",
   "execution_count": 1,
   "id": "64fb5700",
   "metadata": {},
   "outputs": [
    {
     "data": {
      "text/plain": [
       "['odd', 'even', 'odd', 'even', 'odd']"
      ]
     },
     "execution_count": 1,
     "metadata": {},
     "output_type": "execute_result"
    }
   ],
   "source": [
    "lst=[1,2,3,4,5]\n",
    "list(map(lambda x:'even' if x%2==0 else 'odd',lst))"
   ]
  },
  {
   "cell_type": "code",
   "execution_count": 7,
   "id": "24781e55",
   "metadata": {},
   "outputs": [
    {
     "data": {
      "text/plain": [
       "['male', 'male', 'male']"
      ]
     },
     "execution_count": 7,
     "metadata": {},
     "output_type": "execute_result"
    }
   ],
   "source": [
    "users=[\n",
    "    {\n",
    "        'name':'bhushan',\n",
    "        'age':20,\n",
    "        'gender':'male'\n",
    "    },\n",
    "    {\n",
    "        'name':'shubham',\n",
    "        'age':18,\n",
    "        'gender':'male'    \n",
    "    },\n",
    "    {\n",
    "        'name':'yc',\n",
    "        'age':21,\n",
    "        'gender':'male'    \n",
    "    }\n",
    "]\n",
    "\n",
    "list(map(lambda users:users['gender'],users))"
   ]
  },
  {
   "cell_type": "code",
   "execution_count": 8,
   "id": "5dbfad27",
   "metadata": {},
   "outputs": [
    {
     "data": {
      "text/plain": [
       "['bhushan', 'shubham', 'yc']"
      ]
     },
     "execution_count": 8,
     "metadata": {},
     "output_type": "execute_result"
    }
   ],
   "source": [
    "list(map(lambda users:users['name'],users))"
   ]
  },
  {
   "cell_type": "code",
   "execution_count": 9,
   "id": "7a53823d",
   "metadata": {},
   "outputs": [
    {
     "data": {
      "text/plain": [
       "[20, 18, 21]"
      ]
     },
     "execution_count": 9,
     "metadata": {},
     "output_type": "execute_result"
    }
   ],
   "source": [
    "list(map(lambda users:users['age'],users))"
   ]
  },
  {
   "cell_type": "markdown",
   "id": "3b4c49e1",
   "metadata": {},
   "source": [
    "## Filter"
   ]
  },
  {
   "cell_type": "code",
   "execution_count": 11,
   "id": "491f29b9",
   "metadata": {},
   "outputs": [
    {
     "data": {
      "text/plain": [
       "<filter at 0x1695a195810>"
      ]
     },
     "execution_count": 11,
     "metadata": {},
     "output_type": "execute_result"
    }
   ],
   "source": [
    "l=[1,2,3,4,5,6,7,8,9,10]\n",
    "filter(lambda x:x>5,l)"
   ]
  },
  {
   "cell_type": "code",
   "execution_count": 12,
   "id": "49f932a6",
   "metadata": {},
   "outputs": [
    {
     "data": {
      "text/plain": [
       "[6, 7, 8, 9, 10]"
      ]
     },
     "execution_count": 12,
     "metadata": {},
     "output_type": "execute_result"
    }
   ],
   "source": [
    "list(filter(lambda x:x>5,l))"
   ]
  },
  {
   "cell_type": "code",
   "execution_count": 13,
   "id": "2b290a31",
   "metadata": {},
   "outputs": [
    {
     "data": {
      "text/plain": [
       "['apple']"
      ]
     },
     "execution_count": 13,
     "metadata": {},
     "output_type": "execute_result"
    }
   ],
   "source": [
    "fruits=['apple','guava','banana']\n",
    "list(filter(lambda x:x.startswith('a'),fruits))"
   ]
  },
  {
   "cell_type": "markdown",
   "id": "be603cdb",
   "metadata": {},
   "source": [
    "## Reduce"
   ]
  },
  {
   "cell_type": "code",
   "execution_count": 14,
   "id": "cc29272b",
   "metadata": {},
   "outputs": [
    {
     "data": {
      "text/plain": [
       "15"
      ]
     },
     "execution_count": 14,
     "metadata": {},
     "output_type": "execute_result"
    }
   ],
   "source": [
    "import functools\n",
    "\n",
    "functools.reduce(lambda x,y:x+y,[1,2,3,4,5])"
   ]
  },
  {
   "cell_type": "code",
   "execution_count": 16,
   "id": "dac34c7d",
   "metadata": {},
   "outputs": [
    {
     "data": {
      "text/plain": [
       "1"
      ]
     },
     "execution_count": 16,
     "metadata": {},
     "output_type": "execute_result"
    }
   ],
   "source": [
    "functools.reduce(lambda x,y:x if x<y else y,[12,23,1,44,50])"
   ]
  },
  {
   "cell_type": "code",
   "execution_count": 17,
   "id": "ee342b6b",
   "metadata": {},
   "outputs": [
    {
     "data": {
      "text/plain": [
       "50"
      ]
     },
     "execution_count": 17,
     "metadata": {},
     "output_type": "execute_result"
    }
   ],
   "source": [
    "functools.reduce(lambda x,y:x if x>y else y,[12,23,1,44,50])"
   ]
  },
  {
   "cell_type": "code",
   "execution_count": null,
   "id": "d2a3bfa7",
   "metadata": {},
   "outputs": [],
   "source": []
  }
 ],
 "metadata": {
  "kernelspec": {
   "display_name": "Python 3 (ipykernel)",
   "language": "python",
   "name": "python3"
  },
  "language_info": {
   "codemirror_mode": {
    "name": "ipython",
    "version": 3
   },
   "file_extension": ".py",
   "mimetype": "text/x-python",
   "name": "python",
   "nbconvert_exporter": "python",
   "pygments_lexer": "ipython3",
   "version": "3.10.9"
  }
 },
 "nbformat": 4,
 "nbformat_minor": 5
}
