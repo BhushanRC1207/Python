{
 "cells": [
  {
   "cell_type": "markdown",
   "id": "57b572ce",
   "metadata": {},
   "source": [
    "# Tuple"
   ]
  },
  {
   "cell_type": "markdown",
   "id": "059dfdb7",
   "metadata": {},
   "source": [
    "### Q1: Join Tuples if similar initial element\n",
    "While working with Python tuples, we can have a problem in which we need to perform concatenation of records from the similarity of initial element. This problem can have applications in data domains such as Data Science.\n",
    "\n",
    "For eg.\n",
    "\n",
    "Input  : test_list = [(5, 6), (5, 7), (5, 8), (6, 10), (7, 13)] \n",
    "Output : [(5, 6, 7, 8), (6, 10), (7, 13)] "
   ]
  },
  {
   "cell_type": "code",
   "execution_count": 15,
   "id": "b03f96a2",
   "metadata": {},
   "outputs": [
    {
     "name": "stdout",
     "output_type": "stream",
     "text": [
      "[(5, 6, 7, 8), (6, 10), (7, 13)]\n"
     ]
    }
   ],
   "source": [
    "test_list = [(5, 6), (5, 7), (5, 8), (6, 10), (7, 13)]\n",
    "\n",
    "unique = []\n",
    "\n",
    "for i in test_list:\n",
    "  unique.append(i[0])\n",
    "unique = set(unique)\n",
    "\n",
    "result = []\n",
    "for i in unique:\n",
    "  result.append([i])\n",
    "  for j in test_list:\n",
    "    if j[0] == i:\n",
    "      result[-1].append(j[1])\n",
    "\n",
    "print(list(map(tuple,result)))\n"
   ]
  },
  {
   "cell_type": "markdown",
   "id": "e58d0921",
   "metadata": {},
   "source": [
    "### Q2: Multiply Adjacent elements (both side) and take sum of right and lest side multiplication result.\n",
    "For eg.\n",
    "\n",
    "The original tuple : (1, 5, 7, 8, 10)\n",
    "Resultant tuple after multiplication : \n",
    "\n",
    "(1*5, 1*5+5*7, 7*5 + 7*8, 8*7 + 8*10, 10*8) -> (5, 40, 91, 136, 80)\n",
    "\n",
    "output-(5, 40, 91, 136, 80)"
   ]
  },
  {
   "cell_type": "code",
   "execution_count": 16,
   "id": "beb4a62c",
   "metadata": {},
   "outputs": [
    {
     "name": "stdout",
     "output_type": "stream",
     "text": [
      "(5, 40, 91, 136, 80)\n"
     ]
    }
   ],
   "source": [
    "t = (1, 5, 7, 8, 10)\n",
    "\n",
    "L = []\n",
    "\n",
    "L.append(t[0]*t[1])\n",
    "\n",
    "for i in range(1,len(t)-1):\n",
    "  L.append(t[i]*t[i-1] + t[i]*t[i+1])\n",
    "\n",
    "L.append(t[-1]*t[-2])\n",
    "\n",
    "print(tuple(L))"
   ]
  },
  {
   "cell_type": "markdown",
   "id": "57762320",
   "metadata": {},
   "source": [
    "### Q3: Check is tuples are same or not?\n",
    "Two tuples would be same if both tuples have same element at same index\n",
    "\n",
    "t1 = (1,2,3,0)\n",
    "t2 = (0,1,2,3)\n",
    "\n",
    "t1 and t2 are not same"
   ]
  },
  {
   "cell_type": "code",
   "execution_count": 12,
   "id": "14a56274",
   "metadata": {},
   "outputs": [
    {
     "name": "stdout",
     "output_type": "stream",
     "text": [
      "same\n"
     ]
    }
   ],
   "source": [
    "t1 = (1,2,3,0)\n",
    "t2 = (1,2,3,0)\n",
    "\n",
    "flag = True\n",
    "\n",
    "for i,j in zip(t1,t2):\n",
    "  if i == j:\n",
    "    continue\n",
    "  else:\n",
    "    flag = False\n",
    "    break\n",
    "    \n",
    "if flag:\n",
    "  print('same')\n",
    "else:\n",
    "  print('not same')"
   ]
  },
  {
   "cell_type": "markdown",
   "id": "971ef1af",
   "metadata": {},
   "source": [
    "### Q4: Count no of tuples, list and set from a list\n",
    "list1 = [{'hi', 'bye'},{'Geeks', 'forGeeks'},('a', 'b'),['hi', 'bye'],['a', 'b']]\n",
    "Output:\n",
    "\n",
    "List-2\n",
    "Set-2\n",
    "Tuples-1"
   ]
  },
  {
   "cell_type": "code",
   "execution_count": 17,
   "id": "dfc81ff8",
   "metadata": {},
   "outputs": [
    {
     "name": "stdout",
     "output_type": "stream",
     "text": [
      "Lists-2\n",
      "Sets-2\n",
      "Tuples-1\n"
     ]
    }
   ],
   "source": [
    "L = [{'hi', 'bye'},{'Geeks', 'forGeeks'},('a', 'b'),['hi', 'bye'],['a', 'b']]\n",
    "output = [0,0,0]\n",
    "\n",
    "for i in L:\n",
    "  if type(i) == list:\n",
    "    output[0] = output[0] + 1\n",
    "  elif type(i) == set:\n",
    "    output[1] = output[1] + 1\n",
    "  elif type(i) == tuple:\n",
    "    output[2] = output[2] + 1\n",
    "  else:\n",
    "    pass\n",
    "\n",
    "print('Lists-{}\\nSets-{}\\nTuples-{}'.format(output[0],output[1],output[2]))"
   ]
  },
  {
   "cell_type": "markdown",
   "id": "8a6aadd2",
   "metadata": {},
   "source": [
    "### `Q5`: Shortlist Students for a Job role\n",
    "Ask user to input students record and store in tuples for each record. Then Ask user to input three things he wants in the candidate- Primary Skill, Higher Education, Year of Graduation.\n",
    "\n",
    "Show every students record in form of tuples if matches all required criteria.\n",
    "\n",
    "It is assumed that there will be only one primry skill.\n",
    "\n",
    "If no such candidate found, print `No such candidate`\n",
    "\n",
    "`Input:`\n",
    "```\n",
    "Enter No of records- 2\n",
    "Enter Details of student-1\n",
    "Enter Student name- Manohar\n",
    "Enter Higher Education- B.Tech\n",
    "Enter Primary Skill- Python\n",
    "Enter Year of Graduation- 2022\n",
    "Enter Details of student-2\n",
    "Enter Student name- Ponian\n",
    "Enter Higher Education- B.Sc.\n",
    "Enter Primary Skill- C++\n",
    "Enter Year of Graduation- 2020\n",
    "\n",
    "Enter Job Role Requirement\n",
    "Enter Skill- Python\n",
    "Enter Higher Education- B.Tech\n",
    "Enter Year of Graduation- 2022\n",
    "```\n",
    "\n",
    "`Output`\n",
    "```\n",
    "('Manohar', 'B.tech', 'Python', '2022')\n",
    "```\n"
   ]
  },
  {
   "cell_type": "code",
   "execution_count": 14,
   "id": "41fcc88e",
   "metadata": {},
   "outputs": [
    {
     "name": "stdout",
     "output_type": "stream",
     "text": [
      "enter the number of applicants2\n",
      "Enter details of 1 applicant:\n",
      "enter nameBhushan\n",
      "enter higher educationB.E.\n",
      "enter primary skillPython\n",
      "enter year of graduation2025\n",
      "Enter details of 2 applicant:\n",
      "enter nameShubham\n",
      "enter higher educationB.Tech\n",
      "enter primary skillPython\n",
      "enter year of graduation2027\n",
      "enter required skillPython\n",
      "enter required higher educationB.E.\n",
      "enter required year of graduation2025\n",
      "('Bhushan', 'B.E.', 'Python', '2025')\n"
     ]
    }
   ],
   "source": [
    "students = []\n",
    "\n",
    "num = int(input('enter the number of applicants'))\n",
    "\n",
    "for i in range(num):\n",
    "  print('Enter details of',i+1,'applicant:')\n",
    "  name = input('enter name')\n",
    "  h_ed = input('enter higher education')\n",
    "  p_skill = input('enter primary skill')\n",
    "  yog = input('enter year of graduation')\n",
    "\n",
    "  students.append((name,h_ed,p_skill,yog))\n",
    "\n",
    "required_skill = input('enter required skill')\n",
    "required_hed = input('enter required higher education')\n",
    "required_yog = input('enter required year of graduation')\n",
    "\n",
    "flag = False\n",
    "for i in students:\n",
    "  if i[1] == required_hed and i[2] == required_skill and i[3] == required_yog:\n",
    "    print(i)\n",
    "    flag = True\n",
    "\n",
    "if flag == False:\n",
    "  print('No such candidates')"
   ]
  },
  {
   "cell_type": "markdown",
   "id": "6fc436d2",
   "metadata": {},
   "source": [
    "# Set"
   ]
  },
  {
   "cell_type": "markdown",
   "id": "c8992e3a",
   "metadata": {},
   "source": [
    "### Q1: Write a program to find set of common elements in three lists using sets.\n",
    "Input : ar1 = [1, 5, 10, 20, 40, 80]\n",
    "        ar2 = [6, 7, 20, 80, 100]\n",
    "        ar3 = [3, 4, 15, 20, 30, 70, 80, 120]\n",
    "\n",
    "Output : [80, 20]"
   ]
  },
  {
   "cell_type": "code",
   "execution_count": 18,
   "id": "9c126b47",
   "metadata": {},
   "outputs": [
    {
     "name": "stdout",
     "output_type": "stream",
     "text": [
      "[80, 20]\n"
     ]
    }
   ],
   "source": [
    "ar1 = [1, 5, 10, 20, 40, 80]\n",
    "ar2 = [6, 7, 20, 80, 100]\n",
    "ar3 = [3, 4, 15, 20, 30, 70, 80, 120]\n",
    "\n",
    "s1 = set(ar1)\n",
    "s2 = set(ar2)\n",
    "s3 = set(ar3)\n",
    "\n",
    "result = list((s1 & s2) & s3)\n",
    "print(result)"
   ]
  },
  {
   "cell_type": "markdown",
   "id": "c771b14e",
   "metadata": {},
   "source": [
    "### Q2: Write a program to count unique number of vowels using sets in a given string. Lowercase and upercase vowels will be taken as different.\n",
    "Input:\n",
    "\n",
    "Str1 = \"hands-on data science mentorship progrAm with live classes at affordable fee only on CampusX\"\n",
    "Output:\n",
    "\n",
    "No of unique vowels-6"
   ]
  },
  {
   "cell_type": "code",
   "execution_count": 22,
   "id": "a0b73b23",
   "metadata": {},
   "outputs": [
    {
     "name": "stdout",
     "output_type": "stream",
     "text": [
      "No of unique vowels- 6\n"
     ]
    }
   ],
   "source": [
    "vowels = set('aeiouAEIOU')\n",
    "\n",
    "s = set(\"hands-on data science mentorship progrAm with live classes at affordable fee only on CampusX\")\n",
    "\n",
    "print('No of unique vowels-',len(s & vowels))"
   ]
  },
  {
   "cell_type": "markdown",
   "id": "8268c24b",
   "metadata": {},
   "source": [
    "### Q3: Write a program to Check if a given string is binary string of or not.\n",
    "A string is said to be binary if it's consists of only two unique characters.\n",
    "\n",
    "Take string input from user.\n",
    "\n",
    "Input: str = \"01010101010\"\n",
    "Output: Yes\n",
    "\n",
    "Input: str = \"1222211\"\n",
    "Output: Yes\n",
    "\n",
    "Input: str = \"Campusx\"\n",
    "Output: No"
   ]
  },
  {
   "cell_type": "code",
   "execution_count": 25,
   "id": "f9241f6c",
   "metadata": {},
   "outputs": [
    {
     "name": "stdout",
     "output_type": "stream",
     "text": [
      "binary\n"
     ]
    }
   ],
   "source": [
    "s = \"01010101010\"\n",
    "\n",
    "if len(set(s)) == 2:\n",
    "  print('binary')\n",
    "else:\n",
    "  print('not binary')"
   ]
  },
  {
   "cell_type": "code",
   "execution_count": 28,
   "id": "7f9c94e2",
   "metadata": {},
   "outputs": [
    {
     "name": "stdout",
     "output_type": "stream",
     "text": [
      "Enter input to check it is binary or not: 123\n",
      "not binary\n"
     ]
    }
   ],
   "source": [
    "s =input(\"Enter input to check it is binary or not: \")\n",
    "\n",
    "if len(set(s)) == 2:\n",
    "  print('binary')\n",
    "else:\n",
    "  print('not binary')"
   ]
  },
  {
   "cell_type": "markdown",
   "id": "9b24a364",
   "metadata": {},
   "source": [
    "### `Q4`: find union of n arrays.\n",
    "\n",
    "**Example 1:**\n",
    "\n",
    "Input:\n",
    "```bash\n",
    "[[1, 2, 2, 4, 3, 6],\n",
    " [5, 1, 3, 4],\n",
    " [9, 5, 7, 1],\n",
    " [2, 4, 1, 3]]\n",
    "```\n",
    "\n",
    "Output:\n",
    "\n",
    "```bash\n",
    "[1, 2, 3, 4, 5, 6, 7, 9]\n",
    "```"
   ]
  },
  {
   "cell_type": "code",
   "execution_count": 29,
   "id": "1297b7ca",
   "metadata": {},
   "outputs": [
    {
     "name": "stdout",
     "output_type": "stream",
     "text": [
      "{1, 2, 3, 4, 5, 6, 7, 9}\n"
     ]
    }
   ],
   "source": [
    "L = [[1, 2, 2, 4, 3, 6],\n",
    " [5, 1, 3, 4],\n",
    " [9, 5, 7, 1],\n",
    " [2, 4, 1, 3]]\n",
    "\n",
    "s = set()\n",
    "\n",
    "for i in L:\n",
    "  s.update(i)\n",
    "\n",
    "print(s)"
   ]
  },
  {
   "cell_type": "markdown",
   "id": "abbbdd72",
   "metadata": {},
   "source": [
    "### `Q5`: Intersection of two lists. Intersection of two list means we need to take all those elements which are common to both of the initial lists and store them into another list. Only use using **list-comprehension**.\n",
    "\n",
    "**Example 1:**\n",
    "\n",
    "Input:\n",
    "```bash\n",
    "lst1 = {15, 9, 10, 56, 23, 78, 5, 4, 9}\n",
    "lst2 = {9, 4, 5, 36, 47, 26, 10, 45, 87}\n",
    "```\n",
    "\n",
    "Output:\n",
    "```bash\n",
    "[9, 10, 4, 5]\n",
    "```\n",
    "\n",
    "**Example 2:**\n",
    "\n",
    "Input:\n",
    "```bash\n",
    "lst1 = {4, 9, 1, 17, 11, 26, 28, 54, 69}\n",
    "lst2 = {9, 9, 74, 21, 45, 11, 63, 28, 26}\n",
    "```\n",
    "\n",
    "Output:\n",
    "```bash\n",
    "[9, 11, 26, 28]\n",
    "```"
   ]
  },
  {
   "cell_type": "code",
   "execution_count": 30,
   "id": "ae4dd4e5",
   "metadata": {},
   "outputs": [
    {
     "data": {
      "text/plain": [
       "[4, 5, 9, 10]"
      ]
     },
     "execution_count": 30,
     "metadata": {},
     "output_type": "execute_result"
    }
   ],
   "source": [
    "lst1 = {15, 9, 10, 56, 23, 78, 5, 4, 9}\n",
    "lst2 = {9, 4, 5, 36, 47, 26, 10, 45, 87}\n",
    "\n",
    "[item for item in lst1 if item in lst2]"
   ]
  },
  {
   "cell_type": "markdown",
   "id": "e0bad2ed",
   "metadata": {},
   "source": [
    "# Dictionary"
   ]
  },
  {
   "cell_type": "markdown",
   "id": "1062377e",
   "metadata": {},
   "source": [
    "### `Q1`: Key with maximum unique values\n",
    "\n",
    "Given a dictionary with values list, extract key whose value has most unique values.\n",
    "\n",
    "**Example 1:**\n",
    "\n",
    "Input:\n",
    "\n",
    "```bash\n",
    "test_dict = {\"CampusX\" : [5, 7, 9, 4, 0], \"is\" : [6, 7, 4, 3, 3], \"Best\" : [9, 9, 6, 5, 5]}\n",
    "```\n",
    "\n",
    "Output:\n",
    "```bash\n",
    "CampusX\n",
    "```\n",
    "\n",
    "**Example 2:**\n",
    "\n",
    "Input:\n",
    "```bash\n",
    "test_dict = {\"CampusX\" : [5, 7, 7, 7, 7], \"is\" : [6, 7, 7, 7], \"Best\" : [9, 9, 6, 5, 5]}\n",
    "```\n",
    "\n",
    "Output:\n",
    "```bash\n",
    "Best\n",
    "```"
   ]
  },
  {
   "cell_type": "code",
   "execution_count": 31,
   "id": "06d1d167",
   "metadata": {},
   "outputs": [
    {
     "name": "stdout",
     "output_type": "stream",
     "text": [
      "Best\n"
     ]
    }
   ],
   "source": [
    "test_dict = {\"CampusX\" : [5, 7, 7, 7, 7], \"is\" : [6, 7, 7, 7], \"Best\" : [9, 9, 6, 5, 5]}\n",
    "\n",
    "max_val = 0\n",
    "max_key = ''\n",
    "for i in test_dict:\n",
    "  if max_val < len(set(test_dict[i])):\n",
    "    max_val = len(set(test_dict[i]))\n",
    "    max_key = i\n",
    "\n",
    "print(max_key)"
   ]
  },
  {
   "cell_type": "markdown",
   "id": "34eb0355",
   "metadata": {},
   "source": [
    "### `Q2`: Replace words from Dictionary. Given String, replace it’s words from lookup dictionary.\n",
    "\n",
    "**Example 1:**\n",
    "\n",
    "Input:\n",
    "\n",
    "```bash\n",
    "test_str = 'CampusX best for DS students.'\n",
    "repl_dict = {\"best\" : \"is the best channel\", \"DS\" : \"Data-Science\"}\n",
    "```\n",
    "\n",
    "Output:\n",
    "\n",
    "```bash\n",
    "CampusX is the best channel for Data-Science students.\n",
    "```\n",
    "\n",
    "**Example 2:**\n",
    "\n",
    "Input:\n",
    "```bash\n",
    "test_str = 'CampusX best for DS students.'\n",
    "repl_dict = {\"good\" : \"is the best channel\", \"ds\" : \"Data-Science\"}\n",
    "```\n",
    "\n",
    "Output:\n",
    "```bash\n",
    "CampusX best for DS students.\n",
    "```"
   ]
  },
  {
   "cell_type": "code",
   "execution_count": 32,
   "id": "02cea843",
   "metadata": {},
   "outputs": [
    {
     "name": "stdout",
     "output_type": "stream",
     "text": [
      "CampusX is the best channel for Data-Science students.\n"
     ]
    }
   ],
   "source": [
    "test_str = 'CampusX best for DS students.'\n",
    "repl_dict = {\"best\" : \"is the best channel\", \"DS\" : \"Data-Science\"}\n",
    "\n",
    "res = []\n",
    "for i in test_str.split():\n",
    "  if i in repl_dict:\n",
    "    res.append(repl_dict[i])\n",
    "  else:\n",
    "    res.append(i)\n",
    "\n",
    "print(\" \".join(res))"
   ]
  },
  {
   "cell_type": "markdown",
   "id": "b89c9fdc",
   "metadata": {},
   "source": [
    "### `Q3`: Convert List to List of dictionaries. Given list values and keys list, convert these values to key value pairs in form of list of dictionaries.\n",
    "\n",
    "**Example 1:**\n",
    "\n",
    "Input:\n",
    "```bash\n",
    "test_list = [\"DataScience\", 3, \"is\", 8]\n",
    "key_list = [\"name\", \"id\"]\n",
    "```\n",
    "\n",
    "Output:\n",
    "\n",
    "```bash\n",
    "[{'name': 'DataScience', 'id': 3}, {'name': 'is', 'id': 8}]\n",
    "```\n",
    "\n",
    "**Example 2:**\n",
    "\n",
    "Input:\n",
    "```bash\n",
    "test_list = [\"CampusX\", 10]\n",
    "key_list = [\"name\", \"id\"]\n",
    "```\n",
    "\n",
    "Output:\n",
    "\n",
    "```bash\n",
    "[{'name': 'CampusX', 'id': 10}]\n",
    "```"
   ]
  },
  {
   "cell_type": "code",
   "execution_count": 33,
   "id": "0a709b0d",
   "metadata": {},
   "outputs": [
    {
     "name": "stdout",
     "output_type": "stream",
     "text": [
      "[{'name': 'CampusX', 'id': 10}]\n"
     ]
    }
   ],
   "source": [
    "test_list = [\"CampusX\", 10]\n",
    "key_list = [\"name\", \"id\"]\n",
    "\n",
    "n = len(test_list)\n",
    "\n",
    "res = []\n",
    "\n",
    "for i in range(0,n,2):\n",
    "  res.append({key_list[0]: test_list[i],key_list[1]:test_list[i+1]})\n",
    "\n",
    "print(res)"
   ]
  },
  {
   "cell_type": "markdown",
   "id": "57dbf19a",
   "metadata": {},
   "source": [
    "### `Q4`: Convert a list of Tuples into Dictionary.\n",
    "\n",
    "**Example 1:**\n",
    "\n",
    "Input:\n",
    "```bash\n",
    "[(\"akash\", 10), (\"gaurav\", 12), (\"anand\", 14), (\"suraj\", 20), (\"akhil\", 25), (\"ashish\", 30)]\n",
    "```\n",
    "\n",
    "Output:\n",
    "```bash\n",
    "{'akash': [10], 'gaurav': [12], 'anand': [14], 'suraj': [20], 'akhil': [25], 'ashish': [30]}\n",
    "```\n",
    "\n",
    "**Example 2:**\n",
    "\n",
    "Input:\n",
    "```bash\n",
    "[('A', 1), ('B', 2), ('C', 3)]\n",
    "```\n",
    "\n",
    "Output:\n",
    "```bash\n",
    "{'A': [1], 'B': [2], 'C': [3]}\n",
    "```"
   ]
  },
  {
   "cell_type": "code",
   "execution_count": 34,
   "id": "8596c448",
   "metadata": {},
   "outputs": [
    {
     "name": "stdout",
     "output_type": "stream",
     "text": [
      "{'akash': [10], 'gaurav': [12], 'anand': [14], 'suraj': [20], 'akhil': [25], 'ashish': [30]}\n"
     ]
    }
   ],
   "source": [
    "L = [(\"akash\", 10), (\"gaurav\", 12), (\"anand\", 14), (\"suraj\", 20), (\"akhil\", 25), (\"ashish\", 30)]\n",
    "\n",
    "d = {}\n",
    "for i,j in L:\n",
    "  d[i] = [j]\n",
    "\n",
    "print(d)"
   ]
  },
  {
   "cell_type": "markdown",
   "id": "a1590ebd",
   "metadata": {},
   "source": [
    "### `Q5`: Sort Dictionary key and values List.\n",
    "\n",
    "**Example 1:**\n",
    "\n",
    "Input:\n",
    "\n",
    "```bash\n",
    "{'c': [3], 'b': [12, 10], 'a': [19, 4]}\n",
    "```\n",
    "\n",
    "Output:\n",
    "\n",
    "```bash\n",
    "{'a': [4, 19], 'b': [10, 12], 'c': [3]}\n",
    "```\n",
    "\n",
    "**Example 2:**\n",
    "\n",
    "Input:\n",
    "\n",
    "```bash\n",
    "{'c': [10, 34, 3]}\n",
    "```\n",
    "\n",
    "Output:\n",
    "\n",
    "```bash\n",
    "{'c': [3, 10, 34]}\n",
    "```"
   ]
  },
  {
   "cell_type": "code",
   "execution_count": 35,
   "id": "eeaa99bb",
   "metadata": {},
   "outputs": [
    {
     "name": "stdout",
     "output_type": "stream",
     "text": [
      "{'a': [4, 19], 'b': [10, 12], 'c': [3]}\n"
     ]
    }
   ],
   "source": [
    "d = {'c': [3], 'b': [12, 10], 'a': [19, 4]}\n",
    "\n",
    "res = {}\n",
    "\n",
    "for i in sorted(d):\n",
    "  res[i] = sorted(d[i])\n",
    "\n",
    "print(res)"
   ]
  },
  {
   "cell_type": "code",
   "execution_count": null,
   "id": "8545dbbf",
   "metadata": {},
   "outputs": [],
   "source": []
  }
 ],
 "metadata": {
  "kernelspec": {
   "display_name": "Python 3 (ipykernel)",
   "language": "python",
   "name": "python3"
  },
  "language_info": {
   "codemirror_mode": {
    "name": "ipython",
    "version": 3
   },
   "file_extension": ".py",
   "mimetype": "text/x-python",
   "name": "python",
   "nbconvert_exporter": "python",
   "pygments_lexer": "ipython3",
   "version": "3.10.9"
  }
 },
 "nbformat": 4,
 "nbformat_minor": 5
}
